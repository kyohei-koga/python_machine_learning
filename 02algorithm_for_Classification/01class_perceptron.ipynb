{
 "cells": [
  {
   "cell_type": "markdown",
   "metadata": {},
   "source": [
    "# 2.1　人工ニューロンー機械学習の前史\n",
    "- 問題を二値分類タスクとして捉える\n",
    "- 活性化関数$\\phi(z)$を定義できる。$z$は総入力である。\n",
    "- この関数は、特定の入力値$\\vec{x}$と対応する重みベクトル$\\vec{w}$の線形結合を因数として受け取る\n",
    "$$\\vec{w} = \\left( \\begin{array}{cc} w_{1}\\\\ \\vdots \\\\ w_{m}\\\\ \\end{array} \\right), \\vec{x} = \\left( \\begin{array}{cc} x_{1}\\\\ \\vdots \\\\ x_{m}\\\\ \\end{array} \\right)$$\n",
    "\n",
    "$$ \\phi(z) = \\left\\{ \\begin{array}{l} 1 ~~~~~ (z \\geq \\theta) \\\\ -1 ~~~ (z < \\theta) \\end{array} \\right. $$\n",
    "\n",
    "- 閾値$\\theta$を左辺に移動するために、インデックス0の重みを$w_{0}=-\\theta$及び$x_{0}=1$として定義する。\n",
    "\n",
    "$$z = w_{0}x_{0}+w_{1}x_{1}+\\vdots+w_{m}x_{m} = \\vec{w}^{T}\\vec{x} ~~ and ~~ \\phi(z) = \\left\\{ \\begin{array}{l} 1 ~~~~~ (z \\geq 0) \\\\ -1 ~~~ (z < 0) \\end{array} \\right.$$"
   ]
  },
  {
   "cell_type": "markdown",
   "metadata": {},
   "source": [
    "- パーセプトロンの初期の学習規則はきわめて単純で以下の手順\n",
    "\n",
    "1.重みを0または値の小さい乱数で初期化する\n",
    "\n",
    "2.トレーニングサンプル$\\vec{x}^{(i)}$ごとに以下の手順を実行する。\n",
    "\n",
    "①出力値$\\hat{y}$を計算する\n",
    "\n",
    "②重みを更新する\n",
    "\n",
    "- $\\eta$は学習率（0より大きく、1より小さい）\n",
    "- 重み$w_{j}$がすべて更新されるまでは$\\hat{y}^{(i)}$は再計算されない\n",
    "$$w_{j} := w_{j}+\\Delta w_{j}$$\n",
    "$$\\Delta w_{j} = \\eta (y^{(i)} - \\hat{y}^{(i)})x_{j}^{(i)}$$\n",
    "\n",
    "### ※以下手書き計算で確認してください。\n",
    "予測が間違っていた場合で、かつ$x^{(i)}_{j}>0$の場合、予測が+1だった場合は重みは減少する方向に更新される。予測が-1の場合は重みが増加する方向に更新される。\n",
    "\n",
    "- パーセプトロンの収束が保証されるのは、２つのクラスが線形分離可能で、学習率が十分に小さい場合に限られる。"
   ]
  },
  {
   "cell_type": "markdown",
   "metadata": {},
   "source": [
    "# 2.2 パーセプトロンの学習アルゴリズムをpythonで実装する。\n",
    "- Irisデータセットに適用してみる"
   ]
  },
  {
   "cell_type": "code",
   "execution_count": 1,
   "metadata": {
    "collapsed": true
   },
   "outputs": [],
   "source": [
    "import numpy as np\n",
    "\n",
    "class Perceptron(object):\n",
    "    \"\"\"パーセプトロン分類器\n",
    "    \n",
    "    パラメータ\n",
    "    ------------\n",
    "    eta:float\n",
    "        学習率（0.0> & <1.0）\n",
    "    n_iter:int\n",
    "        トレーニングデータのトレーニング回数\n",
    "    \n",
    "    属性\n",
    "    ------------\n",
    "    w_：１次元配列\n",
    "        適合後の重みベクトル\n",
    "    errors_：リスト\n",
    "        各エポックでの誤分類数\n",
    "    \"\"\"\n",
    "\n",
    "    def __init__(self,eta=0.01,n_iter=10):\n",
    "        self.eta = eta\n",
    "        self.n_iter = n_iter\n",
    "    \n",
    "    def fit(self,X,y):\n",
    "        \"\"\"トレーニングデータに適合させる\n",
    "        \n",
    "        パラメータ\n",
    "        ---------------\n",
    "        X：{配列のようなデータ構造},shape = {n_samples,n_features}\n",
    "            トレーニングデータ(説明変数)\n",
    "            n_samplesはサンプルの個数,n_featuresは特徴量の個数\n",
    "        y：配列のようなデータ構造,shape = [n_samples]\n",
    "            目的変数\n",
    "        \n",
    "        戻り値\n",
    "        ---------------\n",
    "        self：object\n",
    "        \n",
    "        \"\"\"\n",
    "        self.w_ = np.zeros(1 + X.shape[1])\n",
    "        self.errors_ = []\n",
    "        \n",
    "        for _ in range(self.n_iter): #トレーニング回数分トレーニングデータを反復\n",
    "            errors = 0\n",
    "            for xi,target in zip(X,y):\n",
    "                #重み wベクトルの更新（w0以外）\n",
    "                # ⊿wj = η(y(i)-y_predict(i)) * xj(i) jは特徴量の数,iはデータの数に対応\n",
    "                update = self.eta * (target - self.predict(xi))\n",
    "                self.w_[1:] += update * xi #w0はここでは更新しない\n",
    "                #重みw0の更新：⊿w0=η(y(i)-y_predict(i)) \n",
    "                self.w_[0] += update\n",
    "                # 重みの更新がゼロでない場合は誤分類としてカウント\n",
    "                errors += int(update != 0.0)\n",
    "            # 反復回数毎の誤差を格納\n",
    "            self.errors_.append(errors)\n",
    "        return self\n",
    "    \n",
    "    def net_input(self,X):\n",
    "        \"\"\"総出力を計算\"\"\"\n",
    "        return np.dot(X,self.w_[1:]) + self.w_[0] #outputはn_sample×1\n",
    "    \n",
    "    def predict(self,X):\n",
    "        \"\"\"1ステップ後のクラスラベルを返す\"\"\"\n",
    "        return np.where(self.net_input(X) >= 0.0 ,1 ,-1)"
   ]
  },
  {
   "cell_type": "markdown",
   "metadata": {},
   "source": [
    "# 2.3 Irisデータセットでのパーセプトロンモデルのトレーニング\n",
    "- がく辺の長さと花びらの長さの２つの特徴量のみを対象とする。\n",
    "- 二次元のデータセットの決定境界を可視化する。"
   ]
  },
  {
   "cell_type": "code",
   "execution_count": 2,
   "metadata": {
    "collapsed": false
   },
   "outputs": [
    {
     "data": {
      "text/html": [
       "<div>\n",
       "<table border=\"1\" class=\"dataframe\">\n",
       "  <thead>\n",
       "    <tr style=\"text-align: right;\">\n",
       "      <th></th>\n",
       "      <th>0</th>\n",
       "      <th>1</th>\n",
       "      <th>2</th>\n",
       "      <th>3</th>\n",
       "      <th>4</th>\n",
       "    </tr>\n",
       "  </thead>\n",
       "  <tbody>\n",
       "    <tr>\n",
       "      <th>145</th>\n",
       "      <td>6.7</td>\n",
       "      <td>3.0</td>\n",
       "      <td>5.2</td>\n",
       "      <td>2.3</td>\n",
       "      <td>Iris-virginica</td>\n",
       "    </tr>\n",
       "    <tr>\n",
       "      <th>146</th>\n",
       "      <td>6.3</td>\n",
       "      <td>2.5</td>\n",
       "      <td>5.0</td>\n",
       "      <td>1.9</td>\n",
       "      <td>Iris-virginica</td>\n",
       "    </tr>\n",
       "    <tr>\n",
       "      <th>147</th>\n",
       "      <td>6.5</td>\n",
       "      <td>3.0</td>\n",
       "      <td>5.2</td>\n",
       "      <td>2.0</td>\n",
       "      <td>Iris-virginica</td>\n",
       "    </tr>\n",
       "    <tr>\n",
       "      <th>148</th>\n",
       "      <td>6.2</td>\n",
       "      <td>3.4</td>\n",
       "      <td>5.4</td>\n",
       "      <td>2.3</td>\n",
       "      <td>Iris-virginica</td>\n",
       "    </tr>\n",
       "    <tr>\n",
       "      <th>149</th>\n",
       "      <td>5.9</td>\n",
       "      <td>3.0</td>\n",
       "      <td>5.1</td>\n",
       "      <td>1.8</td>\n",
       "      <td>Iris-virginica</td>\n",
       "    </tr>\n",
       "  </tbody>\n",
       "</table>\n",
       "</div>"
      ],
      "text/plain": [
       "       0    1    2    3               4\n",
       "145  6.7  3.0  5.2  2.3  Iris-virginica\n",
       "146  6.3  2.5  5.0  1.9  Iris-virginica\n",
       "147  6.5  3.0  5.2  2.0  Iris-virginica\n",
       "148  6.2  3.4  5.4  2.3  Iris-virginica\n",
       "149  5.9  3.0  5.1  1.8  Iris-virginica"
      ]
     },
     "execution_count": 2,
     "metadata": {},
     "output_type": "execute_result"
    }
   ],
   "source": [
    "import pandas as pd\n",
    "df = pd.read_csv('https://archive.ics.uci.edu/ml/machine-learning-databases/iris/iris.data',header=None)\n",
    "df.tail()"
   ]
  },
  {
   "cell_type": "code",
   "execution_count": 3,
   "metadata": {
    "collapsed": false
   },
   "outputs": [
    {
     "name": "stderr",
     "output_type": "stream",
     "text": [
      "/home/kyohei/anaconda2/lib/python2.7/site-packages/matplotlib/font_manager.py:273: UserWarning: Matplotlib is building the font cache using fc-list. This may take a moment.\n",
      "  warnings.warn('Matplotlib is building the font cache using fc-list. This may take a moment.')\n"
     ]
    },
    {
     "data": {
      "image/png": "[encoded data removed]",
      "text/plain": [
       "<matplotlib.figure.Figure at 0x7ff8bbe5c8d0>"
      ]
     },
     "metadata": {},
     "output_type": "display_data"
    }
   ],
   "source": [
    "import matplotlib.pyplot as plt\n",
    "%matplotlib inline\n",
    "#1-100行目の目的変数の抽出\n",
    "y = df.iloc[0:100,4].values\n",
    "\n",
    "#Iris-setosaを-1,Irsi-virginicaを1に変換\n",
    "y = np.where(y == 'Iris-setosa',-1,1)\n",
    "\n",
    "#説明変数の抽出\n",
    "X = df.iloc[:100,[0,2]].values\n",
    "\n",
    "plt.scatter(X[:50,0],X[:50,1],c='r',marker='o',label='setosa')\n",
    "plt.scatter(X[50:,0],X[50:,1],c='b',marker='x',label='versicolor')\n",
    "\n",
    "plt.xlabel('sepal length [cm]')\n",
    "plt.ylabel('petal length [cm]')\n",
    "plt.legend(loc='upper left')\n",
    "\n",
    "plt.show()"
   ]
  },
  {
   "cell_type": "code",
   "execution_count": 4,
   "metadata": {
    "collapsed": false
   },
   "outputs": [
    {
     "data": {
      "image/png": "[encoded data removed]",
      "text/plain": [
       "<matplotlib.figure.Figure at 0x7ff8b2c26a10>"
      ]
     },
     "metadata": {},
     "output_type": "display_data"
    }
   ],
   "source": [
    "#パーセプトロンオブジェクトの作成（インスタンス化）\n",
    "ppn = Perceptron(eta=0.1,n_iter=10)\n",
    "# トレーニングデータへのモデルの適合\n",
    "ppn.fit(X,y)\n",
    "#エポックと誤分類誤差の関係の折れ線グラフをプロット\n",
    "plt.plot(range(1,len(ppn.errors_)+1),ppn.errors_,marker='o')\n",
    "plt.xlabel('Epochs')\n",
    "plt.ylabel('Number of misclassifications')\n",
    "plt.show()"
   ]
  },
  {
   "cell_type": "code",
   "execution_count": 5,
   "metadata": {
    "collapsed": true
   },
   "outputs": [],
   "source": [
    "from matplotlib.colors import ListedColormap\n",
    "\n",
    "def plot_decision_regions(X,y,classifier,resolution=0.02):\n",
    "    \n",
    "    #マーカーとカラーマップの準備\n",
    "    markers = ('s','x','o','^','v')\n",
    "    colors = ('red','blue','lightgreen','gray','cyan')\n",
    "    cmap = ListedColormap(colors[:len(np.unique(y))])\n",
    "    \n",
    "    #決定領域のプロット\n",
    "    x1_min ,x1_max = X[:,0].min() - 1,X[:,0].max() + 1\n",
    "    x2_min ,x2_max = X[:,1].min() - 1,X[:,1].max() + 1\n",
    "    #グリッドポイントの生成\n",
    "    xx1,xx2 = np.meshgrid(np.arange(x1_min,x1_max,resolution),\n",
    "                          np.arange(x2_min,x2_max,resolution))\n",
    "    #各特徴量を１次元配列に変換して予測を実行\n",
    "    Z = classifier.predict(np.array([xx1.ravel(),xx2.ravel()]).T)\n",
    "    #予測結果を元のグリッドポイントのデータサイズに変換\n",
    "    Z = Z.reshape(xx1.shape)\n",
    "    #　グリッドポイントの等高線のプロット\n",
    "    plt.contourf(xx1,xx2,Z,alpha=0.4,cmap=cmap)\n",
    "    #軸の範囲の設定\n",
    "    plt.xlim(xx1.min(),xx1.max())\n",
    "    plt.ylim(xx2.min(),xx2.max())\n",
    "    \n",
    "    #クラスごとにサンプルをプロット\n",
    "    for idx,cl in enumerate(np.unique(y)):\n",
    "        plt.scatter(x=X[y == cl,0],y=X[y == cl,1],alpha=0.8,c=cmap(idx),marker=markers[idx],label=cl)\n",
    "        "
   ]
  },
  {
   "cell_type": "code",
   "execution_count": 6,
   "metadata": {
    "collapsed": false,
    "scrolled": true
   },
   "outputs": [
    {
     "data": {
      "image/png": "[encoded data removed]",
      "text/plain": [
       "<matplotlib.figure.Figure at 0x7ff8b26a7890>"
      ]
     },
     "metadata": {},
     "output_type": "display_data"
    }
   ],
   "source": [
    "#決定境界のプロット\n",
    "plot_decision_regions(X,y,classifier=ppn)\n",
    "plt.xlabel('sepal length [cm]')\n",
    "plt.ylabel('petal length [cm]')\n",
    "plt.legend(loc='upper left')\n",
    "plt.show()"
   ]
  }
 ],
 "metadata": {
  "anaconda-cloud": {},
  "kernelspec": {
   "display_name": "Python [default]",
   "language": "python",
   "name": "python2"
  },
  "language_info": {
   "codemirror_mode": {
    "name": "ipython",
    "version": 2
   },
   "file_extension": ".py",
   "mimetype": "text/x-python",
   "name": "python",
   "nbconvert_exporter": "python",
   "pygments_lexer": "ipython2",
   "version": "2.7.12"
  }
 },
 "nbformat": 4,
 "nbformat_minor": 0
}
