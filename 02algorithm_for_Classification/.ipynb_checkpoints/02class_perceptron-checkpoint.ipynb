{
 "cells": [
  {
   "cell_type": "markdown",
   "metadata": {},
   "source": [
    "# 2.4 ADALINEと学習の収束\n",
    "- ADALINEはパーセプトロンの改良とみなすことができる。\n",
    "- 学習規則は単位ステップ関数ではなく、線形活性化関数である。\n",
    "- ADALINEの線形活性化関数$\\phi(z)$は総入力の恒等関数であり$\\phi(\\vec{w}^{T} \\vec{x}) = \\vec{w}^{T} \\vec{x}$となる。\n",
    "- クラスラベルの予測には量子化器（ステップ関数）が用いられる\n",
    "- パーセプトロンと比較すると、モデルの誤差の計算と重みの更新に二値ラベルではなく、線形活性化関数からの連続地の出力を資料する。"
   ]
  },
  {
   "cell_type": "markdown",
   "metadata": {},
   "source": [
    "# 2.5 勾配降下法によるコスト関数の最小化\n",
    "- 教師あり機械学習のアルゴリズムを構成する主な要素の１つに、学習過程で最適化される目的関数を定義することがあり、その多くは、最小化したいコスト関数である。\n",
    "- ADALINEの場合ではコスト関数$J$が定義でき、計算結果と本当のクラスラベルとの誤差平方和である。\n",
    "$$J(\\vec{w}) = \\frac{1}{2} \\sum_{i} (y^{(i)}-\\phi(z^{(i)}))^{2}$$\n",
    "\n",
    "- 連続地の線形活性化関数の主な利点は、コスト関数が微分可能である点である。\n",
    "- もうひとつの特徴は凸関数であることであり、そのため、勾配降下法を利用することができる。\n",
    "- 勾配降下法の原理は、コストが最小値に達するまで坂を下るというものである。イテレーションのたびに進む距離は勾配の傾きと、学習率によって決まる。\n",
    "$$\\vec{w} := \\vec{w} + \\Delta \\vec{w}$$\n",
    "$$\\Delta \\vec{w} = -\\eta \\nabla J(\\vec{w})$$\n",
    "\n",
    "- コスト関数の勾配を計算するには、重み$w_{j}$毎にコスト関数の辺微分係数を計算する必要がある。\n",
    "$$\\frac{\\partial J}{\\partial w_{j}} = -\\sum_{i} (y^{(i)} - \\phi(z^{(i)}))x^{(i)}_{j}$$\n",
    "$$\\Delta w_{j} = -\\eta \\nabla J(\\vec{w}) = \\eta \\sum_{i} (y^{(i)} - \\phi(z^{(i)}))x^{(i)}_{j}$$\n",
    "\n",
    "- 重みの更新はトレーニングデータセットのすべてのサンプルに基づいて計算される。"
   ]
  },
  {
   "cell_type": "markdown",
   "metadata": {},
   "source": [
    "# 2.5.1 ADALINEを実装する"
   ]
  },
  {
   "cell_type": "code",
   "execution_count": 1,
   "metadata": {
    "collapsed": true
   },
   "outputs": [],
   "source": [
    "import numpy as np\n",
    "\n",
    "class AdalineGD(object):\n",
    "    '''Adaptive Linear Neuron分類器\n",
    "    \n",
    "    パラメータ\n",
    "    ---------\n",
    "    eta:float\n",
    "        学習率（0.0〜1.0）\n",
    "    n_iter:int\n",
    "        トレーニングデータのトレーニング回数\n",
    "    \n",
    "    属性\n",
    "    ---------\n",
    "    w_:一次元配列\n",
    "        適合後の重み\n",
    "    errors_:リスト\n",
    "        各エポックでの誤分類数\n",
    "    \n",
    "    '''\n",
    "    def __init__(self,eta=0.01,n_iter=50):\n",
    "        self.eta = eta\n",
    "        self.n_iter = n_iter\n",
    "    \n",
    "    def fit(self,X,y):\n",
    "        '''トレーニングデータに適合させる\n",
    "        \n",
    "        パラメータ\n",
    "        ---------\n",
    "        X:{配列のようなデータ構造},shape = [n_samples,n_features]\n",
    "            トレーニングデータ\n",
    "            n_samplesはサンプルの個数、n_featuresは特徴量の個数\n",
    "        y:配列のようなデータ構造、shape = [n_samples]\n",
    "            目的変数\n",
    "        \n",
    "        戻り値\n",
    "        ----------\n",
    "        self:object\n",
    "\n",
    "        '''\n",
    "        self.w_ = np.zeros(1 + X.shape[1])\n",
    "        self.cost_ = []\n",
    "        \n",
    "        for i in range(self.n_iter): #トレーニング回数分トレーニングデータを反復\n",
    "            # 活性化関数の出力の計算\n",
    "            output = self.net_input(X)\n",
    "            #誤差の計算\n",
    "            errors = (y - output)\n",
    "            #重みwの更新\n",
    "            self.w_[1:] += self.eta * X.T.dot(errors) #特徴行列と誤差ベクトルとの行列ベクトル積\n",
    "            #重みw0の更新\n",
    "            self.w_[0] += self.eta * errors.sum()\n",
    "            #コスト関数の計算\n",
    "            cost = (errors**2).sum() / 2.0\n",
    "            #コストの収納\n",
    "            self.cost_.append(cost)\n",
    "        \n",
    "        return self\n",
    "    \n",
    "    def net_input(self,X):\n",
    "        '''総入力を計算'''\n",
    "        return np.dot(X,self.w_[1:]) + self.w_[0]\n",
    "    \n",
    "    def activation(self,X):\n",
    "        '''線形活性化関数の出力を計算'''\n",
    "        return self.net_input(X)\n",
    "    \n",
    "    def predict(self,X):\n",
    "        '''1ステップ後のクラスラベルを返す'''\n",
    "        return np.where(self.activation(X)>=0.0,1,-1)"
   ]
  },
  {
   "cell_type": "markdown",
   "metadata": {},
   "source": [
    "- 収束に適した最適な学習率ηを見つけるためには、たいてい、ある程度の実験が必要となる。"
   ]
  },
  {
   "cell_type": "code",
   "execution_count": 2,
   "metadata": {
    "collapsed": false
   },
   "outputs": [
    {
     "name": "stderr",
     "output_type": "stream",
     "text": [
      "/home/kyohei/anaconda2/lib/python2.7/site-packages/matplotlib/font_manager.py:273: UserWarning: Matplotlib is building the font cache using fc-list. This may take a moment.\n",
      "  warnings.warn('Matplotlib is building the font cache using fc-list. This may take a moment.')\n"
     ]
    }
   ],
   "source": [
    "import pandas as pd\n",
    "df = pd.read_csv('https://archive.ics.uci.edu/ml/machine-learning-databases/iris/iris.data',header=None)\n",
    "\n",
    "import matplotlib.pyplot as plt\n",
    "%matplotlib inline\n",
    "#1-100行目の目的変数の抽出\n",
    "y = df.iloc[0:100,4].values\n",
    "\n",
    "#Iris-setosaを-1,Irsi-virginicaを1に変換\n",
    "y = np.where(y == 'Iris-setosa',-1,1)\n",
    "\n",
    "#説明変数の抽出\n",
    "X = df.iloc[:100,[0,2]].values"
   ]
  },
  {
   "cell_type": "code",
   "execution_count": 3,
   "metadata": {
    "collapsed": false
   },
   "outputs": [
    {
     "data": {
      "image/png": "[encoded data removed]",
      "text/plain": [
       "<matplotlib.figure.Figure at 0x7fbca3ef2750>"
      ]
     },
     "metadata": {},
     "output_type": "display_data"
    }
   ],
   "source": [
    "#描画領域を１行２列に分割\n",
    "fig,ax = plt.subplots(nrows=1,ncols=2,figsize=(8,4))\n",
    "#勾配降下法によるADALINEの学習\n",
    "ada1 = AdalineGD(n_iter=10,eta=0.01).fit(X,y)\n",
    "#エポック数とコストの関係を表す折れ線グラフのプロット（縦軸常用対数）\n",
    "ax[0].plot(range(1,len(ada1.cost_)+1),np.log10(ada1.cost_),marker='o')\n",
    "\n",
    "ax[0].set_xlabel('Epochs')\n",
    "ax[0].set_ylabel('log(Sum-squared-error)')\n",
    "ax[0].set_title('Adaline - Learning rate 0.01')\n",
    "\n",
    "ada2 = AdalineGD(n_iter=10,eta=0.0001).fit(X,y)\n",
    "#エポック数とコストの関係を表す折れ線グラフのプロット（縦軸常用対数）\n",
    "ax[1].plot(range(1,len(ada2.cost_)+1),np.log10(ada2.cost_),marker='o')\n",
    "\n",
    "ax[1].set_xlabel('Epochs')\n",
    "ax[1].set_ylabel('log(Sum-squared-error)')\n",
    "ax[1].set_title('Adaline - Learning rate 0.0001')\n",
    "\n",
    "plt.show()"
   ]
  },
  {
   "cell_type": "markdown",
   "metadata": {},
   "source": [
    "- 左の図は学習率が大きすぎて、大局的最小値を超えてしまっている。\n",
    "- 右の図はコストが減少しているが、学習率が小さすぎるため、アルゴリズムを収束させるために相当なエポック数が必要となる。"
   ]
  },
  {
   "cell_type": "markdown",
   "metadata": {},
   "source": [
    "- 機械学習のさまざまなアルゴリズムは、最適なパフォーマンスを実現するため何らかの特徴量のスケーリング必要とする。\n",
    "- 標準化というスケーリング手法をここでは用いる。\n",
    "$$x^{'}_{j} = \\frac{x_{j}-\\mu_{j}}{\\sigma_{j}}$$"
   ]
  },
  {
   "cell_type": "code",
   "execution_count": 4,
   "metadata": {
    "collapsed": false
   },
   "outputs": [],
   "source": [
    "#データのコピー(別のオブジェクトを作成)\n",
    "X_std = np.copy(X)\n",
    "\n",
    "X_std[:,0] = (X[:,0] - X[:,0].mean()) / X[:,0].std()\n",
    "X_std[:,1] = (X[:,1] - X[:,1].mean()) / X[:,1].std()"
   ]
  },
  {
   "cell_type": "code",
   "execution_count": 7,
   "metadata": {
    "collapsed": false,
    "scrolled": false
   },
   "outputs": [
    {
     "data": {
      "image/png": "[encoded data removed]",
      "text/plain": [
       "<matplotlib.figure.Figure at 0x7fbca1061dd0>"
      ]
     },
     "metadata": {},
     "output_type": "display_data"
    },
    {
     "data": {
      "image/png": "[encoded data removed]",
      "text/plain": [
       "<matplotlib.figure.Figure at 0x7fbca100bc10>"
      ]
     },
     "metadata": {},
     "output_type": "display_data"
    }
   ],
   "source": [
    "#再び学習率0.01で計算\n",
    "ada = AdalineGD(n_iter=15,eta=0.01)\n",
    "ada.fit(X_std,y)\n",
    "plot_decision_regions(X_std,y,classifier=ada)\n",
    "\n",
    "plt.title('Adaline - Gradient Descent')\n",
    "\n",
    "plt.xlabel('speal length [standardized]')\n",
    "plt.ylabel('petal length [standardized]')\n",
    "\n",
    "plt.legend(loc='upper left')\n",
    "\n",
    "plt.show()\n",
    "\n",
    "#エポック数とコストの関係を表す折れ線グラフのプロット\n",
    "plt.plot(range(1,len(ada.cost_)+1),ada.cost_,marker='o')\n",
    "\n",
    "plt.xlabel('Epochs')\n",
    "plt.ylabel('Sum-squared-error')\n",
    "\n",
    "plt.show()"
   ]
  },
  {
   "cell_type": "markdown",
   "metadata": {},
   "source": [
    "- 標準化された特徴量を学習率η=0.01でトレーニングしたあと、ADALINEは収束する振る舞いを見せた。"
   ]
  },
  {
   "cell_type": "code",
   "execution_count": 6,
   "metadata": {
    "collapsed": true
   },
   "outputs": [],
   "source": [
    "from matplotlib.colors import ListedColormap\n",
    "\n",
    "def plot_decision_regions(X,y,classifier,resolution=0.02):\n",
    "    \n",
    "    #マーカーとカラーマップの準備\n",
    "    markers = ('s','x','o','^','v')\n",
    "    colors = ('red','blue','lightgreen','gray','cyan')\n",
    "    cmap = ListedColormap(colors[:len(np.unique(y))])\n",
    "    \n",
    "    #決定領域のプロット\n",
    "    x1_min ,x1_max = X[:,0].min() - 1,X[:,0].max() + 1\n",
    "    x2_min ,x2_max = X[:,1].min() - 1,X[:,1].max() + 1\n",
    "    #グリッドポイントの生成\n",
    "    xx1,xx2 = np.meshgrid(np.arange(x1_min,x1_max,resolution),\n",
    "                          np.arange(x2_min,x2_max,resolution))\n",
    "    #各特徴量を１次元配列に変換して予測を実行\n",
    "    Z = classifier.predict(np.array([xx1.ravel(),xx2.ravel()]).T)\n",
    "    #予測結果を元のグリッドポイントのデータサイズに変換\n",
    "    Z = Z.reshape(xx1.shape)\n",
    "    #　グリッドポイントの等高線のプロット\n",
    "    plt.contourf(xx1,xx2,Z,alpha=0.4,cmap=cmap)\n",
    "    #軸の範囲の設定\n",
    "    plt.xlim(xx1.min(),xx1.max())\n",
    "    plt.ylim(xx2.min(),xx2.max())\n",
    "    \n",
    "    #クラスごとにサンプルをプロット\n",
    "    for idx,cl in enumerate(np.unique(y)):\n",
    "        plt.scatter(x=X[y == cl,0],y=X[y == cl,1],alpha=0.8,c=cmap(idx),marker=markers[idx],label=cl)"
   ]
  },
  {
   "cell_type": "markdown",
   "metadata": {
    "collapsed": true
   },
   "source": [
    "# 2.6 大規模な機会学習と確率的勾配降下法\n",
    "- バッチ勾配降下法のアルゴリズムの代わりによく用いられる。逐次的勾配降下法、オンライン勾配降下法などと呼ばれることもある。\n",
    "- トレーニングサンプルごとに段階的に重みを更新する。\n",
    "$$\\Delta \\vec{w} = \\eta(y^{(i)}-\\phi(z^{(i)})) \\vec{x}^{(i)}$$\n",
    "\n",
    "- 重みの更新頻度が高いことから高速に収束する。\n",
    "- 誤差局面のノイズが多いため、浅い極小値を簡単に抜け出せる。\n",
    "- 確率的勾配降下法を使って正確な結果を得るには、データをランダムな順序に並び替えることが重要"
   ]
  },
  {
   "cell_type": "code",
   "execution_count": 10,
   "metadata": {
    "collapsed": false
   },
   "outputs": [],
   "source": [
    "from numpy.random import seed\n",
    "\n",
    "class AdalineSGD(object):\n",
    "    '''Adaptive Linear Neuron分類器\n",
    "    \n",
    "    パラメータ\n",
    "    -----------\n",
    "    eta:float\n",
    "        学習率（0.0よりおおきく1.0位家の値）\n",
    "    n_iter:int\n",
    "        トレーニングデータのトレーニング回数\n",
    "        \n",
    "    属性\n",
    "    -----------\n",
    "    w_:１次元配列\n",
    "        適合後の重み\n",
    "    errors_:リスト\n",
    "        各エポックでの誤分類数\n",
    "    shuffle:bool(デフォルト:true)\n",
    "        循環を回避するために各エポックでトレーニングデータをシャッフル\n",
    "    random_state:int(デフォルト:None)\n",
    "        シャッフルに使用するrandom_stateを設定し、初期化\n",
    "        \n",
    "    '''\n",
    "    def __init__(self,eta=0.01,n_iter=10,shuffle=True,random_state=None):\n",
    "        #学習率の初期化\n",
    "        self.eta = eta\n",
    "        #トレーニング回数の初期化\n",
    "        self.n_iter = n_iter\n",
    "        #重みの初期化フラグはFalseに設定\n",
    "        self.w_initialized = False\n",
    "        #各エポックでトレーニングデータをシャッフルすかどうかのフラグを初期化\n",
    "        self.shuffle = shuffle\n",
    "        #引数random_stateが指定された場合は乱数種を設定\n",
    "        if random_state:\n",
    "            seed(random_state)\n",
    "        \n",
    "    def fit(self,X,y):\n",
    "        '''トレーニングデータに適合させる\n",
    "        \n",
    "        パラメータ\n",
    "        ----------\n",
    "        X:{配列のようなデータ構造},shape = [n_samples,n_features]\n",
    "            トレーニングデータ\n",
    "            n_samplesはサンプルの個数、n_featuresは特徴量の個数\n",
    "        y:配列のようなデータ構造,shape = [n_samples]\n",
    "            目的変数\n",
    "        \n",
    "        戻り値\n",
    "        ----------\n",
    "        self:object\n",
    "        \n",
    "        '''\n",
    "        #重みベクトルの生成\n",
    "        self._initialize_weights(X.shape[1])\n",
    "        #コストを格納するリストの作成\n",
    "        self.cost_ = []\n",
    "        #トレーニング回数分トレーニングデータをシャッフル\n",
    "        for i in range(self.n_iter):\n",
    "            #指定された場合はトレーニングデータをシャッフル\n",
    "            if self.shuffle:\n",
    "                X,y = self._shuffle(X,y)\n",
    "            #各サンプルのコストを格納するリストの生成\n",
    "            cost = []\n",
    "            #各サンプルに対する計算\n",
    "            for xi,target in zip(X,y):\n",
    "                #特徴量xiと目的変数yを用いた重みの更新とコストの計算\n",
    "                cost.append(self._update_weights(xi,target))\n",
    "            #サンプルの平均コストの計算\n",
    "            avg_cost = sum(cost)/float(len(y))\n",
    "            #平均コストを格納\n",
    "            self.cost_.append(avg_cost)\n",
    "        return self\n",
    "    \n",
    "    def partial_fit(self,X,y):\n",
    "        '''重みを最初期化することなくトレーニングデータを適合させる'''\n",
    "        #初期化されていない場合は初期化を実行\n",
    "        if not self.w_initialized:\n",
    "            self._initialize_weights(X.shape[1])\n",
    "        #目的yの要素数が2以上の場合は各サンプルの特徴量xiと目的変数targetで重み更新\n",
    "        if y.ravel().shape[0] > 1:\n",
    "            self._update_weights(xi,target)\n",
    "        #目的変数yの要素数が1の場合は各サンプルの全体の特徴量Xと目的変数yで重みを更新\n",
    "        else:\n",
    "            self._update_weights(X,y)\n",
    "        return self\n",
    "    \n",
    "    def _shuffle(self,X,y):\n",
    "        '''トレーニングデータをシャッフル'''\n",
    "        r = np.random.permutation(len(y))\n",
    "        return X[r],y[r]\n",
    "    \n",
    "    def _initialize_weights(self,m):\n",
    "        '''重みを0に初期化'''\n",
    "        self.w_ = np.zeros(1+m)\n",
    "        self.w_initialized = True\n",
    "        \n",
    "    def _update_weights(self,xi,target):\n",
    "        '''ADALINEの学習規則を用いて重みを更新'''\n",
    "        #活性化関数の出力の計算\n",
    "        output = self.net_input(xi)\n",
    "        #誤差の計算\n",
    "        error = (target - output)\n",
    "        #重みwjの更新\n",
    "        self.w_[1:] += self.eta * xi.dot(error)\n",
    "        #重みw0の更新\n",
    "        self.w_[0] += self.eta * error\n",
    "        #コストの計算\n",
    "        cost = 0.5 * error**2\n",
    "        return cost\n",
    "    \n",
    "    def net_input(self,X):\n",
    "        '''総入力を計算'''\n",
    "        return np.dot(X,self.w_[1:]) + self.w_[0]\n",
    "    \n",
    "    def activation(self,X):\n",
    "        '''線形活性化関数の出力を計算'''\n",
    "        return self.net_input(X)\n",
    "    \n",
    "    def predict(self,X):\n",
    "        '''1ステップ後のクラスラベルを返す'''\n",
    "        return np.where(self.activation(X) >= 0.0,1,-1)\n"
   ]
  },
  {
   "cell_type": "code",
   "execution_count": 11,
   "metadata": {
    "collapsed": false
   },
   "outputs": [
    {
     "data": {
      "image/png": "[encoded data removed]",
      "text/plain": [
       "<matplotlib.figure.Figure at 0x7fbca1077bd0>"
      ]
     },
     "metadata": {},
     "output_type": "display_data"
    },
    {
     "data": {
      "image/png": "[encoded data removed]",
      "text/plain": [
       "<matplotlib.figure.Figure at 0x7fbca3ed65d0>"
      ]
     },
     "metadata": {},
     "output_type": "display_data"
    }
   ],
   "source": [
    "#確率的勾配降下法によるADALINEの学習\n",
    "ada = AdalineSGD(n_iter=15,eta=0.01,random_state=1)\n",
    "#モデルへの適合\n",
    "ada.fit(X_std,y)\n",
    "#境界領域のプロット\n",
    "plot_decision_regions(X_std,y,classifier=ada)\n",
    "\n",
    "plt.title(\"Adaline - Sthochastic Gradient Descent\")\n",
    "plt.xlabel('sepal length [standardized]')\n",
    "plt.ylabel('petal length [standardized]')\n",
    "plt.legend(loc='upper left')\n",
    "plt.tight_layout()\n",
    "\n",
    "plt.show()\n",
    "#エポックとコストの折れ線グラフ\n",
    "plt.plot(range(1,len(ada.cost_)+1),ada.cost_,marker='o')\n",
    "plt.xlabel('Epochs')\n",
    "plt.ylabel('Average Cost')\n",
    "plt.show()"
   ]
  },
  {
   "cell_type": "markdown",
   "metadata": {},
   "source": [
    "- 平均コストがすぐに減少する\n",
    "- ストリーミングデータをつかって、更新したい場合partial_fitメソッドを呼びだせば良い\n",
    "- ada.partial_fit(X_std[0,:],y[0])のようになる"
   ]
  }
 ],
 "metadata": {
  "anaconda-cloud": {},
  "kernelspec": {
   "display_name": "Python [default]",
   "language": "python",
   "name": "python2"
  },
  "language_info": {
   "codemirror_mode": {
    "name": "ipython",
    "version": 2
   },
   "file_extension": ".py",
   "mimetype": "text/x-python",
   "name": "python",
   "nbconvert_exporter": "python",
   "pygments_lexer": "ipython2",
   "version": "2.7.12"
  }
 },
 "nbformat": 4,
 "nbformat_minor": 0
}
