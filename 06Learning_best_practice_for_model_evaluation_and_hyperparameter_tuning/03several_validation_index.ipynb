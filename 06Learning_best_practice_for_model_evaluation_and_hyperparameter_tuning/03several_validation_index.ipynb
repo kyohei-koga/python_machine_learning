{
 "cells": [
  {
   "cell_type": "markdown",
   "metadata": {},
   "source": [
    "# 6.5 様々な成果指標\n",
    "- 正解率以外にも、適合率、再現率、F1スコアなどの性能指標により、モデルの妥当性を評価できる。"
   ]
  },
  {
   "cell_type": "markdown",
   "metadata": {},
   "source": [
    "# 6.5.1 混同行列を理解する\n",
    "- 混同号列は学習アルゴリズムの性能を明らかにする行列である。\n",
    "- 混同行列は分類器の真陽性、真陰性、偽陰性、偽陽性の４つの予測の個数を報告する単なる正方行列である。"
   ]
  },
  {
   "cell_type": "code",
   "execution_count": 5,
   "metadata": {
    "collapsed": false
   },
   "outputs": [],
   "source": [
    "import pandas as pd\n",
    "df = pd.read_csv('https://archive.ics.uci.edu/ml/machine-learning-databases/breast-cancer-wisconsin/wdbc.data',header=None)"
   ]
  },
  {
   "cell_type": "code",
   "execution_count": 6,
   "metadata": {
    "collapsed": true
   },
   "outputs": [],
   "source": [
    "#特徴量をX、ターゲットをyに格納\n",
    "from sklearn.preprocessing import LabelEncoder\n",
    "import numpy as np\n",
    "X = df.loc[:,2:].values\n",
    "y = df.loc[:,1].values\n",
    "#クラスラベルの文字列表現を整数に変換する\n",
    "le = LabelEncoder()\n",
    "y = le.fit_transform(y)"
   ]
  },
  {
   "cell_type": "code",
   "execution_count": 8,
   "metadata": {
    "collapsed": true
   },
   "outputs": [],
   "source": [
    "#トレーニングデータセットとテストデータセットに分割する\n",
    "from sklearn.cross_validation import train_test_split\n",
    "X_train,X_test,y_train,y_test = train_test_split(X,y,test_size=0.20,random_state=1)"
   ]
  },
  {
   "cell_type": "code",
   "execution_count": 10,
   "metadata": {
    "collapsed": false
   },
   "outputs": [],
   "source": [
    "from sklearn.preprocessing import StandardScaler\n",
    "from sklearn.pipeline import Pipeline\n",
    "from sklearn.svm import SVC\n",
    "pipe_svc = Pipeline([('scl',StandardScaler()),('cls',SVC(random_state=1))])"
   ]
  },
  {
   "cell_type": "code",
   "execution_count": 11,
   "metadata": {
    "collapsed": false
   },
   "outputs": [
    {
     "name": "stdout",
     "output_type": "stream",
     "text": [
      "[[71  1]\n",
      " [ 2 40]]\n"
     ]
    }
   ],
   "source": [
    "from sklearn.metrics import confusion_matrix\n",
    "pipe_svc.fit(X_train,y_train)\n",
    "y_pred = pipe_svc.predict(X_test)\n",
    "#テストと予測のデータから混同行列を生成\n",
    "confmat = confusion_matrix(y_true=y_test,y_pred=y_pred)\n",
    "print confmat"
   ]
  },
  {
   "cell_type": "code",
   "execution_count": 14,
   "metadata": {
    "collapsed": false
   },
   "outputs": [
    {
     "data": {
      "image/png": "[encoded data removed]",
      "text/plain": [
       "<matplotlib.figure.Figure at 0x7f10a3a25bd0>"
      ]
     },
     "metadata": {},
     "output_type": "display_data"
    }
   ],
   "source": [
    "%matplotlib inline\n",
    "import matplotlib.pyplot as plt\n",
    "#図のサイズを指定\n",
    "fig,ax = plt.subplots(figsize=(2.5,2.5))\n",
    "#matshow関数で行列からヒートマップを描画\n",
    "ax.matshow(confmat,cmap=plt.cm.Blues,alpha=0.3)\n",
    "for i in range(confmat.shape[0]): #クラス0の繰り返し処理\n",
    "    for j in range(confmat.shape[1]): #クラス1の繰り返し処理\n",
    "        ax.text(x=j,y=i,s=confmat[i,j],va='center',ha='center') #件数を表示\n",
    "        \n",
    "plt.xlabel('predicted label')\n",
    "plt.ylabel('true label')\n",
    "plt.show()"
   ]
  },
  {
   "cell_type": "markdown",
   "metadata": {},
   "source": [
    "# 6.5.2 分類モデルの適合率と再現率を最適化する\n",
    "- 予測の誤分類率と正解率は、ご分類されるサンプルの個数に関する全体的な情報を提供する\n",
    "$$ERR = \\frac{FP+FN}{FP+FN+TP+TN}$$\n",
    "$$ACC = \\frac{TP+TN}{FP+FN+TP+TN} = 1-ERR$$\n",
    "- 真陽性率(TPR)と偽陽性率(FPR)は不均衡なクラスの問題に特に役立つ性能指標である。（Nは全陰性、Fは全陽性を表す）\n",
    "- 不均衡なクラス問題とは、クラスに偏りがある問題のことを指す。\n",
    "$$FPR = \\frac{FP}{N} = \\frac{FP}{FP+TN}$$\n",
    "$$TPR = \\frac{TP}{P} = \\frac{TP}{TP+FN}$$\n",
    "- 例えば腫瘍の診断では、患者に適切な治療を施すには、悪性腫瘍を検出することがより重要となる。ただし、患者の不安を煽るようなことがないように、悪性として誤分類（FP）される良性腫瘍（偽陽性）の個数を減らすことも重要である。→全体の陰性のもののうち間違えて陽性だと判定されるものの割合\n",
    "- 真陽性率は全体の陽性のうち、正しく特定された陽性の割合\n",
    "- 適合率(PRE)と再現率(REC)は、TPRとFPRに関連する性能指標である。\n",
    "- PREは陽性と予測したもののうち実際に陽性だったものの割合\n",
    "$$PRE=\\frac{TP}{TP+FP}$$\n",
    "$$REC = TPR = \\frac{TP}{P}=\\frac{TP}{TP+FN}$$\n",
    "- 実際にはPREとRECを組み合わせたF1スコアと呼ばれるものがよく使用される\n",
    "- F1スコアはPREとRECの調和平均である。\n",
    "$$F1 = 2\\frac{PRE \\times REC}{PRE+REC}$$"
   ]
  },
  {
   "cell_type": "code",
   "execution_count": 15,
   "metadata": {
    "collapsed": false
   },
   "outputs": [
    {
     "name": "stdout",
     "output_type": "stream",
     "text": [
      "Precision: 0.976\n",
      "Recall: 0.952\n",
      "F1: 0.964\n"
     ]
    }
   ],
   "source": [
    "#適合率、再現率、F1スコアを出力\n",
    "from sklearn.metrics import precision_score\n",
    "from sklearn.metrics import recall_score,f1_score\n",
    "print('Precision: %.3f') % precision_score(y_true=y_test,y_pred=y_pred)\n",
    "print('Recall: %.3f') % recall_score(y_true=y_test,y_pred=y_pred)\n",
    "print('F1: %.3f') % f1_score(y_true=y_test,y_pred=y_pred)"
   ]
  },
  {
   "cell_type": "markdown",
   "metadata": {},
   "source": [
    "- GridSearchCVオブジェクトは、成果率以外にも様々な性能指標を使用できる。"
   ]
  },
  {
   "cell_type": "code",
   "execution_count": 22,
   "metadata": {
    "collapsed": false
   },
   "outputs": [],
   "source": [
    "param_range = [10**i for i in range(-4,4)]\n",
    "param_grid = [{'clf__C':param_range,'clf__kernel':['linear']},\n",
    "              {'clf__C':param_range,'clf__gamma':param_range,'clf__kernel':['rbf']}]\n",
    "#カスタムの性能指標を出力\n",
    "from sklearn.metrics import make_scorer,f1_score\n",
    "from sklearn.grid_search import GridSearchCV\n",
    "scorer = make_scorer(f1_score,pos_label=0)\n",
    "gs = GridSearchCV(estimator=pipe_svc,\n",
    "                 param_grid=param_grid,\n",
    "                 scoring=scorer,\n",
    "                 cv=10)"
   ]
  },
  {
   "cell_type": "code",
   "execution_count": null,
   "metadata": {
    "collapsed": true
   },
   "outputs": [],
   "source": []
  }
 ],
 "metadata": {
  "kernelspec": {
   "display_name": "Python 2",
   "language": "python",
   "name": "python2"
  },
  "language_info": {
   "codemirror_mode": {
    "name": "ipython",
    "version": 2
   },
   "file_extension": ".py",
   "mimetype": "text/x-python",
   "name": "python",
   "nbconvert_exporter": "python",
   "pygments_lexer": "ipython2",
   "version": "2.7.12"
  }
 },
 "nbformat": 4,
 "nbformat_minor": 0
}
