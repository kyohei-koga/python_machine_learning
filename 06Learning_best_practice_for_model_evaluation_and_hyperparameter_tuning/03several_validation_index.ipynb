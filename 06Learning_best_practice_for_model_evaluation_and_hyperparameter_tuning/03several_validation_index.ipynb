{
 "cells": [
  {
   "cell_type": "markdown",
   "metadata": {},
   "source": [
    "# 6.5 様々な成果指標\n",
    "- 正解率以外にも、適合率、再現率、F1スコアなどの性能指標により、モデルの妥当性を評価できる。"
   ]
  },
  {
   "cell_type": "markdown",
   "metadata": {},
   "source": [
    "# 6.5.1 混同行列を理解する\n",
    "- 混同号列は学習アルゴリズムの性能を明らかにする行列である。\n",
    "- 混同行列は分類器の真陽性、真陰性、偽陰性、偽陽性の４つの予測の個数を報告する単なる正方行列である。"
   ]
  },
  {
   "cell_type": "code",
   "execution_count": 1,
   "metadata": {
    "collapsed": false
   },
   "outputs": [],
   "source": [
    "import pandas as pd\n",
    "df = pd.read_csv('https://archive.ics.uci.edu/ml/machine-learning-databases/breast-cancer-wisconsin/wdbc.data',header=None)"
   ]
  },
  {
   "cell_type": "code",
   "execution_count": 2,
   "metadata": {
    "collapsed": true
   },
   "outputs": [],
   "source": [
    "#特徴量をX、ターゲットをyに格納\n",
    "from sklearn.preprocessing import LabelEncoder\n",
    "import numpy as np\n",
    "X = df.loc[:,2:].values\n",
    "y = df.loc[:,1].values\n",
    "#クラスラベルの文字列表現を整数に変換する\n",
    "le = LabelEncoder()\n",
    "y = le.fit_transform(y)"
   ]
  },
  {
   "cell_type": "code",
   "execution_count": 3,
   "metadata": {
    "collapsed": true
   },
   "outputs": [],
   "source": [
    "#トレーニングデータセットとテストデータセットに分割する\n",
    "from sklearn.cross_validation import train_test_split\n",
    "X_train,X_test,y_train,y_test = train_test_split(X,y,test_size=0.20,random_state=1)"
   ]
  },
  {
   "cell_type": "code",
   "execution_count": 4,
   "metadata": {
    "collapsed": false
   },
   "outputs": [],
   "source": [
    "from sklearn.preprocessing import StandardScaler\n",
    "from sklearn.pipeline import Pipeline\n",
    "from sklearn.svm import SVC\n",
    "pipe_svc = Pipeline([('scl',StandardScaler()),('cls',SVC(random_state=1))])"
   ]
  },
  {
   "cell_type": "code",
   "execution_count": 5,
   "metadata": {
    "collapsed": false
   },
   "outputs": [
    {
     "name": "stdout",
     "output_type": "stream",
     "text": [
      "[[71  1]\n",
      " [ 2 40]]\n"
     ]
    }
   ],
   "source": [
    "from sklearn.metrics import confusion_matrix\n",
    "pipe_svc.fit(X_train,y_train)\n",
    "y_pred = pipe_svc.predict(X_test)\n",
    "#テストと予測のデータから混同行列を生成\n",
    "confmat = confusion_matrix(y_true=y_test,y_pred=y_pred)\n",
    "print confmat"
   ]
  },
  {
   "cell_type": "code",
   "execution_count": 6,
   "metadata": {
    "collapsed": false
   },
   "outputs": [
    {
     "data": {
      "image/png": "[encoded data removed]",
      "text/plain": [
       "<matplotlib.figure.Figure at 0x7f5345218fd0>"
      ]
     },
     "metadata": {},
     "output_type": "display_data"
    }
   ],
   "source": [
    "%matplotlib inline\n",
    "import matplotlib.pyplot as plt\n",
    "#図のサイズを指定\n",
    "fig,ax = plt.subplots(figsize=(2.5,2.5))\n",
    "#matshow関数で行列からヒートマップを描画\n",
    "ax.matshow(confmat,cmap=plt.cm.Blues,alpha=0.3)\n",
    "for i in range(confmat.shape[0]): #クラス0の繰り返し処理\n",
    "    for j in range(confmat.shape[1]): #クラス1の繰り返し処理\n",
    "        ax.text(x=j,y=i,s=confmat[i,j],va='center',ha='center') #件数を表示\n",
    "        \n",
    "plt.xlabel('predicted label')\n",
    "plt.ylabel('true label')\n",
    "plt.show()"
   ]
  },
  {
   "cell_type": "markdown",
   "metadata": {},
   "source": [
    "# 6.5.2 分類モデルの適合率と再現率を最適化する\n",
    "- 予測の誤分類率と正解率は、ご分類されるサンプルの個数に関する全体的な情報を提供する\n",
    "$$ERR = \\frac{FP+FN}{FP+FN+TP+TN}$$\n",
    "$$ACC = \\frac{TP+TN}{FP+FN+TP+TN} = 1-ERR$$\n",
    "- 真陽性率(TPR)と偽陽性率(FPR)は不均衡なクラスの問題に特に役立つ性能指標である。（Nは全陰性、Fは全陽性を表す）\n",
    "- 不均衡なクラス問題とは、クラスに偏りがある問題のことを指す。\n",
    "$$FPR = \\frac{FP}{N} = \\frac{FP}{FP+TN}$$\n",
    "$$TPR = \\frac{TP}{P} = \\frac{TP}{TP+FN}$$\n",
    "- 例えば腫瘍の診断では、患者に適切な治療を施すには、悪性腫瘍を検出することがより重要となる。ただし、患者の不安を煽るようなことがないように、悪性として誤分類（FP）される良性腫瘍（偽陽性）の個数を減らすことも重要である。→全体の陰性のもののうち間違えて陽性だと判定されるものの割合\n",
    "- 真陽性率は全体の陽性のうち、正しく特定された陽性の割合\n",
    "- 適合率(PRE)と再現率(REC)は、TPRとFPRに関連する性能指標である。\n",
    "- PREは陽性と予測したもののうち実際に陽性だったものの割合\n",
    "$$PRE=\\frac{TP}{TP+FP}$$\n",
    "$$REC = TPR = \\frac{TP}{P}=\\frac{TP}{TP+FN}$$\n",
    "- 実際にはPREとRECを組み合わせたF1スコアと呼ばれるものがよく使用される\n",
    "- F1スコアはPREとRECの調和平均である。\n",
    "$$F1 = 2\\frac{PRE \\times REC}{PRE+REC}$$"
   ]
  },
  {
   "cell_type": "code",
   "execution_count": 7,
   "metadata": {
    "collapsed": false
   },
   "outputs": [
    {
     "name": "stdout",
     "output_type": "stream",
     "text": [
      "Precision: 0.976\n",
      "Recall: 0.952\n",
      "F1: 0.964\n"
     ]
    }
   ],
   "source": [
    "#適合率、再現率、F1スコアを出力\n",
    "from sklearn.metrics import precision_score\n",
    "from sklearn.metrics import recall_score,f1_score\n",
    "print('Precision: %.3f') % precision_score(y_true=y_test,y_pred=y_pred)\n",
    "print('Recall: %.3f') % recall_score(y_true=y_test,y_pred=y_pred)\n",
    "print('F1: %.3f') % f1_score(y_true=y_test,y_pred=y_pred)"
   ]
  },
  {
   "cell_type": "markdown",
   "metadata": {},
   "source": [
    "- GridSearchCVオブジェクトは、成果率以外にも様々な性能指標を使用できる。"
   ]
  },
  {
   "cell_type": "code",
   "execution_count": 8,
   "metadata": {
    "collapsed": false
   },
   "outputs": [],
   "source": [
    "param_range = [10**i for i in range(-4,4)]\n",
    "param_grid = [{'clf__C':param_range,'clf__kernel':['linear']},\n",
    "              {'clf__C':param_range,'clf__gamma':param_range,'clf__kernel':['rbf']}]\n",
    "#カスタムの性能指標を出力\n",
    "from sklearn.metrics import make_scorer,f1_score\n",
    "from sklearn.grid_search import GridSearchCV\n",
    "scorer = make_scorer(f1_score,pos_label=0)\n",
    "gs = GridSearchCV(estimator=pipe_svc,\n",
    "                 param_grid=param_grid,\n",
    "                 scoring=scorer,\n",
    "                 cv=10)"
   ]
  },
  {
   "cell_type": "markdown",
   "metadata": {
    "collapsed": true
   },
   "source": [
    "# 6.5.3 ROC曲線をプロットする\n",
    "- 受信者操作特性(Receiver Operator Characteristic:ROC)曲線は、性能に基づいて分類モデルを選択するための便利なツールである。\n",
    "- 分類器の閾値を変えることによって計算される偽陽性率と真陽性率が選択の基準となる\n",
    "- ROC曲線の対角線は当て推量として解釈でき、対角線を下回る分類モデルは当て推量よりも劣るとみなされる。"
   ]
  },
  {
   "cell_type": "code",
   "execution_count": 40,
   "metadata": {
    "collapsed": false
   },
   "outputs": [
    {
     "data": {
      "image/png": "[encoded data removed]",
      "text/plain": [
       "<matplotlib.figure.Figure at 0x7f533edabe90>"
      ]
     },
     "metadata": {},
     "output_type": "display_data"
    }
   ],
   "source": [
    "#Brest Cancer Wisconsinデータセットの特徴量を２津だけ使用して、腫瘍が良性か悪性かを予測する分類器のROC曲線をプロットする。\n",
    "from sklearn.metrics import roc_curve,auc\n",
    "from sklearn.decomposition import PCA\n",
    "from scipy import interp\n",
    "from sklearn.linear_model import LogisticRegression\n",
    "from sklearn.cross_validation import StratifiedKFold\n",
    "\n",
    "#スケーリング、主成分分析、ロジスティック回帰を指定して、pipelineクラスをインスタンス化\n",
    "pipe_lr = Pipeline([('scl',StandardScaler()),\n",
    "                    ('pca',PCA(n_components=2)),\n",
    "                    ('clf',LogisticRegression(penalty='l2',random_state=0,C=100.0))])\n",
    "\n",
    "#2つの特徴量を抽出\n",
    "X_train2 = X_train[:,[4,14]]\n",
    "#層化k分割交差検証イテレータを表すStratifiedKFoldクラスをインスタンス化\n",
    "cv = StratifiedKFold(y_train,n_folds=3,random_state=1)\n",
    "fig = plt.figure(figsize=(7,5))\n",
    "mean_tpr = 0.0\n",
    "#0から1までの間で100個の要素を生成\n",
    "mean_fpr = np.linspace(0,1,100)\n",
    "all_tpr = []\n",
    "for i,(train,test) in enumerate(cv):\n",
    "    #predict_probaメソッドで確率を予測,fitメソッドでモデルに適合させる\n",
    "    probas = pipe_lr.fit(X_train2[train],y_train[train]).predict_proba(X_train2[test])\n",
    "    #roc_curve関数でROC曲線の性能をプロット\n",
    "    fpr,tpr,thresholds = roc_curve(y_train[test],probas[:,1],pos_label=1)\n",
    "    mean_tpr += interp(mean_fpr,fpr,tpr) #FPR（X軸）とTPR(Y軸)を線形補間\n",
    "    mean_tpr[0] = 0.0\n",
    "    roc_auc = auc(fpr,tpr)\n",
    "    plt.plot(fpr,tpr,lw=1,label='ROC fold %d (area = %0.2f)' % (i+1,roc_auc))\n",
    "\n",
    "#当て推量をプロット\n",
    "plt.plot([0,1],[0,1],linestyle='--',color=(0.6,0.6,0.6),label='random guessing')\n",
    "#FPR,TPR,ROC,AUCそれぞれの平均を計算してプロット\n",
    "mean_tpr /= len(cv)\n",
    "mean_tpr[-1] = 1.0\n",
    "mean_auc = auc(mean_fpr,mean_tpr)\n",
    "plt.plot(mean_fpr,mean_tpr,'k--',label='mean ROC (area = %0.2f)' % mean_auc,lw=2)\n",
    "#完全に予測が正解したときのROC曲線をプロット\n",
    "plt.plot([0,0,1],[0,1,1],lw=2,linestyle=':',color='black',label='perfect performance')\n",
    "\n",
    "#グラフの各項目を指定\n",
    "plt.xlim([-0.05,1.05])\n",
    "plt.ylim([-0.05,1.05])\n",
    "plt.xlabel('false positive rate')\n",
    "plt.ylabel('true positive rate')\n",
    "plt.title('Receiver Operator Characteristic')\n",
    "plt.legend(loc='lower right')\n",
    "plt.show()"
   ]
  },
  {
   "cell_type": "code",
   "execution_count": 43,
   "metadata": {
    "collapsed": false,
    "scrolled": true
   },
   "outputs": [
    {
     "name": "stdout",
     "output_type": "stream",
     "text": [
      "ROC AUC: 0.662\n",
      "Accuracy: 0.711\n"
     ]
    }
   ],
   "source": [
    "#AUCの値に関心があるだけなら\n",
    "#予測値のAUCと正解率を計算して出力\n",
    "pipe_lr = pipe_lr.fit(X_train2,y_train)\n",
    "y_pred2 = pipe_lr.predict(X_test[:,[4,14]])\n",
    "\n",
    "from sklearn.metrics import roc_auc_score,accuracy_score\n",
    "print('ROC AUC: %.3f') %roc_auc_score(y_true=y_test,y_score=y_pred2)\n",
    "print('Accuracy: %.3f') %accuracy_score(y_true=y_test,y_pred=y_pred2)"
   ]
  },
  {
   "cell_type": "markdown",
   "metadata": {},
   "source": [
    "- 分類器の性能をAUCの数値で見ると、不均衡なサンプルに関する分類器の性能をさらに詳しく知ることができる。"
   ]
  }
 ],
 "metadata": {
  "kernelspec": {
   "display_name": "Python 2",
   "language": "python",
   "name": "python2"
  },
  "language_info": {
   "codemirror_mode": {
    "name": "ipython",
    "version": 2
   },
   "file_extension": ".py",
   "mimetype": "text/x-python",
   "name": "python",
   "nbconvert_exporter": "python",
   "pygments_lexer": "ipython2",
   "version": "2.7.11"
  }
 },
 "nbformat": 4,
 "nbformat_minor": 0
}
