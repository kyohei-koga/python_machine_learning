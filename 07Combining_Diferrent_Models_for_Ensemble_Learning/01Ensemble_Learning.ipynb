{
 "cells": [
  {
   "cell_type": "markdown",
   "metadata": {},
   "source": [
    "# アンサンブル学習　ー異なるモデルの組み合わせ\n",
    "- 多くの場合、分類器を個別に使用するよりも高い予測性能が実現される。\n",
    "- 多数決に基づく予測\n",
    "- トレーニングデータセットのランダムな組み合わせを繰り返し抽出することによる過学習の抑制\n",
    "- 誤答から学習する「弱学習器」による強力なモデルの構築"
   ]
  },
  {
   "cell_type": "markdown",
   "metadata": {},
   "source": [
    "# 7.1 アンサンブルによる学習\n",
    "- アンサンブル法の目的は、様々な分類器を１つのメタ分類器として組み合わせることにある。この方法であれば、分類器を個別に使用するするよりも高い汎化性能を得られる。\n",
    "- 最もよく知られるアンサンブル法は多数決の原理を用いるものである。\n",
    "- 分類器の大多数、つまり過半数によって予測されているクラスが選択されることを意味する。\n",
    "- 多数決の原理を多クラスの分類問題に一般化するのは簡単で、相対多数決と呼ばれる。この場合、最も得票数の多いクラスラベルが選択される。\n",
    "- 手法としては、サポートベクトルマシン、ロジスティック回帰分類器など、さまざまな分類アルゴリズムを使ってアンサンブルを構築する方法\n",
    "- 同じ分類アルゴリズムでトレーニングデータセットの異なる部分を学習させることもできる。\n",
    "- 個々の分類器$C_{j}$で予測されたクラスラベルをまとめ、最も得票数の多いクラスラベル$\\hat{y}$を選択する。（以下の式のmodeは最頻値を意味する。）\n",
    "$$\\hat{y} = mode\\{ C_{1}(x),C_{2}(x), \\ldots ,C_{m}(x) \\}$$\n",
    "- 例えばクラス1=-1、クラス2=+1の二値分類タスクでは、多数決予測を以下の様に記述できる。\n",
    "$$C(x) = sign \\left[ \\sum^{m}_{j} C_{j}(x) \\right] = \\begin{cases} 1 & (\\Sigma_{j}C_{j}(x) \\geq 0) \\\\ -1 & (\\Sigma_{j}C_{j}(x) < 0)\\end{cases}$$"
   ]
  },
  {
   "cell_type": "markdown",
   "metadata": {},
   "source": [
    "- アンサンブルのほうが分類器を単体で使用した場合よりも効果が期待できる。\n",
    "- 二値分類タスクのn個のベース分類器の誤分類率がすべて等しく$\\varepsilon$であるとするする。さらに、それぞれの分類器が独立していて、誤分類率に相関が無いものとする。この前提では、ベース分類器のアンサンブルの誤分類率を二項分布の確率質量関数として表すことができる。\n",
    "$$P(y \\geq k) = \\sum^{n}_{k} \\binom{n}{k} \\varepsilon^{k}(1-\\varepsilon)^{n-k} ~ \\varepsilon_{ensemble}$$\n",
    "- 誤分類率0.25の11個のベース分類器で計算すると\n",
    "$$P(y\\geq6) = \\sum^{11}_{k=6}\\binom{11}{k}\\varepsilon^{k}(1-\\varepsilon)^{11-k} = 0.034$$\n",
    "- すべての条件が満たされているとすれば、アンサンブルの誤分類率（0.034）は個々の分類器の誤分類率よりはるかに低いことがわかる。"
   ]
  },
  {
   "cell_type": "code",
   "execution_count": 1,
   "metadata": {
    "collapsed": false
   },
   "outputs": [
    {
     "name": "stdout",
     "output_type": "stream",
     "text": [
      "0.034327507019\n"
     ]
    }
   ],
   "source": [
    "from scipy.misc import comb\n",
    "import math\n",
    "\n",
    "def ensemble_error(n_classifier,error):\n",
    "    k_start = int(math.ceil(n_classifier/2.0))\n",
    "    probs = [comb(n_classifier,k) * error**k * (1-error)**(n_classifier-k) for k in range(k_start,n_classifier+1)]\n",
    "    return sum(probs)\n",
    "\n",
    "print ensemble_error(n_classifier=11,error=0.25)"
   ]
  },
  {
   "cell_type": "code",
   "execution_count": 2,
   "metadata": {
    "collapsed": false
   },
   "outputs": [
    {
     "name": "stderr",
     "output_type": "stream",
     "text": [
      "/home/kyohei/anaconda2/lib/python2.7/site-packages/matplotlib/font_manager.py:273: UserWarning: Matplotlib is building the font cache using fc-list. This may take a moment.\n",
      "  warnings.warn('Matplotlib is building the font cache using fc-list. This may take a moment.')\n"
     ]
    },
    {
     "data": {
      "image/png": "[encoded data removed]",
      "text/plain": [
       "<matplotlib.figure.Figure at 0x7f519847f9d0>"
      ]
     },
     "metadata": {},
     "output_type": "display_data"
    }
   ],
   "source": [
    "import numpy as np\n",
    "error_range = np.arange(0.0,1.01,0.01)\n",
    "ens_errors = [ensemble_error(n_classifier=11,error=error) for error in error_range]\n",
    "\n",
    "%matplotlib inline\n",
    "import matplotlib.pyplot as plt\n",
    "plt.plot(error_range,ens_errors,label='Ensemble error',linewidth=2)\n",
    "plt.plot(error_range,error_range,linestyle='--',label='Base error',linewidth=2)\n",
    "\n",
    "plt.xlabel('Base error')\n",
    "plt.ylabel('Base/Ensemble error')\n",
    "plt.legend(loc='upper left')\n",
    "plt.grid()\n",
    "plt.show()"
   ]
  },
  {
   "cell_type": "markdown",
   "metadata": {},
   "source": [
    "- ベース分類器の性能が当て推量よりも高い限り（$\\varepsilon < 0.5$）、アンサンブルの誤分類率は個々のベース分類器の誤分類率に常に勝っている。"
   ]
  },
  {
   "cell_type": "markdown",
   "metadata": {},
   "source": [
    "# 7.2 単純な多数決分類器の実装\n",
    "- データセットに対する個々の分類器の弱点を補完しあうような、より強力なメタ分類器を構築する。\n",
    "- アルゴリズム毎に信頼度に関する重みが関連付けられている。\n",
    "- 重み付きの多数決を数学的に表すと\n",
    "$\\newcommand{\\argmax}{\\mathop{\\rm arg~max}\\limits}$\n",
    "$\\newcommand{\\argmin}{\\mathop{\\rm arg~min}\\limits}$\n",
    "$$\\hat{y} = \\argmax_{i}\\sum^{m}_{j=1}w_{j}\\chi_{A}(C_{j}(\\vec{x})=i)$$\n",
    "\n",
    "- $\\chi_{A}$は「$C_{j}(\\vec{x})=i \\, (i\\in A)$」の特性関数を表し,Aはクラスラベルの集合を表す。\n",
    "- それぞれの分類器の重みが等しい場合は、以下のように簡略化できる。\n",
    "$$\\hat{y} = mode\\{ C_{1}(\\vec{x}),C_{2}(\\vec{x}),\\ldots ,C_{m}(\\vec{x}) \\}$$\n",
    "- 具体的なもみの値で計算してみると、重みがある場合とない場合$\\hat{y}$の値は変わることがある。"
   ]
  },
  {
   "cell_type": "code",
   "execution_count": 3,
   "metadata": {
    "collapsed": false
   },
   "outputs": [
    {
     "data": {
      "text/plain": [
       "1"
      ]
     },
     "execution_count": 3,
     "metadata": {},
     "output_type": "execute_result"
    }
   ],
   "source": [
    "np.argmax(np.bincount([0,0,1],weights=[0.2,0.2,0.6]))"
   ]
  },
  {
   "cell_type": "markdown",
   "metadata": {},
   "source": [
    "- アンサンブルの分類器がうまく調整されている場合は、多数決にクラスラベルを使用するのではなく、予測されたクラスの確率を使用するのが良いかもしれない。\n",
    "- $p_{ij}$はクラスラベル$i$に対して、$j$番目の分類器が予測した確率を表す。\n",
    "$$\\hat{y} = \\argmax_{i} \\sum^{m}_{j=1}w_{j}p_{ij}$$"
   ]
  },
  {
   "cell_type": "code",
   "execution_count": 4,
   "metadata": {
    "collapsed": false
   },
   "outputs": [
    {
     "name": "stdout",
     "output_type": "stream",
     "text": [
      "[ 0.58  0.42] 0\n"
     ]
    }
   ],
   "source": [
    "#クラスの確率に基づく重み付きの多数決を実行\n",
    "ex = np.array([[0.9,0.1],\n",
    "              [0.8,0.2],\n",
    "              [0.4,0.6]])\n",
    "p = np.average(ex,axis=0,weights=[0.2,0.2,0.6])\n",
    "print p,np.argmax(p)"
   ]
  },
  {
   "cell_type": "code",
   "execution_count": 16,
   "metadata": {
    "collapsed": true
   },
   "outputs": [],
   "source": [
    "#MajorityVoteClassifierクラスを実装\n",
    "from sklearn.base import BaseEstimator\n",
    "from sklearn.base import ClassifierMixin\n",
    "from sklearn.preprocessing import LabelEncoder\n",
    "from sklearn.externals import six\n",
    "from sklearn.base import clone\n",
    "from sklearn.pipeline import _name_estimators\n",
    "import operator\n",
    "class MajorityVoteClassifier(BaseEstimator,ClassifierMixin):\n",
    "    '''多数決アンサンブル分類器\n",
    "    \n",
    "    パラメータ\n",
    "    -----------\n",
    "    classifiers : array-like, shape = [n_classifier]\n",
    "        アンサンブルの様々な分類器\n",
    "        \n",
    "    vote : str {'classlabel','probability'} (defalt : 'classlabel')\n",
    "        'classlabel'の場合、クラスラベルの予測はクラスラベルのargmaxに基づく\n",
    "        'probability'の場合、クラスラベルの予測はクラスの所属確率のargmaxに基づく（分類器が調整済みであることが推奨される）\n",
    "        \n",
    "    weights : array-like, shape = [n_classifiers] (optional,defalut=None)\n",
    "        'int'または'float'型のリストが提供された場合分類器は重要度で重み付けされる\n",
    "        'weights=None'の場合は均一な重みを仕様\n",
    "    '''\n",
    "    def __init__(self,classifiers,vote='classlabel',weights=None):\n",
    "        self.classifiers = classifiers\n",
    "        self.named_classfiers = {key: value for key,value in _name_estimators(classifiers)}\n",
    "        \n",
    "        self.vote = vote\n",
    "        self.weights = weights\n",
    "        \n",
    "    def fit(self,X,y):\n",
    "        '''分類器を学習させる\n",
    "        \n",
    "        パラメータ\n",
    "        ---------------\n",
    "        X : {array-like, sparse matrix},shape = [n_samples,n_features]\n",
    "            トレーニングサンプルからなる行列\n",
    "        \n",
    "        y : array-like, shape = [n_samples]\n",
    "            クラスラベルのベクトル\n",
    "        \n",
    "        戻り値\n",
    "        ---------------\n",
    "        self : object\n",
    "        \n",
    "        '''\n",
    "        # LabelEncorderを使ってクラスラベルが0から始まる様にエンコードする\n",
    "        # self.predictのnp.argmax呼び出しで重要となる\n",
    "        self.lablenc_ = LabelEncoder()\n",
    "        self.lablenc_.fit(y)\n",
    "        self.classes_ = []\n",
    "        self.classifiers_ = []\n",
    "        for clf in self.classifiers:\n",
    "            fitted_clf = clone(clf).fit(X,self.lablenc_.transform(y))\n",
    "            self.classifiers_.append(fitted_clf)\n",
    "        return self\n",
    "    \n",
    "    def predict(self,X):\n",
    "        '''Xのクラスラベルを予測する\n",
    "        \n",
    "        パラメータ\n",
    "        -------------\n",
    "        maj_vote : array-like, shape = [n_samples]\n",
    "            予測されたクラスラベル\n",
    "            \n",
    "        '''\n",
    "        if self.vote == 'probability':\n",
    "            maj_vote = np.argmax(self.predict_proba(X),axis=1)\n",
    "        else: #'classlabel'での多数決\n",
    "            \n",
    "            #clf.predict呼び出しの結果を収集\n",
    "            predictions = np.asarray([clf.predict(X) for clf in self.classifiers_]).T\n",
    "            \n",
    "            # 各サンプルのクラス確率に重みをかけて足し合わせた値が最大となる列番号を配列として返す\n",
    "            maj_vote = np.apply_along_axis(lambda x: np.argmax(np.bincount(x,weights=self.weights)),axis=1,arr=predictions)\n",
    "            \n",
    "        #　各サンプルに確率の最大値を与えるクラスラベルを抽出\n",
    "        maj_vote = self.lablenc_.inverse_transform(maj_vote)\n",
    "        return maj_vote\n",
    "    \n",
    "    def predict_proba(self,X):\n",
    "        '''Xのクラス確率を予測する\n",
    "        \n",
    "        パラメータ\n",
    "        -----------------\n",
    "        X : {array-like, sparse matrix},shape = [n_samples,n_features]\n",
    "            トレーニングベクトル:n_samplesはサンプルの個数,n_featuresは特徴量の個数\n",
    "        \n",
    "        戻り値\n",
    "        -----------------\n",
    "        avg_proba : array-like ,shape = [n_samples,n_classes]\n",
    "        \n",
    "        '''\n",
    "        probas = np.asarray([clf.predict_proba(X) for clf in self.classifiers_])\n",
    "        avg_proba = np.average(probas, axis=0, weights=self.weights)\n",
    "        return avg_proba\n",
    "    \n",
    "    def get_params(self,deep=True):\n",
    "        '''GridSearchの実行時に分類器のパラメータ名を取得'''\n",
    "        if not deep:\n",
    "            return super(MajorityVoteClassifier,self).get_params(deep=False)\n",
    "        else:\n",
    "            #キーを\"分類器の名前_パラメータ名\"、バリューをパラメータの値とするディクショナリを生成\n",
    "            out = self.named_classifiers.copy()\n",
    "            for name, step in six.iteritems(step.get_params(deep=True)):\n",
    "                for key, value in six.iteritems(step.get_params(deep=True)):\n",
    "                    out['%s__%s' % (name,key)] = value\n",
    "                    return out"
   ]
  },
  {
   "cell_type": "markdown",
   "metadata": {},
   "source": [
    "# 7.2.1 多数決方式の分類アルゴリズムを組み合わせる。"
   ]
  },
  {
   "cell_type": "code",
   "execution_count": 6,
   "metadata": {
    "collapsed": true
   },
   "outputs": [],
   "source": [
    "from sklearn import datasets\n",
    "from sklearn.cross_validation import train_test_split\n",
    "from sklearn.preprocessing import StandardScaler\n",
    "from sklearn.preprocessing import LabelEncoder\n",
    "iris = datasets.load_iris()\n",
    "X, y = iris.data[50:,[1,2]], iris.target[50:]\n",
    "le = LabelEncoder()\n",
    "y = le.fit_transform(y)"
   ]
  },
  {
   "cell_type": "code",
   "execution_count": 7,
   "metadata": {
    "collapsed": true
   },
   "outputs": [],
   "source": [
    "#Irisデータセットのサンプルを50%のトレーニングデータと50%のテストデータに分割する。\n",
    "X_train,X_test,y_train,y_test = train_test_split(X,y,test_size=0.5,random_state=1)"
   ]
  },
  {
   "cell_type": "code",
   "execution_count": 10,
   "metadata": {
    "collapsed": false
   },
   "outputs": [
    {
     "name": "stdout",
     "output_type": "stream",
     "text": [
      "10-fold cross validation:\n",
      "\n",
      "ROC AUC: 0.917 (+/- 0.201) [Logistic Regression]\n",
      "ROC AUC: 0.917 (+/- 0.154) [Decision Tree]\n",
      "ROC AUC: 0.933 (+/- 0.104) [KNN]\n"
     ]
    }
   ],
   "source": [
    "#3種類の分類器ーロジスティック回帰、決定木分類、k近傍分類器ーを１つのアンサンブル分類器にまとめる前に、\n",
    "#トレーニングデータセットを使ってそれらをトレーニングし、10分割交差検証を行ってトレーニングデータセット\n",
    "#での性能を調べる\n",
    "from sklearn.cross_validation import cross_val_score\n",
    "from sklearn.linear_model import LogisticRegression\n",
    "from sklearn.tree import DecisionTreeClassifier\n",
    "from sklearn.neighbors import KNeighborsClassifier\n",
    "from sklearn.pipeline import Pipeline\n",
    "import numpy as np\n",
    "\n",
    "clf1 = LogisticRegression(penalty='l2',C=0.001,random_state=0)\n",
    "clf2 = DecisionTreeClassifier(max_depth=1,criterion='entropy',random_state=0)\n",
    "clf3 = KNeighborsClassifier(n_neighbors=1,p=2,metric='minkowski')\n",
    "\n",
    "pipe1 = Pipeline([['sc',StandardScaler()],['clf',clf1]])\n",
    "pipe3 = Pipeline([['sc',StandardScaler()],['clf3',clf3]])\n",
    "clf_labels = ['Logistic Regression','Decision Tree','KNN']\n",
    "print('10-fold cross validation:\\n')\n",
    "for clf,label in zip([pipe1,clf2,pipe3],clf_labels):\n",
    "    scores = cross_val_score(estimator=clf,X=X_train,y=y_train,cv=10,scoring='roc_auc')\n",
    "    print('ROC AUC: %0.3f (+/- %0.3f) [%s]') % (scores.mean(),scores.std(),label)"
   ]
  },
  {
   "cell_type": "code",
   "execution_count": 17,
   "metadata": {
    "collapsed": false
   },
   "outputs": [
    {
     "name": "stdout",
     "output_type": "stream",
     "text": [
      "Accuracy: 0.92 (+/- 0.20) [Logistic Regression]\n",
      "Accuracy: 0.92 (+/- 0.15) [Decision Tree]\n",
      "Accuracy: 0.93 (+/- 0.10) [KNN]\n",
      "Accuracy: 0.97 (+/- 0.10) [Majority Voting]\n"
     ]
    }
   ],
   "source": [
    "#多数決を使ってクラスラベルを予測するために、個々の分類器をMajorityVoteClassifierオブジェクトで組み合わせてみる。\n",
    "mv_clf = MajorityVoteClassifier(classifiers=[pipe1,clf2,pipe3])\n",
    "clf_labels += ['Majority Voting']\n",
    "all_clf = [pipe1,clf2,pipe3,mv_clf]\n",
    "for clf,label in zip(all_clf,clf_labels):\n",
    "    scores = cross_val_score(estimator=clf,X=X_train,y=y_train,cv=10,scoring='roc_auc')\n",
    "    print('Accuracy: %0.2f (+/- %0.2f) [%s]') %(scores.mean(),scores.std(),label)"
   ]
  },
  {
   "cell_type": "code",
   "execution_count": null,
   "metadata": {
    "collapsed": true
   },
   "outputs": [],
   "source": []
  }
 ],
 "metadata": {
  "kernelspec": {
   "display_name": "Python 2",
   "language": "python",
   "name": "python2"
  },
  "language_info": {
   "codemirror_mode": {
    "name": "ipython",
    "version": 2
   },
   "file_extension": ".py",
   "mimetype": "text/x-python",
   "name": "python",
   "nbconvert_exporter": "python",
   "pygments_lexer": "ipython2",
   "version": "2.7.12"
  }
 },
 "nbformat": 4,
 "nbformat_minor": 0
}
