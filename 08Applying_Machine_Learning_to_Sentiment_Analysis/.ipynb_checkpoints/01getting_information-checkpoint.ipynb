{
 "cells": [
  {
   "cell_type": "markdown",
   "metadata": {},
   "source": [
    "# 機械学習の適用１ー感情分析\n",
    "- 人々の意見、レビュー、提案は政治学やビジネスにとって貴重な情報源となっている。\n",
    "- 自然言語処理の一分野である感情分析を取り上げる。\n",
    "- 極性（書き手の意見）に基づいてドキュメントを分類する方法を学ぶ。\n",
    "\n",
    "1.テキストデータのクレンジングと準備\n",
    "\n",
    "2.テキストドキュメントからの特徴ベクトルの構築\n",
    "\n",
    "3.映画レビューを肯定的な文と否定的な文に分類する機械学習のモデルのトレーニング\n",
    "\n",
    "4.アウトオブコア学習に基づく大規模なテキストデータセットの処理"
   ]
  },
  {
   "cell_type": "markdown",
   "metadata": {},
   "source": [
    "# 8.1 IMDbの映画レビューデータセットの取得\n",
    "- 感情分析は意見マイニングとも呼ばれる。\n",
    "- よく知られているタスクは、ある話題に関して書き手が表明した意見や感情に基づいてドキュメントを分類することである。\n",
    "- IMDbの映画レビューの大きなデータセットを扱う。\n",
    "- 映画レビューデートセットは、「肯定的」、「否定的」として両極に分類される50，000件の映画レビューで構成される。\n",
    "- これらの映画レビューのサブセットから意味のある情報を抽出し、レビューする人が映画を好きと評価したのか、嫌いと評価したのかを予測できる機械学習モデルの構築方法について説明する。"
   ]
  },
  {
   "cell_type": "code",
   "execution_count": 23,
   "metadata": {
    "collapsed": false
   },
   "outputs": [
    {
     "name": "stderr",
     "output_type": "stream",
     "text": [
      "0%                          100%\n",
      "[##############################] | ETA: 00:00:00\n",
      "Total time elapsed: 00:02:00\n"
     ]
    }
   ],
   "source": [
    "import pyprind\n",
    "import pandas as pd\n",
    "import os\n",
    "import codecs\n",
    "\n",
    "pbar = pyprind.ProgBar(50000)\n",
    "labels = {'pos':1,'neg':0}\n",
    "df = pd.DataFrame()\n",
    "\n",
    "for s in ('test','train'):\n",
    "    for l in ('pos','neg'):\n",
    "        path = './aclImdb/%s/%s' %(s,l)\n",
    "        for afile in os.listdir(path):\n",
    "            with codecs.open(os.path.join(path,afile),mode='r',encoding='utf-8') as infile:\n",
    "                txt = infile.read()\n",
    "                df = df.append([[txt, labels[l]]],ignore_index=True)\n",
    "                pbar.update()\n",
    "                \n",
    "df.columns = ['review','sentiment']"
   ]
  },
  {
   "cell_type": "code",
   "execution_count": 29,
   "metadata": {
    "collapsed": false
   },
   "outputs": [
    {
     "data": {
      "text/html": [
       "<div>\n",
       "<table border=\"1\" class=\"dataframe\">\n",
       "  <thead>\n",
       "    <tr style=\"text-align: right;\">\n",
       "      <th></th>\n",
       "      <th>review</th>\n",
       "      <th>sentiment</th>\n",
       "    </tr>\n",
       "  </thead>\n",
       "  <tbody>\n",
       "    <tr>\n",
       "      <th>25957</th>\n",
       "      <td>I found this to be a surprisingly light-handed...</td>\n",
       "      <td>1</td>\n",
       "    </tr>\n",
       "    <tr>\n",
       "      <th>19386</th>\n",
       "      <td>'Bland' is probably the word I'd use to try an...</td>\n",
       "      <td>0</td>\n",
       "    </tr>\n",
       "    <tr>\n",
       "      <th>31501</th>\n",
       "      <td>almost every review of this movie I'd seen was...</td>\n",
       "      <td>1</td>\n",
       "    </tr>\n",
       "    <tr>\n",
       "      <th>35365</th>\n",
       "      <td>Now, I have seen a lot of movies in my day, bu...</td>\n",
       "      <td>1</td>\n",
       "    </tr>\n",
       "    <tr>\n",
       "      <th>36753</th>\n",
       "      <td>This Academy Award winning short film can rank...</td>\n",
       "      <td>1</td>\n",
       "    </tr>\n",
       "  </tbody>\n",
       "</table>\n",
       "</div>"
      ],
      "text/plain": [
       "                                                  review  sentiment\n",
       "25957  I found this to be a surprisingly light-handed...          1\n",
       "19386  'Bland' is probably the word I'd use to try an...          0\n",
       "31501  almost every review of this movie I'd seen was...          1\n",
       "35365  Now, I have seen a lot of movies in my day, bu...          1\n",
       "36753  This Academy Award winning short film can rank...          1"
      ]
     },
     "execution_count": 29,
     "metadata": {},
     "output_type": "execute_result"
    }
   ],
   "source": [
    "df.head()"
   ]
  },
  {
   "cell_type": "code",
   "execution_count": 30,
   "metadata": {
    "collapsed": false
   },
   "outputs": [],
   "source": [
    "import numpy as np\n",
    "np.random.seed(0)\n",
    "df = df.reindex(np.random.permutation(df.index))\n",
    "df.to_csv('./movie_data.csv',index=False,encoding='utf-8')"
   ]
  },
  {
   "cell_type": "code",
   "execution_count": 31,
   "metadata": {
    "collapsed": false
   },
   "outputs": [
    {
     "data": {
      "text/html": [
       "<div>\n",
       "<table border=\"1\" class=\"dataframe\">\n",
       "  <thead>\n",
       "    <tr style=\"text-align: right;\">\n",
       "      <th></th>\n",
       "      <th>review</th>\n",
       "      <th>sentiment</th>\n",
       "    </tr>\n",
       "  </thead>\n",
       "  <tbody>\n",
       "    <tr>\n",
       "      <th>0</th>\n",
       "      <td>I went to the cinema to watch a preview of thi...</td>\n",
       "      <td>0</td>\n",
       "    </tr>\n",
       "    <tr>\n",
       "      <th>1</th>\n",
       "      <td>Considering it's basically low-budget cast, th...</td>\n",
       "      <td>1</td>\n",
       "    </tr>\n",
       "    <tr>\n",
       "      <th>2</th>\n",
       "      <td>i watched this movie 10 years ago. and have wa...</td>\n",
       "      <td>1</td>\n",
       "    </tr>\n",
       "  </tbody>\n",
       "</table>\n",
       "</div>"
      ],
      "text/plain": [
       "                                              review  sentiment\n",
       "0  I went to the cinema to watch a preview of thi...          0\n",
       "1  Considering it's basically low-budget cast, th...          1\n",
       "2  i watched this movie 10 years ago. and have wa...          1"
      ]
     },
     "execution_count": 31,
     "metadata": {},
     "output_type": "execute_result"
    }
   ],
   "source": [
    "df = pd.read_csv('./movie_data.csv')\n",
    "df.head(3)"
   ]
  }
 ],
 "metadata": {
  "kernelspec": {
   "display_name": "Python 2",
   "language": "python",
   "name": "python2"
  },
  "language_info": {
   "codemirror_mode": {
    "name": "ipython",
    "version": 2
   },
   "file_extension": ".py",
   "mimetype": "text/x-python",
   "name": "python",
   "nbconvert_exporter": "python",
   "pygments_lexer": "ipython2",
   "version": "2.7.11"
  }
 },
 "nbformat": 4,
 "nbformat_minor": 0
}
