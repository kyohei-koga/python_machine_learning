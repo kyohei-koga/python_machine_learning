{
 "cells": [
  {
   "cell_type": "code",
   "execution_count": 1,
   "metadata": {
    "collapsed": false
   },
   "outputs": [
    {
     "data": {
      "text/html": [
       "<div>\n",
       "<table border=\"1\" class=\"dataframe\">\n",
       "  <thead>\n",
       "    <tr style=\"text-align: right;\">\n",
       "      <th></th>\n",
       "      <th>review</th>\n",
       "      <th>sentiment</th>\n",
       "    </tr>\n",
       "  </thead>\n",
       "  <tbody>\n",
       "    <tr>\n",
       "      <th>0</th>\n",
       "      <td>I went to the cinema to watch a preview of thi...</td>\n",
       "      <td>0</td>\n",
       "    </tr>\n",
       "    <tr>\n",
       "      <th>1</th>\n",
       "      <td>Considering it's basically low-budget cast, th...</td>\n",
       "      <td>1</td>\n",
       "    </tr>\n",
       "    <tr>\n",
       "      <th>2</th>\n",
       "      <td>i watched this movie 10 years ago. and have wa...</td>\n",
       "      <td>1</td>\n",
       "    </tr>\n",
       "  </tbody>\n",
       "</table>\n",
       "</div>"
      ],
      "text/plain": [
       "                                              review  sentiment\n",
       "0  I went to the cinema to watch a preview of thi...          0\n",
       "1  Considering it's basically low-budget cast, th...          1\n",
       "2  i watched this movie 10 years ago. and have wa...          1"
      ]
     },
     "execution_count": 1,
     "metadata": {},
     "output_type": "execute_result"
    }
   ],
   "source": [
    "import pandas as pd\n",
    "df = pd.read_csv('./movie_data.csv')\n",
    "df.head(3)"
   ]
  },
  {
   "cell_type": "markdown",
   "metadata": {},
   "source": [
    "# 8.2 BoWモデルの紹介\n",
    "- テキストを数値の特徴ベクトルとして表現できるBoWモデルを紹介する。\n",
    "\n",
    "1.ドキュメントの集合全体から、例えば単語という一意なトークンからなる語彙を作成する。\n",
    "\n",
    "2.各ドキュメントでの各単語の出現回数を含んだ特徴ベクトルを構築する。\n",
    "\n",
    "- 各ドキュメントにおいて一意な単語は、BoWの語彙を構成しているすべての単語の一部にすぎない。この時特徴ベクトルの大半の成分は0となるため疎ベクトルと呼ばれる。"
   ]
  },
  {
   "cell_type": "markdown",
   "metadata": {},
   "source": [
    "# 8.2.1 単語を特徴ベクトルに変換する。\n",
    "- BoWモデルを構築するには、scikit-learnに実装されているCountVectorizerクラスを使用できる。このクラスはテキストデータの配列を入力として、BoWモデルを自動的に生成する。"
   ]
  },
  {
   "cell_type": "code",
   "execution_count": 2,
   "metadata": {
    "collapsed": true
   },
   "outputs": [],
   "source": [
    "import numpy as np\n",
    "from sklearn.feature_extraction.text import CountVectorizer\n",
    "count = CountVectorizer()#nグラム指定可能\n",
    "docs = np.array(['The sun is shining',\n",
    "                'The weather is sweet',\n",
    "                'The sun is shining, the weather is sweet, and one and one is two'])\n",
    "bag = count.fit_transform(docs)"
   ]
  },
  {
   "cell_type": "code",
   "execution_count": 3,
   "metadata": {
    "collapsed": false
   },
   "outputs": [
    {
     "name": "stdout",
     "output_type": "stream",
     "text": [
      "{u'and': 0, u'sun': 4, u'is': 1, u'two': 7, u'one': 2, u'weather': 8, u'sweet': 5, u'the': 6, u'shining': 3}\n"
     ]
    }
   ],
   "source": [
    "#語彙はディクショナリに格納されている。\n",
    "print(count.vocabulary_)"
   ]
  },
  {
   "cell_type": "code",
   "execution_count": 4,
   "metadata": {
    "collapsed": false
   },
   "outputs": [
    {
     "name": "stdout",
     "output_type": "stream",
     "text": [
      "[[0 1 0 1 1 0 1 0 0]\n",
      " [0 1 0 0 0 1 1 0 1]\n",
      " [2 3 2 1 1 1 2 1 1]]\n"
     ]
    }
   ],
   "source": [
    "#特徴ベクトルを出力する\n",
    "print(bag.toarray())"
   ]
  },
  {
   "cell_type": "markdown",
   "metadata": {},
   "source": [
    "- この特徴ベクトルの各要素のインデックスは、ディクショナリの整数値に対応している。\n",
    "- 特徴ベクトルの各成分はナマの出現頻度と呼ばれ、$tf(t,d)$で表さられる。これはドキュメント$d$における単語$t$の出現回数を表す。"
   ]
  },
  {
   "cell_type": "markdown",
   "metadata": {},
   "source": [
    "# 8.2.2 TF-IDFを使って単語の関連性を評価する。"
   ]
  },
  {
   "cell_type": "markdown",
   "metadata": {
    "collapsed": true
   },
   "source": [
    "- 複数のドキュメントに同じ単語が出現することがよくある。頻繁に出現する単語は、たいてい、意味のある情報や識別情報を含んでない。\n",
    "- TF-IDFという便利な方法がある。この手法を利用すれば、特徴ベクトルに頻繁に出現する単語の重みを減らすことができる。\n",
    "- TF（単語の出現頻度）とIDF（逆文書頻度）の積として定義される。\n",
    "$$tf-idf(t,d) = tf(t,d)\\times idf(t,d)$$\n",
    "- ここで、tf(t,d)は単語の出現頻度。逆文書頻度idf(t,d)は以下の方法で求める。\n",
    "$$idf(t,d) = log\\frac{n_{d}}{1+df(t,d)}$$\n",
    "- $n_{d}$はドキュメントの総数、$df(t,d)$は単語tを含んでいるドキュメントdの個数を表す。\n",
    "- scikit-learnには、TfidfTransformerクラスという変換器も実装されている。\n",
    "- このクラスはCountVectrizerのfit_transformメソッドから「ナマの単語の出現頻度」を入力として受け取り、変換する。"
   ]
  },
  {
   "cell_type": "code",
   "execution_count": 9,
   "metadata": {
    "collapsed": false
   },
   "outputs": [
    {
     "name": "stdout",
     "output_type": "stream",
     "text": [
      "[[ 0.    0.43  0.    0.56  0.56  0.    0.43  0.    0.  ]\n",
      " [ 0.    0.43  0.    0.    0.    0.56  0.43  0.    0.56]\n",
      " [ 0.5   0.45  0.5   0.19  0.19  0.19  0.3   0.25  0.19]]\n"
     ]
    }
   ],
   "source": [
    "from sklearn.feature_extraction.text import TfidfTransformer\n",
    "tfidf = TfidfTransformer(use_idf=True,norm='l2',smooth_idf=True)\n",
    "np.set_printoptions(precision=2)\n",
    "print(tfidf.fit_transform(count.fit_transform(docs))).toarray()"
   ]
  },
  {
   "cell_type": "markdown",
   "metadata": {},
   "source": [
    "- TfidfTransformerと標準的な定義式は異なる。scikit-learnに実装されているIDFとTF-IDFの式は以下の通り。\n",
    "$$idf(t,d) = log \\frac{1+n_{d}}{1+df(t,d)}$$\n",
    "$$tf-idf(t,d) = tf(t,d)\\times(idf(t,d)+1)$$\n",
    "- TF-IDFを計算する前に「生の単語の出現頻度」を正則化するのがより一般的である。\n",
    "- ただし、TfidfTransformerはTF-IDFを正則化する。\n",
    "- デフォルトではscikit-learnのTfidftransformerはL2正則化を適用する。\n",
    "$$\\nu_{norm} = \\frac{\\vec{\\nu}}{\\| \\vec{\\nu} \\|_{2}} = \\frac{\\vec{\\nu}}{\\sqrt{\\nu^{2}_{1}+{\\nu}^{2}_{2} + \\cdots + \\nu^{2}_{n}}} = \\frac{\\vec{\\nu}}{(\\Sigma^{n}_{i=1} \\nu^{2}_{i})^{1/2}}$$"
   ]
  },
  {
   "cell_type": "markdown",
   "metadata": {},
   "source": [
    "# 8.2.3 テキストデータのクレンジング\n",
    "- テキストデータをクレンジングすることが最初の重要なステップとなる。"
   ]
  },
  {
   "cell_type": "code",
   "execution_count": 37,
   "metadata": {
    "collapsed": false
   },
   "outputs": [
    {
     "data": {
      "text/plain": [
       "'rgiving and deeply involving plot in this picture.'"
      ]
     },
     "execution_count": 37,
     "metadata": {},
     "output_type": "execute_result"
    }
   ],
   "source": [
    "#1つ目のドキュメントから、最後の50文字を出力してみる。\n",
    "df.loc[90,'review'][-50:]"
   ]
  },
  {
   "cell_type": "markdown",
   "metadata": {},
   "source": [
    "- テキストにはHTMLマークアップに加えて、句読点やその他の非英字文字が含まれている。\n",
    "- 文脈によっては句読点は有益な追加情報を表すことがある。\n",
    "- ここでは簡単なために、感情分析に確実に役立つ\":)\"のような顔文字だけを残し、それ以外の句読点はすべて削除する。\n",
    "- これにはpythonの正規表現ライブラリであるreを使用する。"
   ]
  },
  {
   "cell_type": "code",
   "execution_count": 29,
   "metadata": {
    "collapsed": true
   },
   "outputs": [],
   "source": [
    "import re\n",
    "def preprocessor(text):\n",
    "    text = re.sub('<[^>]*>','',text)\n",
    "    emotions = re.findall('(?::|;|=)(?:-)?(?:\\)|\\(|D|P)',text)\n",
    "    text = re.sub('[\\W]+',' ',text.lower()) + ''.join(emotions).replace('-','')\n",
    "    return text"
   ]
  },
  {
   "cell_type": "markdown",
   "metadata": {},
   "source": [
    "- このコードでは、１つ目の正規表現<[^>]*>を使用することで、映画レビューに含まれているHTMLマークアップを完全に削除しようとしている。\n",
    "- 多くのプログラマは概してHTMLの解析に正規表現を使用しないように勧めている。\n",
    "- 正規表現について学ぶ場合は以下のサイトがおすすめ\n",
    "https://developers.google.com/edu/python/regular-expressions"
   ]
  },
  {
   "cell_type": "code",
   "execution_count": 35,
   "metadata": {
    "collapsed": false
   },
   "outputs": [
    {
     "data": {
      "text/plain": [
       "''"
      ]
     },
     "execution_count": 35,
     "metadata": {},
     "output_type": "execute_result"
    }
   ],
   "source": [
    "preprocessor(df.loc[90,'review'][-50:0])"
   ]
  },
  {
   "cell_type": "code",
   "execution_count": 34,
   "metadata": {
    "collapsed": false
   },
   "outputs": [
    {
     "data": {
      "text/plain": [
       "'this is a test :):(:)'"
      ]
     },
     "execution_count": 34,
     "metadata": {},
     "output_type": "execute_result"
    }
   ],
   "source": [
    "preprocessor(\"</a>This :) is :( a test :-)!\")"
   ]
  },
  {
   "cell_type": "code",
   "execution_count": 38,
   "metadata": {
    "collapsed": true
   },
   "outputs": [],
   "source": [
    "df['review'] = df['review'].apply(preprocessor)"
   ]
  },
  {
   "cell_type": "markdown",
   "metadata": {},
   "source": [
    "# 8.2.4 ドキュメントをトークン化する\n",
    "- テキストデータを分析するためにテキストコーパスを個々の要素に分割する方法について考える必要がある。\n",
    "- ドキュメントをトークン化する方法の１つは、クレンジングしたドキュメントを空白文字で区切ることで、個々の単語に分割する。"
   ]
  },
  {
   "cell_type": "code",
   "execution_count": 50,
   "metadata": {
    "collapsed": false
   },
   "outputs": [
    {
     "data": {
      "text/plain": [
       "['runers', 'like', 'running', 'and', 'thus', 'they', 'run']"
      ]
     },
     "execution_count": 50,
     "metadata": {},
     "output_type": "execute_result"
    }
   ],
   "source": [
    "def tokenizer(text):\n",
    "    return text.split()\n",
    "\n",
    "tokenizer('runers like running and thus they run')"
   ]
  },
  {
   "cell_type": "markdown",
   "metadata": {},
   "source": [
    "- トークン化の便利な手法の一つにワードステミングがある。\n",
    "- ワードステミングは、単語を原型に変換することで、関連する単語を同じ語幹にマッピングできるようにするプロセスである。"
   ]
  },
  {
   "cell_type": "code",
   "execution_count": 53,
   "metadata": {
    "collapsed": false
   },
   "outputs": [
    {
     "data": {
      "text/plain": [
       "[u'runner', u'like', u'run', u'and', u'thu', u'they', u'run']"
      ]
     },
     "execution_count": 53,
     "metadata": {},
     "output_type": "execute_result"
    }
   ],
   "source": [
    "from nltk.stem.porter import PorterStemmer\n",
    "porter = PorterStemmer()\n",
    "def tokenizer_porter(text):\n",
    "    return [porter.stem(word) for word in text.split()]\n",
    "\n",
    "tokenizer_porter('runners like running and thus they run')"
   ]
  },
  {
   "cell_type": "markdown",
   "metadata": {},
   "source": [
    "- runningが原型のrunにステミングされている。\n",
    "- thusがthuという存在しない単語にステミングされている。\n",
    "- 他にもLancasterステマーやSnowballステマーなどが存在する。"
   ]
  },
  {
   "cell_type": "markdown",
   "metadata": {},
   "source": [
    "- ストップワードとは、あらゆる種類のテキストで見られるごくありふれた単語のこと。\n",
    "- ストップワードは様々なクラスのドキュメントの区別に有益となる情報をまったく含んでいないとみなされる。\n",
    "- すトプワードの除去が役立つのは、TF-IDFではなく、ナマの単語の出現頻度が正規化された単語の出現頻度を扱っている場合である。TF-IDFは、頻繁に出現する単語の重みを減らしているため。"
   ]
  },
  {
   "cell_type": "code",
   "execution_count": 56,
   "metadata": {
    "collapsed": false
   },
   "outputs": [
    {
     "name": "stdout",
     "output_type": "stream",
     "text": [
      "[nltk_data] Downloading package stopwords to /home/kyohei/nltk_data...\n",
      "[nltk_data]   Unzipping corpora/stopwords.zip.\n"
     ]
    },
    {
     "data": {
      "text/plain": [
       "True"
      ]
     },
     "execution_count": 56,
     "metadata": {},
     "output_type": "execute_result"
    }
   ],
   "source": [
    "#ストップワードの除去\n",
    "import nltk\n",
    "nltk.download('stopwords')"
   ]
  },
  {
   "cell_type": "code",
   "execution_count": 57,
   "metadata": {
    "collapsed": false
   },
   "outputs": [
    {
     "data": {
      "text/plain": [
       "[u'runner', u'like', u'run', u'run', u'lot']"
      ]
     },
     "execution_count": 57,
     "metadata": {},
     "output_type": "execute_result"
    }
   ],
   "source": [
    "from nltk.corpus import stopwords\n",
    "stop = stopwords.words('english')\n",
    "[w for w in tokenizer_porter('a runner likes running and runs a lot')[-10:] if w not in stop]"
   ]
  },
  {
   "cell_type": "markdown",
   "metadata": {},
   "source": [
    "# 8.2.5 ドキュメントを分類するロジスティック回帰モデルのトレーニング"
   ]
  },
  {
   "cell_type": "code",
   "execution_count": 60,
   "metadata": {
    "collapsed": true
   },
   "outputs": [],
   "source": [
    "#テストデータとトレーニングデータに分割\n",
    "X_train = df.loc[:25000,'review'].values\n",
    "y_train = df.loc[:25000,'sentiment'].values\n",
    "X_test = df.loc[25000:,'review'].values\n",
    "y_test = df.loc[25000:,'sentiment'].values"
   ]
  },
  {
   "cell_type": "code",
   "execution_count": 62,
   "metadata": {
    "collapsed": false
   },
   "outputs": [
    {
     "name": "stdout",
     "output_type": "stream",
     "text": [
      "Fitting 5 folds for each of 48 candidates, totalling 240 fits\n"
     ]
    },
    {
     "name": "stderr",
     "output_type": "stream",
     "text": [
      "[Parallel(n_jobs=-1)]: Done  46 tasks      | elapsed: 17.6min\n",
      "[Parallel(n_jobs=-1)]: Done 196 tasks      | elapsed: 82.7min\n",
      "[Parallel(n_jobs=-1)]: Done 240 out of 240 | elapsed: 105.6min finished\n"
     ]
    },
    {
     "data": {
      "text/plain": [
       "GridSearchCV(cv=5, error_score='raise',\n",
       "       estimator=Pipeline(steps=[('vect', TfidfVectorizer(analyzer=u'word', binary=False, decode_error=u'strict',\n",
       "        dtype=<type 'numpy.int64'>, encoding=u'utf-8', input=u'content',\n",
       "        lowercase=False, max_df=1.0, max_features=None, min_df=1,\n",
       "        ngram_range=(1, 1), norm=u'l2', preprocessor=None, smooth_idf=Tru...nalty='l2', random_state=0, solver='liblinear', tol=0.0001,\n",
       "          verbose=0, warm_start=False))]),\n",
       "       fit_params={}, iid=True, n_jobs=-1,\n",
       "       param_grid=[{'vect__ngram_range': [(1, 1)], 'vect__tokenizer': [<function tokenizer at 0x7fe99c90e140>, <function tokenizer_porter at 0x7fe99c90e410>], 'clf__penalty': ['l1', 'l2'], 'clf__C': [1.0, 10.0, 100.0], 'vect__stop_words': [[u'i', u'me', u'my', u'myself', u'we', u'our', u'ours', u'ourselves...e99c90e410>], 'vect__use_idf': [False], 'clf__C': [1.0, 10.0, 100.0], 'clf__penalty': ['l1', 'l2']}],\n",
       "       pre_dispatch='2*n_jobs', refit=True, scoring='accuracy', verbose=1)"
      ]
     },
     "execution_count": 62,
     "metadata": {},
     "output_type": "execute_result"
    }
   ],
   "source": [
    "#GredSearchCVオブジェクトを使ってロジスティック回帰モデルの最適なパラメータ集合を求める。\n",
    "from sklearn.grid_search import GridSearchCV\n",
    "from sklearn.pipeline import Pipeline\n",
    "from sklearn.linear_model import LogisticRegression\n",
    "from sklearn.feature_extraction.text import TfidfVectorizer\n",
    "\n",
    "tfidf = TfidfVectorizer(strip_accents=None,lowercase=False,preprocessor=None)\n",
    "param_grid = [{'vect__ngram_range':[(1,1)],\n",
    "              'vect__stop_words':[stop,None],\n",
    "             'vect__tokenizer':[tokenizer,tokenizer_porter],\n",
    "             'clf__penalty':['l1','l2'],\n",
    "             'clf__C':[1.0,10.0,100.0]},\n",
    "              {'vect__ngram_range':[(1,1)],\n",
    "              'vect__stop_words':[stop,None],\n",
    "              'vect__tokenizer':[tokenizer,tokenizer_porter],\n",
    "              'vect__use_idf':[False],\n",
    "              'vect__norm':[None],\n",
    "              'clf__penalty':['l1','l2'],\n",
    "              'clf__C':[1.0,10.0,100.0]}]\n",
    "\n",
    "lr_tfidf = Pipeline([('vect',tfidf),('clf',LogisticRegression(random_state=0))])\n",
    "gs_lr_tfidf = GridSearchCV(lr_tfidf,param_grid,scoring='accuracy',cv=5,verbose=1,n_jobs=-1)\n",
    "gs_lr_tfidf.fit(X_train,y_train)"
   ]
  },
  {
   "cell_type": "markdown",
   "metadata": {},
   "source": [
    "- CountVectrizerとTfidfTransformerを置き換え、２つの変換オブジェクト組み合わせたTfidfVectorizerに変更している。\n",
    "- params_gridは２つのパラメータディクショナリで構成されている。\n",
    "- 1つ目のディクショナリーでは、デフォルト設定use_idf=True,smooth_idf=True,norm=l2のTfidfVectorizerを使ってTF-IDFを計算している。\n",
    "- 2つ目のディクショナリでは、生の単語の出現頻度に基づいてモデルをトレーニングするために、それらのパラメータをuse_idf=False,norm=Noneに設定している。\n",
    "- ロジスティック回帰分類器自体については、penaltyパラメータを通じてモデルのトレーニングにL2/L1正則化を使用している。"
   ]
  },
  {
   "cell_type": "code",
   "execution_count": 64,
   "metadata": {
    "collapsed": false
   },
   "outputs": [
    {
     "name": "stdout",
     "output_type": "stream",
     "text": [
      "Best parameter set: {'vect__ngram_range': (1, 1), 'vect__tokenizer': <function tokenizer at 0x7fe99c90e140>, 'clf__penalty': 'l2', 'clf__C': 10.0, 'vect__stop_words': None}\n"
     ]
    }
   ],
   "source": [
    "print('Best parameter set: %s') % gs_lr_tfidf.best_params_"
   ]
  },
  {
   "cell_type": "code",
   "execution_count": 65,
   "metadata": {
    "collapsed": false
   },
   "outputs": [
    {
     "name": "stdout",
     "output_type": "stream",
     "text": [
      "CV Accuracy:   1\n"
     ]
    }
   ],
   "source": [
    "#グリッドサーチによって得られた最良のモデルを使用して、トレーニングデータセットでの\n",
    "#5分割交差検証の正解率と平均と、テストデータセットの正解率を出力してみる。\n",
    "print('CV Accuracy: %3.f')%gs_lr_tfidf.best_score_"
   ]
  },
  {
   "cell_type": "code",
   "execution_count": 67,
   "metadata": {
    "collapsed": false
   },
   "outputs": [
    {
     "name": "stdout",
     "output_type": "stream",
     "text": [
      "Tset Accuracy: 0.899\n"
     ]
    }
   ],
   "source": [
    "clf = gs_lr_tfidf.best_estimator_\n",
    "print('Tset Accuracy: %.3f') %clf.score(X_test,y_test)"
   ]
  }
 ],
 "metadata": {
  "kernelspec": {
   "display_name": "Python 2",
   "language": "python",
   "name": "python2"
  },
  "language_info": {
   "codemirror_mode": {
    "name": "ipython",
    "version": 2
   },
   "file_extension": ".py",
   "mimetype": "text/x-python",
   "name": "python",
   "nbconvert_exporter": "python",
   "pygments_lexer": "ipython2",
   "version": "2.7.12"
  }
 },
 "nbformat": 4,
 "nbformat_minor": 0
}
