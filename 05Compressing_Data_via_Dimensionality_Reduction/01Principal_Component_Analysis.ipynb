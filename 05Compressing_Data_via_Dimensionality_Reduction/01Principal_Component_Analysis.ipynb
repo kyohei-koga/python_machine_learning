{
 "cells": [
  {
   "cell_type": "markdown",
   "metadata": {},
   "source": [
    "# 次元削減でデータを圧縮する\n",
    "- 特徴選択に代わる次元削減のもう一つの方法は、特徴抽出である。\n",
    "- 特徴抽出では、データを変換し、元の次元よりも低い次元の新しい特徴部分空間を作成するものである。\n",
    "- 紹介されるの以下の３つ\n",
    "\n",
    "１．教師なしデータ圧縮での主成分分析\n",
    "２．クラスの分離を最大化する教師あり次元削減法としての線形判別分析\n",
    "３．カーネル主成分分析による非線形次元削減"
   ]
  },
  {
   "cell_type": "markdown",
   "metadata": {},
   "source": [
    "# 5.1 主成分分析(PCA)による教師なし削減\n",
    "- 特徴抽出では、データが新しい特徴空間に変換または射影される。次元削減では、データに含まれる情報の大部分を維持することを目標としたデータ圧縮の手段として捉えられる。\n",
    "- 一般に特徴抽出は計算効率を改善するために使用される。\n",
    "- PCAは特徴量同士の相関関係に基づいてデータからパターンを抽出するのに役立つ。\n",
    "- PCAの目的は、高次元データにおいて分散が最大となる方向を見つけ出し、元の次元と同じか低い次元の新しい部分空間へ射影することである。\n",
    "- 新しい特徴量軸が互いに直行するという制約があるとすれば、新しい部分空間の直行軸（主成分）を分散が最大となる方向とみなすことができる。\n",
    "- PCAを次元削減に使用する場合はd×k次元の変換行列$\\vec{W}$を作成する。これにより、サンプルベクトル$\\vec{x}$を、新しいk次元の特徴部分空間に写像できる\n",
    "$$ \\vec{x} = [x_{1},x_{2},\\cdots,x_{d}], \\, \\vec{x} \\in \\mathbb{R}^{d}$$\n",
    "$$↓\\vec{x} \\vec{W} , \\, \\vec{W} \\in \\mathbb{R}^{d \\times k}$$\n",
    "$$\\vec{z} = [z_{1},z_{2},\\cdots,z_{k}], \\, \\vec{z} \\in \\mathbb{R}^{k}$$\n",
    "\n",
    "- 元のd次元のデータを新しいk次元の部分空間に変換すると、最初の主成分の分散は最大となる\n",
    "- PCAの方向はデータセットのスケーリングに対して非常に敏感であるので、標準化すること。\n",
    "- PCAアルゴリズムのスッテプは以下の通り。\n",
    "\n",
    "１．d次元のデータ・セットを標準化する\n",
    "\n",
    "２．標準化したデータセットの共分散行列を作成する\n",
    "\n",
    "３．共分散行列を固有ベクトルと固有値に分解する\n",
    "\n",
    "４．最っとも大きいk個の固有値に対応するk個の固有ベクトルを選択する。この場合のkは新しい特徴部分空間の次元数を表す($k \\le d$)\n",
    "\n",
    "５．上位k個の固有ベクトルから射影行列Wを作成する\n",
    "\n",
    "６．射影行列$\\vec{W}$を使ってd次元の入力データ・セット$\\vec{X}$を変換し、新しいk次元の特徴部分空間を取得する。"
   ]
  },
  {
   "cell_type": "markdown",
   "metadata": {},
   "source": [
    "# 5.1.1 共分散行列の固有対を求める。\n",
    "- はじめの4ステップを実行する"
   ]
  },
  {
   "cell_type": "code",
   "execution_count": 1,
   "metadata": {
    "collapsed": false
   },
   "outputs": [],
   "source": [
    "import pandas as pd\n",
    "df_wine = pd.read_csv('https://archive.ics.uci.edu/ml/machine-learning-databases/wine/wine.data',header=None)\n",
    "\n",
    "from sklearn.cross_validation import train_test_split\n",
    "from sklearn.preprocessing import StandardScaler\n",
    "\n",
    "#2列目以降のデータをXに、１列目のデータをyに格納\n",
    "X,y = df_wine.iloc[:,1:].values,df_wine.iloc[:,0].values\n",
    "#トレーニングデータとテストデータに分割\n",
    "X_train,X_test,y_train,y_test = train_test_split(X,y,test_size=0.3,random_state=0)\n",
    "#標準化\n",
    "sc = StandardScaler()\n",
    "X_train_std = sc.fit_transform(X_train)\n",
    "X_test_std = sc.transform(X_test)"
   ]
  },
  {
   "cell_type": "markdown",
   "metadata": {},
   "source": [
    "- d×d次元の共分散行列は、特徴量のペアごとの共分散を保持する。\n",
    "$$\\sigma_{jk} = \\frac{1}{n} \\sum^{n}_{i=1} (x^{(i)}_{j} - \\mu_{j})(x^{(i)}_{k} - \\mu_{k})$$\n",
    "- ２つの特徴量の間の共分散が正の場合は、それらの特徴量がともに増加または減少することを表し、負の場合は、それらの特徴量が反対方向に変化することを表す。\n",
    "$$\\Sigma = \\begin{bmatrix} \\sigma^{2}_{1} & \\sigma^{2}_{12} & \\sigma^{2}_{13} \\\\ \\sigma^{2}_{21} & \\sigma^{2}_{2} & \\sigma^{2}_{23} \\\\ \\sigma^{2}_{31} & \\sigma^{2}_{32} & \\sigma^{2}_{3} \\end{bmatrix} $$\n",
    "\n",
    "- 共分散行列の固有ベクトルが主成分（分散が最大となる方向を表すのに対して、対応する固有値はそれらの大きさを定義する。\n",
    "- wineデータセットの場合は、13×13の共分散行列から13個の固有値ベクトルと固有値が得られる\n",
    "- 固有ベクトル$\\vec{\\nu}$は以下の条件を満たす\n",
    "$$\\Sigma \\vec{\\nu} = \\lambda \\vec{\\nu}$$\n",
    "\n",
    "- $\\lambda$はスカラー（固有値）である。"
   ]
  },
  {
   "cell_type": "code",
   "execution_count": 2,
   "metadata": {
    "collapsed": false
   },
   "outputs": [
    {
     "name": "stdout",
     "output_type": "stream",
     "text": [
      "\n",
      "Eigenvalues \n",
      "[ 4.8923083   2.46635032  1.42809973  1.01233462  0.84906459  0.60181514\n",
      "  0.52251546  0.33051429  0.08414846  0.29595018  0.16831254  0.21432212\n",
      "  0.2399553 ]\n"
     ]
    }
   ],
   "source": [
    "import numpy as np\n",
    "#共分散行列を作成\n",
    "cov_mat = np.cov(X_train_std.T)\n",
    "eigen_vals,eigen_vecs = np.linalg.eig(cov_mat)\n",
    "print '\\nEigenvalues \\n%s' %eigen_vals"
   ]
  },
  {
   "cell_type": "markdown",
   "metadata": {},
   "source": [
    "- データ・セットを新しい特徴部分空間に圧縮し、次元を削減するためにデータに含まれる大半の情報（分散）を含んでいる固有ベクトル（主成分）だけを選択する。\n",
    "- 固有値は固有ベクトルの大きさを表すため、降順で並び替える。\n",
    "- 関心があるのは上位k個の固有値に対応する固有ベクトルである。\n",
    "- そこで、固有値の分散説明率をプロットする。固有値$\\lambda_{j}$の分散説明率とは、固有値の合計に対する固有値$\\lambda_{j}$の割合のことである。\n",
    "$$\\frac{\\lambda_{j}}{\\sum^{d}_{j=1}\\lambda_{j}}$$"
   ]
  },
  {
   "cell_type": "code",
   "execution_count": 8,
   "metadata": {
    "collapsed": false
   },
   "outputs": [
    {
     "data": {
      "image/png": "[encoded data removed]",
      "text/plain": [
       "<matplotlib.figure.Figure at 0x7f64e7117f10>"
      ]
     },
     "metadata": {},
     "output_type": "display_data"
    }
   ],
   "source": [
    "#固有値の合計\n",
    "tot = sum(eigen_vals)\n",
    "#分散説明理を計算\n",
    "var_exp = [(i / tot) for i in sorted(eigen_vals,reverse=True)]\n",
    "#分散説明率の累積和を取得\n",
    "cum_var_exp = np.cumsum(var_exp)\n",
    "\n",
    "import matplotlib.pyplot as plt\n",
    "%matplotlib inline\n",
    "\n",
    "#分散説明率の棒グラフを生成\n",
    "plt.bar(range(1,14),var_exp,alpha=0.5,align='center',label='individual explained variance')\n",
    "#分散説明率の累積和の階段グラフを作成\n",
    "plt.step(range(1,14),cum_var_exp,where='mid',label='cumulative explained variance')\n",
    "\n",
    "plt.ylabel('Explained variance ratio')\n",
    "plt.xlabel('Principal components')\n",
    "plt.legend(loc='best')\n",
    "plt.ylim([0,1])\n",
    "plt.show()"
   ]
  },
  {
   "cell_type": "markdown",
   "metadata": {},
   "source": [
    "- 1つ目の主成分だけで分散の40%近くを占めている事がわかる。また、最初の２つの主成分を合わせると、分散の60%近くになることもわかる\n",
    "- なお、このグラフはクラスラベルに関する情報は使用していない。\n",
    "- 主成分分析で計算される分散は特徴量の軸に沿った値の散らばりを計算する。"
   ]
  },
  {
   "cell_type": "markdown",
   "metadata": {},
   "source": [
    "# 5.1.2 特徴変換\n",
    "- wineデータ・セットを新しい主成分軸に変換する。\n",
    "- 固有値の大きいものから順に並び替え、選択された固有ベクトルから射影行列を計算する。\n",
    "- この射影行列を使ってデータをより低い次元の部分空間に射影する"
   ]
  },
  {
   "cell_type": "code",
   "execution_count": 11,
   "metadata": {
    "collapsed": true
   },
   "outputs": [],
   "source": [
    "#（固有値、固有ベクトル）のタプルのリストを作成\n",
    "eigen_pairs = [(np.abs(eigen_vals[i]),eigen_vecs[:,i]) for i in range(len(eigen_vals))]\n",
    "#(固有値,固有ベクトル)のタプルを大きいもの順に並び替え\n",
    "eigen_pairs.sort(reverse=True)"
   ]
  },
  {
   "cell_type": "markdown",
   "metadata": {},
   "source": [
    "- ここでは上位２つの固有ベクトルを利用するが、一般的には計算効率と分類器の性能のバランスを見ながら、主成分の個数を決定する必要がある。"
   ]
  },
  {
   "cell_type": "code",
   "execution_count": 14,
   "metadata": {
    "collapsed": false
   },
   "outputs": [
    {
     "name": "stdout",
     "output_type": "stream",
     "text": [
      "Matrix W:\n",
      "[[-0.14669811  0.50417079]\n",
      " [ 0.24224554  0.24216889]\n",
      " [ 0.02993442  0.28698484]\n",
      " [ 0.25519002 -0.06468718]\n",
      " [-0.12079772  0.22995385]\n",
      " [-0.38934455  0.09363991]\n",
      " [-0.42326486  0.01088622]\n",
      " [ 0.30634956  0.01870216]\n",
      " [-0.30572219  0.03040352]\n",
      " [ 0.09869191  0.54527081]\n",
      " [-0.30032535 -0.27924322]\n",
      " [-0.36821154 -0.174365  ]\n",
      " [-0.29259713  0.36315461]]\n"
     ]
    }
   ],
   "source": [
    "w = np.hstack((eigen_pairs[0][1][:,np.newaxis],eigen_pairs[1][1][:,np.newaxis]))\n",
    "print 'Matrix W:\\n%s' %w"
   ]
  },
  {
   "cell_type": "markdown",
   "metadata": {},
   "source": [
    "- 射影行列Wを使ってサンプルxをPCAの部分空間に変換し、２つの新しい特徴量からなる２次元のサンプルベクトルx'を生成できる\n",
    "$$\\vec{x^{'}} = \\vec{x}\\vec{W}$$"
   ]
  },
  {
   "cell_type": "code",
   "execution_count": 21,
   "metadata": {
    "collapsed": false
   },
   "outputs": [
    {
     "data": {
      "text/plain": [
       "array([-2.59891628,  0.00484089])"
      ]
     },
     "execution_count": 21,
     "metadata": {},
     "output_type": "execute_result"
    }
   ],
   "source": [
    "X_train_std[0].dot(w)"
   ]
  },
  {
   "cell_type": "code",
   "execution_count": 22,
   "metadata": {
    "collapsed": true
   },
   "outputs": [],
   "source": [
    "X_train_pca = X_train_std.dot(w)"
   ]
  },
  {
   "cell_type": "code",
   "execution_count": 24,
   "metadata": {
    "collapsed": false
   },
   "outputs": [
    {
     "data": {
      "image/png": "[encoded data removed]",
      "text/plain": [
       "<matplotlib.figure.Figure at 0x7f64f5326790>"
      ]
     },
     "metadata": {},
     "output_type": "display_data"
    }
   ],
   "source": [
    "#二次元の散布図にプロット\n",
    "colors = ['r','b','g']\n",
    "markers = ['s','x','o']\n",
    "#「クラスラベル」、「点の色」、「点の種類」の組み合わせからなるリストを生成してプロット\n",
    "for l,c,m in zip(np.unique(y_train),colors,markers):\n",
    "    plt.scatter(X_train_pca[y_train==l,0],X_train_pca[y_train==l,1],c=c,label=l,marker=m)\n",
    "    \n",
    "plt.xlabel('PC 1')\n",
    "plt.ylabel('PC 2')\n",
    "plt.legend(loc='lower left')\n",
    "plt.show()"
   ]
  },
  {
   "cell_type": "markdown",
   "metadata": {},
   "source": [
    "- データは２つ目の主成分であるy軸よりも１つ目の主成分であるx軸沿いに広がっている。"
   ]
  },
  {
   "cell_type": "markdown",
   "metadata": {},
   "source": [
    "# 5.1.3\n",
    "- PCAはsklearnの変換器クラスの１つである。"
   ]
  },
  {
   "cell_type": "code",
   "execution_count": 33,
   "metadata": {
    "collapsed": true
   },
   "outputs": [],
   "source": [
    "from matplotlib.colors import ListedColormap\n",
    "\n",
    "def plot_decision_regions(X,y,classifier,resolution=0.02):\n",
    "    \n",
    "    #マーカとカラーマップの準備\n",
    "    markers = ('s','x','o','^','v')\n",
    "    colors = ('red','blue','lightgreen','grey','cyan')\n",
    "    cmap = ListedColormap(colors[:len(np.unique(y))])\n",
    "    \n",
    "    #決定領域のプロット\n",
    "    x1_min,x1_max = X[:,0].min() - 1,X[:,0].max() + 1\n",
    "    x2_min,x2_max = X[:,1].min() - 1,X[:,1].max() + 1\n",
    "    \n",
    "    #グリッドポイントの生成\n",
    "    xx1,xx2 = np.meshgrid(np.arange(x1_min,x1_max,resolution),np.arange(x2_min,x2_max,resolution))\n",
    "    \n",
    "    #各特徴量を１次元配列に変換して予測を実行\n",
    "    Z = classifier.predict(np.array([xx1.ravel(),xx2.ravel()]).T)\n",
    "    # 予測結果を元のグリッドポイントのデータサイズに変換\n",
    "    Z = Z.reshape(xx1.shape)\n",
    "    #グリッドポイントの等高線のプロット\n",
    "    plt.contourf(xx1,xx2,Z,alpha=0.4,cmap=cmap)\n",
    "    #軸の範囲の設定\n",
    "    plt.xlim(xx1.min(),xx1.max())\n",
    "    plt.ylim(xx2.min(),xx2.max())\n",
    "    \n",
    "    #クラスごとにサンプルをプロット\n",
    "    for idx,cl in enumerate(np.unique(y)):\n",
    "        plt.scatter(x=X[y==cl,0],y=X[y==cl,1],alpha=0.8,c=cmap(idx),marker=markers[idx],label=cl)"
   ]
  },
  {
   "cell_type": "code",
   "execution_count": 38,
   "metadata": {
    "collapsed": false
   },
   "outputs": [
    {
     "data": {
      "image/png": "[encoded data removed]",
      "text/plain": [
       "<matplotlib.figure.Figure at 0x7f64e4b2cd10>"
      ]
     },
     "metadata": {},
     "output_type": "display_data"
    }
   ],
   "source": [
    "from sklearn.linear_model import LogisticRegression\n",
    "from sklearn.decomposition import PCA\n",
    "#主成分数を指定して、PCAのインスタンスを生成\n",
    "pca = PCA(n_components=2)\n",
    "#ロジスティック回帰のインスタンスを生成\n",
    "lr = LogisticRegression()\n",
    "#トレーニングデータやテストデータをPCAに適合させる\n",
    "X_train_pca = pca.fit_transform(X_train_std)\n",
    "X_test_pca = pca.transform(X_test_std)\n",
    "#トレーニングデータをロジスティック回帰に適合させる\n",
    "lr.fit(X_train_pca,y_train)\n",
    "#決定境界をプロット\n",
    "plot_decision_regions(X_train_pca,y_train,classifier=lr)\n",
    "plt.xlabel('PC1')\n",
    "plt.ylabel('PC2')\n",
    "plt.legend(loc='lower left')\n",
    "plt.show()"
   ]
  },
  {
   "cell_type": "markdown",
   "metadata": {},
   "source": [
    "- 固有ベクトルの符号が固有値ゾルバに依存して負または正のどちらかになる。これは大きな問題ではなく、必要に応じて-1をかけて左右対象の図を反転させれば良い。\n",
    "- テストデータに対するロジスティック回帰の決定領域をプロットして、これらのクラスをうまく分割できるかどうか確かめる。"
   ]
  },
  {
   "cell_type": "code",
   "execution_count": 39,
   "metadata": {
    "collapsed": false
   },
   "outputs": [
    {
     "data": {
      "image/png": "[encoded data removed]",
      "text/plain": [
       "<matplotlib.figure.Figure at 0x7f64e4ab6cd0>"
      ]
     },
     "metadata": {},
     "output_type": "display_data"
    }
   ],
   "source": [
    "#決定強化をプッロト\n",
    "plot_decision_regions(X_test_pca,y_test,classifier=lr)\n",
    "plt.xlabel('PC1')\n",
    "plt.ylabel('PC2')\n",
    "plt.legend(loc='lower left')\n",
    "plt.show()"
   ]
  },
  {
   "cell_type": "markdown",
   "metadata": {},
   "source": [
    "- テストデータセットの１つだけご分類されている。\n",
    "- すべての主成分の分散説明率に関心がある場合は、n_componentsをNoneにして、explained_variance_ratio_属性で取得する"
   ]
  },
  {
   "cell_type": "code",
   "execution_count": 40,
   "metadata": {
    "collapsed": false
   },
   "outputs": [
    {
     "data": {
      "text/plain": [
       "array([ 0.37329648,  0.18818926,  0.10896791,  0.07724389,  0.06478595,\n",
       "        0.04592014,  0.03986936,  0.02521914,  0.02258181,  0.01830924,\n",
       "        0.01635336,  0.01284271,  0.00642076])"
      ]
     },
     "execution_count": 40,
     "metadata": {},
     "output_type": "execute_result"
    }
   ],
   "source": [
    "pca = PCA(n_components=None)\n",
    "X_train_pca = pca.fit_transform(X_train_std)\n",
    "#分散説明率を計算\n",
    "pca.explained_variance_ratio_"
   ]
  }
 ],
 "metadata": {
  "kernelspec": {
   "display_name": "Python 2",
   "language": "python",
   "name": "python2"
  },
  "language_info": {
   "codemirror_mode": {
    "name": "ipython",
    "version": 2
   },
   "file_extension": ".py",
   "mimetype": "text/x-python",
   "name": "python",
   "nbconvert_exporter": "python",
   "pygments_lexer": "ipython2",
   "version": "2.7.11"
  }
 },
 "nbformat": 4,
 "nbformat_minor": 0
}
