{
 "cells": [
  {
   "cell_type": "markdown",
   "metadata": {},
   "source": [
    "# 5.2 線形判別分析(LDA)による教師ありデータ圧縮\n",
    "- LDAは、計算効率を高め、正則化されていないモデルで「次元の呪い」による過学習を抑制するために使用できる。\n",
    "- LDAはクラスの分離を最適化する特徴部分空間を見つけ出そうとする。\n",
    "- LDAは教師ありアルゴリズムであるため、分類タスクの特徴抽出の手段としては、LDAの方が優れている。\n",
    "- LDAではデータが正規分布に従っていることが前提である。\n",
    "- LDAではクラスの共分散行列がまったく同じであることが前提である。\n",
    "- LDAでは特徴量が統計的に見て互いに独立していることも前提となる。\n",
    "- 以上の3つの前提を多少満たしていなくとも、次元削減の手段としてのLDAはそれなりにうまく行く\n",
    "- LDAのアプローチの主な手順についてまとめる\n",
    "\n",
    "１．d次元のデータセットを標準化する\n",
    "\n",
    "２．クラスごとにd次元の平均ベクトルを計算する\n",
    "\n",
    "３．クラス間変動行列$\\vec{S}_{B}$と、クラス内変動行列$\\vec{S}_{W}$を生成する\n",
    "\n",
    "４．行列$\\vec{S}^{-1}_{W} \\vec{S}_{B}$の固有ベクトルと対応する固有値を計算する\n",
    "\n",
    "５．$d\\times k$次元の変換行列$\\vec{W}$を生成するために、最も大きいk個の固有値に対応するk個の固有ベクトルを選択する。固有ベクトルは、この行列の列である。\n",
    "\n",
    "６．変換行列$\\vec{W}$を使ってサンプルを新しい特徴部分空間へ射影する。"
   ]
  },
  {
   "cell_type": "markdown",
   "metadata": {},
   "source": [
    "# 5.2.1 変動行列を計算する\n",
    "- 平均ベクトルを計算する。\n",
    "- 各平均ベクトル$\\vec{m}_{i}$には、クラス$i$のサンプルに関する平均特徴量の値$\\mu_{m}$が格納される。\n",
    "$$\\vec{m}_{i} = \\frac{1}{n_{i}} \\sum_{\\vec{x} \\in D_{i}} \\vec{x}$$\n",
    "- 平均ベクトルを用いて、クラス内変動行列とクラス間変動行列を生成する。\n",
    "\n",
    "- wineデータセットの例では、以下の平均ベクトルが3つ得られる。\n",
    "$$\\vec{m}_{i} = \\begin{bmatrix} \\mu_{i,alcohol} \\\\ \\mu_{i,malic acid} \\\\ \\vdots \\\\ \\mu_{i,proline} \\end{bmatrix} \\, i\\in (1,2,3)$$ "
   ]
  },
  {
   "cell_type": "code",
   "execution_count": 4,
   "metadata": {
    "collapsed": false
   },
   "outputs": [],
   "source": [
    "import pandas as pd\n",
    "\n",
    "df_wine = pd.read_csv('https://archive.ics.uci.edu/ml/machine-learning-databases/wine/wine.data',header=None)\n",
    "\n",
    "from sklearn.cross_validation import train_test_split\n",
    "from sklearn.preprocessing import StandardScaler\n",
    "\n",
    "X,y = df_wine.iloc[:,1:].values ,df_wine.iloc[:,0].values\n",
    "X_train,X_test,y_train,y_test = train_test_split(X,y,test_size=0.3,random_state=0)\n",
    "\n",
    "sc = StandardScaler()\n",
    "X_train_std = sc.fit_transform(X_train)\n",
    "X_test_std = sc.transform(X_test)"
   ]
  },
  {
   "cell_type": "code",
   "execution_count": 5,
   "metadata": {
    "collapsed": false
   },
   "outputs": [
    {
     "name": "stdout",
     "output_type": "stream",
     "text": [
      "MV 1: [ 0.9259 -0.3091  0.2592 -0.7989  0.3039  0.9608  1.0515 -0.6306  0.5354\n",
      "  0.2209  0.4855  0.798   1.2017]\n",
      "\n",
      "MV 2: [-0.8727 -0.3854 -0.4437  0.2481 -0.2409 -0.1059  0.0187 -0.0164  0.1095\n",
      " -0.8796  0.4392  0.2776 -0.7016]\n",
      "\n",
      "MV 3: [ 0.1637  0.8929  0.3249  0.5658 -0.01   -0.9499 -1.228   0.7436 -0.7652\n",
      "  0.979  -1.1698 -1.3007 -0.3912]\n",
      "\n"
     ]
    }
   ],
   "source": [
    "import numpy as np\n",
    "\n",
    "np.set_printoptions(precision=4)\n",
    "mean_vecs = []\n",
    "\n",
    "for label in range(1,4):\n",
    "    mean_vecs.append(np.mean(X_train_std[y_train==label],axis=0))\n",
    "    print('MV %s: %s\\n') %(label,mean_vecs[label-1])"
   ]
  },
  {
   "cell_type": "markdown",
   "metadata": {},
   "source": [
    "- 平均ベクトルを使ってクラス内変動行列$S_{W}$を計算する方法は以下のようになる\n",
    "$$\\vec{S}_{W} = \\sum^{c}_{i=1} \\vec{S}_{i}$$\n",
    "$$\\vec{S}_{i} = \\sum_{\\vec{x} \\in D_{i}}(\\vec{x} - \\vec{m}_{i})(\\vec{x}-\\vec{m}_{i})^{T}$$"
   ]
  },
  {
   "cell_type": "code",
   "execution_count": 6,
   "metadata": {
    "collapsed": false
   },
   "outputs": [
    {
     "name": "stdout",
     "output_type": "stream",
     "text": [
      "within-class scatter matrix: 13x13\n"
     ]
    }
   ],
   "source": [
    "d = 13 #特徴量の個数\n",
    "S_W = np.zeros((d,d))\n",
    "for label,mv in zip(range(1,4),mean_vecs):\n",
    "    class_scatter = np.zeros((d,d))\n",
    "    for row in X_train_std[y_train == label]:\n",
    "        row,mv = row.reshape(d,1),mv.reshape(d,1) #list of listに変換\n",
    "        class_scatter += (row-mv).dot((row-mv).T)\n",
    "    S_W += class_scatter\n",
    "\n",
    "print('within-class scatter matrix: %sx%s') % (S_W.shape[0],S_W.shape[1])"
   ]
  },
  {
   "cell_type": "markdown",
   "metadata": {},
   "source": [
    "- 変動行列を計算するときには、トレーニングデータセットにおいてクラスラベルが一様に分布していることが前提となる。このデータセットでは、この前提を満たしていない。"
   ]
  },
  {
   "cell_type": "code",
   "execution_count": 7,
   "metadata": {
    "collapsed": false
   },
   "outputs": [
    {
     "name": "stdout",
     "output_type": "stream",
     "text": [
      "Class label distribution: [40 49 35]\n"
     ]
    }
   ],
   "source": [
    "print('Class label distribution: %s') %np.bincount(y_train)[1:]"
   ]
  },
  {
   "cell_type": "markdown",
   "metadata": {},
   "source": [
    "- 個々の変動行列$\\vec{S}_{i}$を合計して変動行列$\\vec{S}_{W}$を生成する前に、スケーリングが必要となる。\n",
    "- 変動行列をクラスごとのサンプルの個数$N_{i}$で割るときに、変動行列の計算が実は共分散行列の計算と同じであることがわかる。\n",
    "- 共分散行列は変動行列の正規化バージョンである。\n",
    "$$\\sum_{i} = \\frac{1}{N_{i}}\\vec{S}_{W} = \\frac{1}{N_{i}}\\sum_{\\vec{x} in D_{i}} (\\vec{x}-\\vec{m}_{i})(\\vec{x}-\\vec{m}_{i})^{T}$$"
   ]
  },
  {
   "cell_type": "code",
   "execution_count": 8,
   "metadata": {
    "collapsed": false
   },
   "outputs": [
    {
     "name": "stdout",
     "output_type": "stream",
     "text": [
      "Scaled within-class scatter matrix: 13x13\n"
     ]
    }
   ],
   "source": [
    "d = 13 #特徴量の個数\n",
    "S_W = np.zeros((d,d))\n",
    "for label,mv in zip(range(1,4),mean_vecs):\n",
    "    class_scatter = np.cov(X_train_std[y_train==label].T)\n",
    "    S_W += class_scatter\n",
    "    \n",
    "print('Scaled within-class scatter matrix: %sx%s') % (S_W.shape[0],S_W.shape[1])\n",
    "    "
   ]
  },
  {
   "cell_type": "markdown",
   "metadata": {},
   "source": [
    "- クラス間変動行列$S_{B}$の計算\n",
    "- $\\vec{m}$はすべてのクラスのサンプルを対象として計算される全体平均である\n",
    "$$\\vec{S}_{B} = \\sum^{c}_{i=1} N_{i}(\\vec{m}_{i}-\\vec{m})(\\vec{m}_{i}-\\vec{m})^{T}$$"
   ]
  },
  {
   "cell_type": "code",
   "execution_count": 10,
   "metadata": {
    "collapsed": false
   },
   "outputs": [
    {
     "name": "stdout",
     "output_type": "stream",
     "text": [
      "Between-class scatter matrix: 13x13\n"
     ]
    }
   ],
   "source": [
    "mean_overall = np.mean(X_train_std,axis=0)\n",
    "d = 13 # 特徴量の個数\n",
    "S_B = np.zeros((d,d))\n",
    "for i,mean_vec in enumerate(mean_vecs):\n",
    "    n = X_train[y_train==i+1,:].shape[0]\n",
    "    mean_vec = mean_vec.reshape(d,1)\n",
    "    mean_overall = mean_overall.reshape(d,1)\n",
    "    S_B += n * (mean_vec - mean_overall).dot((mean_vec - mean_overall).T)\n",
    "\n",
    "print('Between-class scatter matrix: %sx%s') %(S_B.shape[0],S_B.shape[1])"
   ]
  },
  {
   "cell_type": "markdown",
   "metadata": {},
   "source": [
    "# 5.2.2 新しい特徴部分空間の線形判別を選択する\n",
    "- 行列$\\vec{S}^{-1}_{W}\\vec{S}_{B}$の一般化された固有値問題を解く"
   ]
  },
  {
   "cell_type": "code",
   "execution_count": 12,
   "metadata": {
    "collapsed": false
   },
   "outputs": [],
   "source": [
    "# inv関数で逆行列,dot関数で行列積、eig関数で固有値問題を計算\n",
    "eigen_vals,eigen_vecs = np.linalg.eig(np.linalg.inv(S_W).dot(S_B))"
   ]
  },
  {
   "cell_type": "code",
   "execution_count": 14,
   "metadata": {
    "collapsed": false
   },
   "outputs": [
    {
     "name": "stdout",
     "output_type": "stream",
     "text": [
      "Eigenvalues in decreasing order:\n",
      "\n",
      "452.721581245\n",
      "156.43636122\n",
      "1.09631693658e-13\n",
      "5.00326869474e-14\n",
      "3.23670030581e-14\n",
      "3.23670030581e-14\n",
      "2.68392961047e-14\n",
      "1.61264149918e-14\n",
      "1.57376098252e-14\n",
      "1.36543690102e-14\n",
      "1.36543690102e-14\n",
      "1.41523083537e-15\n",
      "1.41523083537e-15\n"
     ]
    }
   ],
   "source": [
    "eigen_pairs = [(np.abs(eigen_vals[i]),eigen_vecs[:,i]) for i in range(len(eigen_vals))]\n",
    "eigen_pairs = sorted(eigen_pairs,key=lambda k:k[0],reverse=True) #lambdaでindex0の値（固有値）でソート\n",
    "print('Eigenvalues in decreasing order:\\n')\n",
    "for eigen_val in eigen_pairs:\n",
    "    print(eigen_val[0])"
   ]
  },
  {
   "cell_type": "markdown",
   "metadata": {},
   "source": [
    "- クラス間変動行列$\\vec{S}_{B}$は階数（ランク）１以下のc個の行列を合計したものである。\n",
    "- このため、クラスラベルの個数をcとすれば、LDAでの線形半越の個数は最大でc-1個となる。\n",
    "- 計算結果では、0ではない固有値は２個しか無い"
   ]
  },
  {
   "cell_type": "code",
   "execution_count": 22,
   "metadata": {
    "collapsed": false
   },
   "outputs": [
    {
     "data": {
      "image/png": "[encoded data removed]",
      "text/plain": [
       "<matplotlib.figure.Figure at 0x7f834a1c4790>"
      ]
     },
     "metadata": {},
     "output_type": "display_data"
    }
   ],
   "source": [
    "import matplotlib.pyplot as plt\n",
    "%matplotlib inline\n",
    "#線形判別をプロットする。\n",
    "#固有値の実数部の総和を求める。\n",
    "tot = sum(eigen_vals.real)\n",
    "#分散説明率とその累積和を計算\n",
    "discr = [(i / tot) for i in sorted(eigen_vals.real,reverse=True)]\n",
    "cum_discr = np.cumsum(discr)\n",
    "plt.bar(range(1,14),discr,alpha=0.5,align='center',label='individual \"discriminability\"')\n",
    "plt.step(range(1,14),cum_discr,where='mid',label='cumulative \"discriminability\"')\n",
    "plt.ylabel('\"discriminability\" ratio')\n",
    "plt.xlabel('Linear Discriminats')\n",
    "plt.ylim([-0.1,1.1])\n",
    "plt.legend(loc='best')\n",
    "plt.show()"
   ]
  },
  {
   "cell_type": "code",
   "execution_count": 24,
   "metadata": {
    "collapsed": false
   },
   "outputs": [
    {
     "name": "stdout",
     "output_type": "stream",
     "text": [
      "matrix W:\n",
      "[[-0.0662  0.3797]\n",
      " [ 0.0386  0.2206]\n",
      " [-0.0217  0.3816]\n",
      " [ 0.184  -0.3018]\n",
      " [-0.0034 -0.0141]\n",
      " [ 0.2326 -0.0234]\n",
      " [-0.7747 -0.1869]\n",
      " [-0.0811 -0.0696]\n",
      " [ 0.0875 -0.1796]\n",
      " [ 0.185   0.284 ]\n",
      " [-0.066  -0.2349]\n",
      " [-0.3805 -0.073 ]\n",
      " [-0.3285  0.5971]]\n"
     ]
    }
   ],
   "source": [
    "#２つの固有ベクトルから、変換行列を作成\n",
    "w = np.hstack((eigen_pairs[0][1][:,np.newaxis].real,eigen_pairs[1][1][:,np.newaxis].real))\n",
    "print('matrix W:\\n%s') %w"
   ]
  },
  {
   "cell_type": "markdown",
   "metadata": {},
   "source": [
    "# 5.2.3 新しい特徴空間にサンプルを射影する\n",
    "- 変換行列$\\vec{W}$に行列を掛けることにより、トレーニングデータ・セットを変換する。\n",
    "$$\\vec{X}^{'} = \\vec{X}\\vec{W}$$"
   ]
  },
  {
   "cell_type": "code",
   "execution_count": 34,
   "metadata": {
    "collapsed": false
   },
   "outputs": [
    {
     "data": {
      "image/png": "[encoded data removed]",
      "text/plain": [
       "<matplotlib.figure.Figure at 0x7f835065eb90>"
      ]
     },
     "metadata": {},
     "output_type": "display_data"
    }
   ],
   "source": [
    "# 標準化したトレーニングデータに変換号列を掛ける\n",
    "X_train_lda = X_train_std.dot(w)\n",
    "colors = ['r','b','g']\n",
    "markers = ['s','x','o']\n",
    "for l,c,m in zip(np.unique(y_train),colors,markers):\n",
    "    plt.scatter(X_train_lda[y_train==l,0],X_train_lda[y_train==l,1],c=c,marker=m,label=l)\n",
    "\n",
    "plt.xlabel('LD1')\n",
    "plt.ylabel('LD2')\n",
    "plt.legend(loc='lower right')\n",
    "plt.show()"
   ]
  },
  {
   "cell_type": "markdown",
   "metadata": {},
   "source": [
    "- 新しい特徴部分空間では、3つのクラスが完全に線形分離となる。"
   ]
  },
  {
   "cell_type": "markdown",
   "metadata": {},
   "source": [
    "# 5.2.4 scikit-learnによるLDA"
   ]
  },
  {
   "cell_type": "code",
   "execution_count": 36,
   "metadata": {
    "collapsed": false
   },
   "outputs": [],
   "source": [
    "from sklearn.lda import LDA\n",
    "#次元数を指定して、LDAのインスタンスを生成\n",
    "lda = LDA(n_components=2)\n",
    "X_train_lda = lda.fit_transform(X_train_std,y_train)"
   ]
  },
  {
   "cell_type": "markdown",
   "metadata": {},
   "source": [
    "- ロジスティック回帰の分類器がLDAによって変換された低次元のトレーニングデータセットをどのように処理するか見る"
   ]
  },
  {
   "cell_type": "code",
   "execution_count": 37,
   "metadata": {
    "collapsed": true
   },
   "outputs": [],
   "source": [
    "from matplotlib.colors import ListedColormap\n",
    "\n",
    "def plot_decision_regions(X,y,classifier,resolution=0.02):\n",
    "    \n",
    "    #マーカとカラーマップの準備\n",
    "    markers = ('s','x','o','^','v')\n",
    "    colors = ('red','blue','lightgreen','grey','cyan')\n",
    "    cmap = ListedColormap(colors[:len(np.unique(y))])\n",
    "    \n",
    "    #決定領域のプロット\n",
    "    x1_min,x1_max = X[:,0].min() - 1,X[:,0].max() + 1\n",
    "    x2_min,x2_max = X[:,1].min() - 1,X[:,1].max() + 1\n",
    "    \n",
    "    #グリッドポイントの生成\n",
    "    xx1,xx2 = np.meshgrid(np.arange(x1_min,x1_max,resolution),np.arange(x2_min,x2_max,resolution))\n",
    "    \n",
    "    #各特徴量を１次元配列に変換して予測を実行\n",
    "    Z = classifier.predict(np.array([xx1.ravel(),xx2.ravel()]).T)\n",
    "    # 予測結果を元のグリッドポイントのデータサイズに変換\n",
    "    Z = Z.reshape(xx1.shape)\n",
    "    #グリッドポイントの等高線のプロット\n",
    "    plt.contourf(xx1,xx2,Z,alpha=0.4,cmap=cmap)\n",
    "    #軸の範囲の設定\n",
    "    plt.xlim(xx1.min(),xx1.max())\n",
    "    plt.ylim(xx2.min(),xx2.max())\n",
    "    \n",
    "    #クラスごとにサンプルをプロット\n",
    "    for idx,cl in enumerate(np.unique(y)):\n",
    "        plt.scatter(x=X[y==cl,0],y=X[y==cl,1],alpha=0.8,c=cmap(idx),marker=markers[idx],label=cl)"
   ]
  },
  {
   "cell_type": "code",
   "execution_count": 39,
   "metadata": {
    "collapsed": false
   },
   "outputs": [
    {
     "data": {
      "image/png": "[encoded data removed]",
      "text/plain": [
       "<matplotlib.figure.Figure at 0x7f835065ebd0>"
      ]
     },
     "metadata": {},
     "output_type": "display_data"
    }
   ],
   "source": [
    "from sklearn.linear_model import LogisticRegression\n",
    "lr = LogisticRegression()\n",
    "lr = lr.fit(X_train_lda,y_train)\n",
    "plot_decision_regions(X_train_lda,y_train,classifier=lr)\n",
    "plt.xlabel('LD1')\n",
    "plt.ylabel('LD2')\n",
    "plt.legend(loc='lower left')\n",
    "plt.show()"
   ]
  },
  {
   "cell_type": "markdown",
   "metadata": {},
   "source": [
    "- 誤分類は１つ\n",
    "- 正則化の強さを下げれば決定境界をずらすことができるため、ロジスティック回帰モデルがトレーニングデータセットのサンプルを正しく分類するようになるだろう"
   ]
  },
  {
   "cell_type": "code",
   "execution_count": 40,
   "metadata": {
    "collapsed": false
   },
   "outputs": [
    {
     "data": {
      "image/png": "[encoded data removed]",
      "text/plain": [
       "<matplotlib.figure.Figure at 0x7f8347cc0650>"
      ]
     },
     "metadata": {},
     "output_type": "display_data"
    }
   ],
   "source": [
    "#テストデータ・セットでの結果\n",
    "X_test_lda = lda.transform(X_test_std)\n",
    "plot_decision_regions(X_test_lda,y_test,classifier=lr)\n",
    "plt.xlabel('LD1')\n",
    "plt.ylabel('LD2')\n",
    "plt.legend(loc='lower left')\n",
    "plt.show()"
   ]
  },
  {
   "cell_type": "markdown",
   "metadata": {},
   "source": [
    "- ロジスティック回帰の分類器は、Wineデータセットの元の13個の特徴量ではなく、２次元の特徴部分空間だけを使用することにより、テストデータセットのサンプルを完全な精度で分類できることがわかる。"
   ]
  }
 ],
 "metadata": {
  "kernelspec": {
   "display_name": "Python 2",
   "language": "python",
   "name": "python2"
  },
  "language_info": {
   "codemirror_mode": {
    "name": "ipython",
    "version": 2
   },
   "file_extension": ".py",
   "mimetype": "text/x-python",
   "name": "python",
   "nbconvert_exporter": "python",
   "pygments_lexer": "ipython2",
   "version": "2.7.12"
  }
 },
 "nbformat": 4,
 "nbformat_minor": 0
}
