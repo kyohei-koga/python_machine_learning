{
 "cells": [
  {
   "cell_type": "markdown",
   "metadata": {},
   "source": [
    "# 5.2 線形判別分析(LDA)による教師ありデータ圧縮\n",
    "- LDAは、計算効率を高め、正則化されていないモデルで「次元の呪い」による過学習を抑制するために使用できる。\n",
    "- LDAはクラスの分離を最適化する特徴部分空間を見つけ出そうとする。\n",
    "- LDAは教師ありアルゴリズムであるため、分類タスクの特徴抽出の手段としては、LDAの方が優れている。\n",
    "- LDAではデータが正規分布に従っていることが前提である。\n",
    "- LDAではクラスの共分散行列がまったく同じであることが前提である。\n",
    "- LDAでは特徴量が統計的に見て互いに独立していることも前提となる。\n",
    "- 以上の3つの前提を多少満たしていなくとも、次元削減の手段としてのLDAはそれなりにうまく行く\n",
    "- LDAのアプローチの主な手順についてまとめる\n",
    "\n",
    "１．d次元のデータセットを標準化する\n",
    "\n",
    "２．クラスごとにd次元の平均ベクトルを計算する\n",
    "\n",
    "３．クラス間変動行列$\\vec{S}_{B}$と、クラス内変動行列$\\vec{S}_{W}$を生成する\n",
    "\n",
    "４．行列$\\vec{S}^{-1}_{W} \\vec{S}_{B}$の固有ベクトルと対応する固有値を計算する\n",
    "\n",
    "５．$d\\times k$次元の変換行列$\\vec{W}$を生成するために、最も大きいk個の固有値に対応するk個の固有ベクトルを選択する。固有ベクトルは、この行列の列である。\n",
    "\n",
    "６．変換行列$\\vec{W}$を使ってサンプルを新しい特徴部分空間へ射影する。"
   ]
  },
  {
   "cell_type": "markdown",
   "metadata": {},
   "source": [
    "# 5.2.1 変動行列を計算する\n",
    "- 平均ベクトルを計算する。\n",
    "- 各平均ベクトル$\\vec{m}_{i}$には、クラス$i$のサンプルに関する平均特徴量の値$\\mu_{m}$が格納される。\n",
    "$$\\vec{m}_{i} = \\frac{1}{n_{i}} \\sum_{\\vec{x} \\in D_{i}} \\vec{x}$$\n",
    "- 平均ベクトルを用いて、クラス内変動行列とクラス間変動行列を生成する。\n",
    "\n",
    "- wineデータセットの例では、以下の平均ベクトルが3つ得られる。\n",
    "$$\\vec{m}_{i} = \\begin{bmatrix} \\mu_{i,alcohol} \\\\ \\mu_{i,malic acid} \\\\ \\vdots \\\\ \\mu_{i,proline} \\end{bmatrix} \\, i\\in (1,2,3)$$ "
   ]
  },
  {
   "cell_type": "code",
   "execution_count": 2,
   "metadata": {
    "collapsed": false
   },
   "outputs": [],
   "source": [
    "import pandas as pd\n",
    "\n",
    "df_wine = pd.read_csv('https://archive.ics.uci.edu/ml/machine-learning-databases/wine/wine.data',header=None)\n",
    "\n",
    "from sklearn.cross_validation import train_test_split\n",
    "from sklearn.preprocessing import StandardScaler\n",
    "\n",
    "X,y = df_wine.iloc[:,1:].values ,df_wine.iloc[:,0].values\n",
    "X_train,X_test,y_train,y_test = train_test_split(X,y,test_size=0.3,random_state=0)\n",
    "\n",
    "sc = StandardScaler()\n",
    "X_train_std = sc.fit_transform(X_train)\n",
    "X_test_std = sc.transform(X_test)"
   ]
  },
  {
   "cell_type": "code",
   "execution_count": 3,
   "metadata": {
    "collapsed": false
   },
   "outputs": [
    {
     "name": "stdout",
     "output_type": "stream",
     "text": [
      "MV 1: [ 0.9259 -0.3091  0.2592 -0.7989  0.3039  0.9608  1.0515 -0.6306  0.5354\n",
      "  0.2209  0.4855  0.798   1.2017]\n",
      "\n",
      "MV 2: [-0.8727 -0.3854 -0.4437  0.2481 -0.2409 -0.1059  0.0187 -0.0164  0.1095\n",
      " -0.8796  0.4392  0.2776 -0.7016]\n",
      "\n",
      "MV 3: [ 0.1637  0.8929  0.3249  0.5658 -0.01   -0.9499 -1.228   0.7436 -0.7652\n",
      "  0.979  -1.1698 -1.3007 -0.3912]\n",
      "\n"
     ]
    }
   ],
   "source": [
    "import numpy as np\n",
    "\n",
    "np.set_printoptions(precision=4)\n",
    "mean_vecs = []\n",
    "\n",
    "for label in range(1,4):\n",
    "    mean_vecs.append(np.mean(X_train_std[y_train==label],axis=0))\n",
    "    print('MV %s: %s\\n') %(label,mean_vecs[label-1])"
   ]
  },
  {
   "cell_type": "markdown",
   "metadata": {},
   "source": [
    "- 平均ベクトルを使ってクラス内変動行列$S_{W}$を計算する方法は以下のようになる\n",
    "$$\\vec{S}_{W} = \\sum^{c}_{i=1} \\vec{S}_{i}$$\n",
    "$$\\vec{S}_{i} = \\sum_{\\vec{x} \\in D_{i}}(\\vec{x} - \\vec{m}_{i})(\\vec{x}-\\vec{m}_{i})^{T}$$"
   ]
  },
  {
   "cell_type": "code",
   "execution_count": 22,
   "metadata": {
    "collapsed": false
   },
   "outputs": [
    {
     "name": "stdout",
     "output_type": "stream",
     "text": [
      "within-class scatter matrix: 13x13\n"
     ]
    }
   ],
   "source": [
    "d = 13 #特徴量の個数\n",
    "S_W = np.zeros((d,d))\n",
    "for label,mv in zip(range(1,4),mean_vecs):\n",
    "    class_scatter = np.zeros((d,d))\n",
    "    for row in X_train_std[y_train == label]:\n",
    "        row,mv = row.reshape(d,1),mv.reshape(d,1) #list of listに変換\n",
    "        class_scatter += (row-mv).dot((row-mv).T)\n",
    "    S_W += class_scatter\n",
    "\n",
    "print('within-class scatter matrix: %sx%s') % (S_W.shape[0],S_W.shape[1])"
   ]
  },
  {
   "cell_type": "markdown",
   "metadata": {},
   "source": [
    "- 変動行列を計算するときには、トレーニングデータセットにおいてクラスラベルが一様に分布していることが前提となる。このデータセットでは、この前提を満たしていない。"
   ]
  },
  {
   "cell_type": "code",
   "execution_count": 32,
   "metadata": {
    "collapsed": false
   },
   "outputs": [
    {
     "name": "stdout",
     "output_type": "stream",
     "text": [
      "Class label distribution: [40 49 35]\n"
     ]
    }
   ],
   "source": [
    "print('Class label distribution: %s') %np.bincount(y_train)[1:]"
   ]
  },
  {
   "cell_type": "markdown",
   "metadata": {},
   "source": [
    "- 個々の変動行列$\\vec{S}_{i}$を合計して変動行列$\\vec{S}_{W}$を生成する前に、スケーリングが必要となる。\n",
    "- 変動行列をクラスごとのサンプルの個数$N_{i}$で割るときに、変動行列の計算が実は共分散行列の計算と同じであることがわかる。\n",
    "- 共分散行列は変動行列の正規化バージョンである。\n",
    "$$\\sum_{i} = \\frac{1}{N_{i}}\\vec{S}_{W} = \\frac{1}{N_{i}}\\sum_{\\vec{x} in D_{i}} (\\vec{x}-\\vec{m}_{i})(\\vec{x}-\\vec{m}_{i})^{T}$$"
   ]
  },
  {
   "cell_type": "code",
   "execution_count": 37,
   "metadata": {
    "collapsed": false
   },
   "outputs": [
    {
     "name": "stdout",
     "output_type": "stream",
     "text": [
      "Scaled within-class scatter matrix: 13x13\n"
     ]
    }
   ],
   "source": [
    "d = 13 #特徴量の個数\n",
    "S_W = np.zeros((d,d))\n",
    "for label,mv in zip(range(1,4),mean_vecs):\n",
    "    class_scatter = np.cov(X_train_std[y_train==label].T)\n",
    "    S_W += class_scatter\n",
    "    \n",
    "print('Scaled within-class scatter matrix: %sx%s') % (S_W.shape[0],S_W.shape[1])\n",
    "    "
   ]
  },
  {
   "cell_type": "markdown",
   "metadata": {},
   "source": [
    "- クラス間変動行列$S_{B}$の計算\n",
    "- $\\vec{m}$はすべてのクラスのサンプルを対象として計算される全体平均である\n",
    "$$\\vec{S}_{B} = \\sum^{c}_{i=1} N_{i}(\\vec{m}_{i}-\\vec{m})(\\vec{m}_{i}-\\vec{m})^{T}$$"
   ]
  },
  {
   "cell_type": "code",
   "execution_count": 39,
   "metadata": {
    "collapsed": false
   },
   "outputs": [
    {
     "ename": "AttributeError",
     "evalue": "'numpy.ndarray' object has no attribute 'reshap'",
     "output_type": "error",
     "traceback": [
      "\u001b[1;31m---------------------------------------------------------------------------\u001b[0m",
      "\u001b[1;31mAttributeError\u001b[0m                            Traceback (most recent call last)",
      "\u001b[1;32m<ipython-input-39-1c7d89d74cc1>\u001b[0m in \u001b[0;36m<module>\u001b[1;34m()\u001b[0m\n\u001b[0;32m      5\u001b[0m     \u001b[0mn\u001b[0m \u001b[1;33m=\u001b[0m \u001b[0mX_train\u001b[0m\u001b[1;33m[\u001b[0m\u001b[0my_train\u001b[0m\u001b[1;33m==\u001b[0m\u001b[0mi\u001b[0m\u001b[1;33m+\u001b[0m\u001b[1;36m1\u001b[0m\u001b[1;33m,\u001b[0m\u001b[1;33m:\u001b[0m\u001b[1;33m]\u001b[0m\u001b[1;33m.\u001b[0m\u001b[0mshape\u001b[0m\u001b[1;33m[\u001b[0m\u001b[1;36m0\u001b[0m\u001b[1;33m]\u001b[0m\u001b[1;33m\u001b[0m\u001b[0m\n\u001b[0;32m      6\u001b[0m     \u001b[0mmean_vec\u001b[0m \u001b[1;33m=\u001b[0m \u001b[0mmean_vec\u001b[0m\u001b[1;33m.\u001b[0m\u001b[0mreshape\u001b[0m\u001b[1;33m(\u001b[0m\u001b[0md\u001b[0m\u001b[1;33m,\u001b[0m\u001b[1;36m1\u001b[0m\u001b[1;33m)\u001b[0m\u001b[1;33m\u001b[0m\u001b[0m\n\u001b[1;32m----> 7\u001b[1;33m     \u001b[0mmean_overall\u001b[0m \u001b[1;33m=\u001b[0m \u001b[0mmean_overall\u001b[0m\u001b[1;33m.\u001b[0m\u001b[0mreshap\u001b[0m\u001b[1;33m(\u001b[0m\u001b[0md\u001b[0m\u001b[1;33m,\u001b[0m\u001b[1;36m1\u001b[0m\u001b[1;33m)\u001b[0m\u001b[1;33m\u001b[0m\u001b[0m\n\u001b[0m\u001b[0;32m      8\u001b[0m     \u001b[0mS_B\u001b[0m \u001b[1;33m+=\u001b[0m \u001b[0mn\u001b[0m \u001b[1;33m*\u001b[0m \u001b[1;33m(\u001b[0m\u001b[0mmean_vec\u001b[0m \u001b[1;33m-\u001b[0m \u001b[0mmean_overall\u001b[0m\u001b[1;33m)\u001b[0m\u001b[1;33m.\u001b[0m\u001b[0mdot\u001b[0m\u001b[1;33m(\u001b[0m\u001b[1;33m(\u001b[0m\u001b[0mmean_vec\u001b[0m \u001b[1;33m-\u001b[0m \u001b[0mmean_overall\u001b[0m\u001b[1;33m)\u001b[0m\u001b[1;33m.\u001b[0m\u001b[0mT\u001b[0m\u001b[1;33m)\u001b[0m\u001b[1;33m\u001b[0m\u001b[0m\n\u001b[0;32m      9\u001b[0m \u001b[1;33m\u001b[0m\u001b[0m\n",
      "\u001b[1;31mAttributeError\u001b[0m: 'numpy.ndarray' object has no attribute 'reshap'"
     ]
    }
   ],
   "source": [
    "mean_overall = np.mean(X_train_std,axis=0)\n",
    "d = 13 # 特徴量の個数\n",
    "S_B = np.zeros((d,d))\n",
    "for i,mean_vec in enumerate(mean_vecs):\n",
    "    n = X_train[y_train==i+1,:].shape[0]\n",
    "    mean_vec = mean_vec.reshape(d,1)\n",
    "    mean_overall = mean_overall.reshap(d,1)\n",
    "    S_B += n * (mean_vec - mean_overall).dot((mean_vec - mean_overall).T)\n",
    "\n",
    "print('Between-class scatter matrix: %sx%s') %(S_B.shape[0],S_B.shape[1])"
   ]
  }
 ],
 "metadata": {
  "kernelspec": {
   "display_name": "Python 2",
   "language": "python",
   "name": "python2"
  },
  "language_info": {
   "codemirror_mode": {
    "name": "ipython",
    "version": 2
   },
   "file_extension": ".py",
   "mimetype": "text/x-python",
   "name": "python",
   "nbconvert_exporter": "python",
   "pygments_lexer": "ipython2",
   "version": "2.7.11"
  }
 },
 "nbformat": 4,
 "nbformat_minor": 0
}
