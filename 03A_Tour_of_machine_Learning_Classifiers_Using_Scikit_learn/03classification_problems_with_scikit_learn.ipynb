{
 "cells": [
  {
   "cell_type": "markdown",
   "metadata": {},
   "source": [
    "# 3.4 サーポートベクトルマシンによる最大マージン分類\n",
    "- パーセプトロンの拡張とみなすことができる\n",
    "- SVMでの最適化の目的は、マージンを最大化にすること\n",
    "- マージンは、超平面（決定境界）と、この超平面に最も近いトレーニングサンプルとの間の距離として定義される\n",
    "- 超平面に最も近いトレーニングサンプルはサポートベクトルと呼ばれる。"
   ]
  },
  {
   "cell_type": "markdown",
   "metadata": {},
   "source": [
    "# 3.4.1 最大マージンを直感的に理解する\n",
    "- 決定境界のマージンを大きくする理論的根拠は、汎化誤差が小さくなる傾向にあること\n",
    "- マージンの小さいモデルは過学習に陥りがちである。\n",
    "- 以下直感的理解のために、正と負の超平面を詳しくみる\n",
    "$$w_{0}+\\vec{w}^{T}\\vec{x}_{pos} = 1$$\n",
    "$$w_{0}+\\vec{w}^{T}\\vec{x}_{neg} = -1$$\n",
    "$$⇒\\vec{w}^{T}(\\vec{x}_{pos} - \\vec{x}_{neg})=2$$\n",
    "- ここでベクトルの長さを定義する。\n",
    "\n",
    "$$\\| \\vec{w} \\| = \\sqrt{\\sum^{m}_{j=1} w^{2}_{j}}$$\n",
    "\n",
    "$$\\frac{\\vec{w}^{T}(\\vec{x}_{pos} - \\vec{x}_{neg})}{\\| \\vec{w} \\|} = \\frac{2}{\\| \\vec{w} \\|}$$\n",
    "- 上式の左辺は正の超平面と負の超平面の距離であると解釈できて、最大化したいマージンである。\n",
    "- サンプルが正しく分類されているという制約のもとでSVMの目的関数を最大化する問題は$\\frac{2}{\\| \\vec{w} \\|}$の最大化に帰着される\n",
    "- 実際には$\\frac{1}{2} \\| \\vec{w} \\|^{2}$を最小化する\n",
    "\n",
    "$$y^{i}(w_{0} + \\vec{w}^{T}\\vec{x}^{i}) \\geq 1 \\ \\forall i$$\n",
    "- 負のサンプルはすべての負の超平面の側にあり、正のサンプルはすべて正の超平面の後ろに収まることを示している。\n",
    "- 線形分離可能であることという、制約条件か？？？とう言うか、この枠組みでSVMが正常に作動するための前提条件？？？"
   ]
  },
  {
   "cell_type": "markdown",
   "metadata": {},
   "source": [
    "# 3.4.2 スラック変数を使った非線形分離可能なケースへの対処\n",
    "- スラック変数$\\xi$が導入されたのは、非線形分離可能なデータのために線形制約を緩和する必要があったからである。\n",
    "- スラック変数の導入により、適切なコストペナルティを科した上で、誤分類が存在する状態のまま最適化問題を収束させる事が可能になった。\n",
    "- 要するに線形制約を緩和するために$\\xi$を導入するということ\n",
    "$$\\vec{w}^{T} \\vec{x}^{(i)} \\geq 1-\\xi^{i} \\  (y^{(i)}=1)$$\n",
    "$$\\vec{w}^{T} \\vec{x}^{(i)} \\leq -1+\\xi^{i} \\  (y^{(i)}=-1)$$\n",
    "\n",
    "- 誤分類が起きた時は、$\\xi>1$。$\\sum_{i}\\xi^{(i)}$が整数K以下であれば、誤分類したサンプルもK個以下であることを意味する。\n",
    "- 最小化すべき新しい対象は以下\n",
    "- 変数Cで誤分類のペナルティを制御する。Cが大きいとバリアンスが大きく、Cが小さいとバリアンスは小さい\n",
    "- 【復習】バリアンスが大きいとは、学習データのとり方によって、出来上がったモデルの予測値がばらつくことを意味する。\n",
    "$$\\frac{1}{2}\\| \\vec{w} \\|^{2} + C　\\Biggl( \\sum_{i}\\xi^{(i)} \\Biggr)$$"
   ]
  },
  {
   "cell_type": "code",
   "execution_count": 6,
   "metadata": {
    "collapsed": false
   },
   "outputs": [
    {
     "data": {
      "image/png": "[encoded data removed]",
      "text/plain": [
       "<matplotlib.figure.Figure at 0x7f9082a8e190>"
      ]
     },
     "metadata": {},
     "output_type": "display_data"
    }
   ],
   "source": [
    "#トレーニングデータとテストデータの特徴量を行方向に結合\n",
    "X_combined_std = np.vstack((X_train_std,X_test_std))\n",
    "#トレーニングデータとテストデータのクラスラベルを結合\n",
    "y_combined = np.hstack((y_train,y_test))\n",
    "\n",
    "# SVMのモデルでトレーニングして、Irisのデータセットの品種を分類する。\n",
    "from sklearn.svm import SVC\n",
    "# 線形SVMのインスタスを作成\n",
    "svm = SVC(kernel='linear',C=1.0,random_state=0)\n",
    "#線形SVMのモデルにトレーニングデータを適合させる\n",
    "svm.fit(X_train_std,y_train)\n",
    "\n",
    "plot_decision_regions(X_combined_std,y_combined,classifier=svm,test_idx=range(105,150))\n",
    "plt.xlabel('petal length [standardized]')\n",
    "plt.ylabel('petal width [standardized]')\n",
    "plt.legend(loc='upper left')\n",
    "plt.show()"
   ]
  },
  {
   "cell_type": "code",
   "execution_count": null,
   "metadata": {
    "collapsed": true
   },
   "outputs": [],
   "source": []
  },
  {
   "cell_type": "code",
   "execution_count": null,
   "metadata": {
    "collapsed": true
   },
   "outputs": [],
   "source": []
  },
  {
   "cell_type": "code",
   "execution_count": null,
   "metadata": {
    "collapsed": true
   },
   "outputs": [],
   "source": []
  },
  {
   "cell_type": "code",
   "execution_count": 2,
   "metadata": {
    "collapsed": true
   },
   "outputs": [],
   "source": [
    "from sklearn import datasets\n",
    "import numpy as np\n",
    "#Irisデータをロード\n",
    "iris = datasets.load_iris()\n",
    "#特徴量を抽出\n",
    "X = iris.data[:,[2,3]]\n",
    "#クラスラベルを取得\n",
    "y = iris.target\n",
    "\n",
    "from sklearn.cross_validation import train_test_split\n",
    "# トレーニングデータに分割する。\n",
    "# 全体の30%をテストデータにする\n",
    "X_train,X_test,y_train,y_test = train_test_split(X,y,test_size=0.3,random_state=0)\n",
    "\n",
    "from sklearn.preprocessing import StandardScaler\n",
    "sc = StandardScaler()\n",
    "#トレーニングデータの平均と標準偏差を計算\n",
    "sc.fit(X_train)\n",
    "#平均と標準偏差を用いて計算\n",
    "X_train_std = sc.transform(X_train)\n",
    "X_test_std = sc.transform(X_test)"
   ]
  },
  {
   "cell_type": "code",
   "execution_count": 3,
   "metadata": {
    "collapsed": false
   },
   "outputs": [
    {
     "name": "stderr",
     "output_type": "stream",
     "text": [
      "/home/kyohei/anaconda2/lib/python2.7/site-packages/matplotlib/font_manager.py:273: UserWarning: Matplotlib is building the font cache using fc-list. This may take a moment.\n",
      "  warnings.warn('Matplotlib is building the font cache using fc-list. This may take a moment.')\n"
     ]
    }
   ],
   "source": [
    "from matplotlib.colors import ListedColormap\n",
    "import matplotlib.pyplot as plt\n",
    "%matplotlib inline\n",
    "def plot_decision_regions(X,y,classifier,test_idx=None,resolution=0.02):\n",
    "    \n",
    "    #マーカーとカラーマップの準備\n",
    "    markers = ('s','x','o','^','v')\n",
    "    colors = ('red','blue','lightgreen','grey','cyan')\n",
    "    cmap = ListedColormap(colors[:len(np.unique(y))]) #yの種類分色を用意する\n",
    "    \n",
    "    #決定領域のプロット\n",
    "    x1_min, x1_max = X[:,0].min() - 1,X[:,0].max() + 1\n",
    "    x2_min, x2_max = X[:,1].min() - 1,X[:,1].max() + 1\n",
    "    \n",
    "    #グリッドポイントの生成\n",
    "    xx1,xx2 = np.meshgrid(np.arange(x1_min,x1_max,resolution),\n",
    "                         np.arange(x2_min,x2_max,resolution))\n",
    "    #各特徴量を１次元配列に変換して予測を実行\n",
    "    Z = classifier.predict(np.array([xx1.ravel(),xx2.ravel()]).T)\n",
    "    #予測値結果を元のグリッドポイントのデータサイズに変換\n",
    "    Z = Z.reshape(xx1.shape)\n",
    "    #　グリッドポイントの等高線のプロット\n",
    "    plt.contourf(xx1,xx2,Z,alpha=0.4,cmap=cmap)\n",
    "    #　軸の設定\n",
    "    plt.xlim(xx1.min(),xx1.max())\n",
    "    plt.ylim(xx2.min(),xx2.max())\n",
    "    \n",
    "    #クラスごとにサンプルプロット\n",
    "    for idx,cl in enumerate(np.unique(y)):\n",
    "        plt.scatter(x=X[y == cl,0],y=X[y == cl,1],alpha=0.8,c=cmap(idx),marker=markers[idx],label=cl)\n",
    "        \n",
    "    #テストサンプルを目立たせる（点を○で表示）\n",
    "    if test_idx:\n",
    "        X_test,y_test = X[test_idx,:],y[test_idx]\n",
    "        plt.scatter(X_test[:,0],X_test[:,1],c='',\n",
    "                   alpha=1.0,linewidths=1,marker='o',\n",
    "                   s=55,label='test set')"
   ]
  }
 ],
 "metadata": {
  "kernelspec": {
   "display_name": "Python 2",
   "language": "python",
   "name": "python2"
  },
  "language_info": {
   "codemirror_mode": {
    "name": "ipython",
    "version": 2
   },
   "file_extension": ".py",
   "mimetype": "text/x-python",
   "name": "python",
   "nbconvert_exporter": "python",
   "pygments_lexer": "ipython2",
   "version": "2.7.12"
  }
 },
 "nbformat": 4,
 "nbformat_minor": 0
}
