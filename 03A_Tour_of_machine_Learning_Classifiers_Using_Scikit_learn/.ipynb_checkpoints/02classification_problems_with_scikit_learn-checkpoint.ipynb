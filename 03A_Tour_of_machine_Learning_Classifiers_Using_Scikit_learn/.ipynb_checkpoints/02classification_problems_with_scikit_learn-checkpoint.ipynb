{
 "cells": [
  {
   "cell_type": "code",
   "execution_count": 1,
   "metadata": {
    "collapsed": true
   },
   "outputs": [],
   "source": [
    "from sklearn import datasets\n",
    "import numpy as np\n",
    "#Irisデータをロード\n",
    "iris = datasets.load_iris()\n",
    "#特徴量を抽出\n",
    "X = iris.data[:,[2,3]]\n",
    "#クラスラベルを取得\n",
    "y = iris.target\n",
    "\n",
    "from sklearn.cross_validation import train_test_split\n",
    "# トレーニングデータに分割する。\n",
    "# 全体の30%をテストデータにする\n",
    "X_train,X_test,y_train,y_test = train_test_split(X,y,test_size=0.3,random_state=0)\n",
    "\n",
    "from sklearn.preprocessing import StandardScaler\n",
    "sc = StandardScaler()\n",
    "#トレーニングデータの平均と標準偏差を計算\n",
    "sc.fit(X_train)\n",
    "#平均と標準偏差を用いて計算\n",
    "X_train_std = sc.transform(X_train)\n",
    "X_test_std = sc.transform(X_test)"
   ]
  },
  {
   "cell_type": "code",
   "execution_count": 2,
   "metadata": {
    "collapsed": false
   },
   "outputs": [
    {
     "name": "stderr",
     "output_type": "stream",
     "text": [
      "/home/kyohei/anaconda2/lib/python2.7/site-packages/matplotlib/font_manager.py:273: UserWarning: Matplotlib is building the font cache using fc-list. This may take a moment.\n",
      "  warnings.warn('Matplotlib is building the font cache using fc-list. This may take a moment.')\n"
     ]
    }
   ],
   "source": [
    "from matplotlib.colors import ListedColormap\n",
    "import matplotlib.pyplot as plt\n",
    "%matplotlib inline\n",
    "def plot_decision_regions(X,y,classifier,test_idx=None,resolution=0.02):\n",
    "    \n",
    "    #マーカーとカラーマップの準備\n",
    "    markers = ('s','x','o','^','v')\n",
    "    colors = ('red','blue','lightgreen','grey','cyan')\n",
    "    cmap = ListedColormap(colors[:len(np.unique(y))]) #yの種類分色を用意する\n",
    "    \n",
    "    #決定領域のプロット\n",
    "    x1_min, x1_max = X[:,0].min() - 1,X[:,0].max() + 1\n",
    "    x2_min, x2_max = X[:,1].min() - 1,X[:,1].max() + 1\n",
    "    \n",
    "    #グリッドポイントの生成\n",
    "    xx1,xx2 = np.meshgrid(np.arange(x1_min,x1_max,resolution),\n",
    "                         np.arange(x2_min,x2_max,resolution))\n",
    "    #各特徴量を１次元配列に変換して予測を実行\n",
    "    Z = classifier.predict(np.array([xx1.ravel(),xx2.ravel()]).T)\n",
    "    #予測値結果を元のグリッドポイントのデータサイズに変換\n",
    "    Z = Z.reshape(xx1.shape)\n",
    "    #　グリッドポイントの等高線のプロット\n",
    "    plt.contourf(xx1,xx2,Z,alpha=0.4,cmap=cmap)\n",
    "    #　軸の設定\n",
    "    plt.xlim(xx1.min(),xx1.max())\n",
    "    plt.ylim(xx2.min(),xx2.max())\n",
    "    \n",
    "    #クラスごとにサンプルプロット\n",
    "    for idx,cl in enumerate(np.unique(y)):\n",
    "        plt.scatter(x=X[y == cl,0],y=X[y == cl,1],alpha=0.8,c=cmap(idx),marker=markers[idx],label=cl)\n",
    "        \n",
    "    #テストサンプルを目立たせる（点を○で表示）\n",
    "    if test_idx:\n",
    "        X_test,y_test = X[test_idx,:],y[test_idx]\n",
    "        plt.scatter(X_test[:,0],X_test[:,1],c='',\n",
    "                   alpha=1.0,linewidths=1,marker='o',\n",
    "                   s=55,label='test set')"
   ]
  },
  {
   "cell_type": "markdown",
   "metadata": {
    "collapsed": true
   },
   "source": [
    "# 3.3　ロジスティック回帰を使ったクラスの確率モデリング\n",
    "- パーセプトロンの最大の問題点は、クラスを完全に線形分離できない場合は決して収束しないことである。\n",
    "- ロジスティック回帰は線形分類問題と二値分類問題に対する単純ながら強力なアルゴリズムである。"
   ]
  },
  {
   "cell_type": "markdown",
   "metadata": {},
   "source": [
    "# 3.3.1　ロジスティック回帰の直感的知識と条件付き確率\n",
    "### ロジスティック回帰は二項分布とロジットリンク関数を使った統計モデル推定\n",
    "- ロジスティック回帰が高い性能が発揮されるのは線形分離可能なクラスに対してのみ\n",
    "- 産業界において最も広く使用されている分類アルゴリズムの１つである\n",
    "- 概念を理解するためにまずはオッズ比を導入する。オッズ比は事象の起こりやすさを表すものである。\n",
    "$$\\frac{p}{1-p}$$\n",
    "\n",
    "- オッズ比の対数である、ロジット関数を定義できる。\n",
    "- ロジット関数はサンプルが特定のクラスに所属する確率を入力とし、オッズ比の対数を出力としている。\n",
    "$$logit(p) = \\log(\\frac{p}{1-p})$$\n",
    "\n",
    "- この関数を使って、特徴量の値と対数オッズの間の線形関係を表すことできる。\n",
    "- $p(y=1|\\vec{x})$は特徴量xが与えられた場合にサンプルクラスが1に属する条件付き確率である。\n",
    "$$logit(p(y=1|\\vec{x})) = w_{0}x_{0} + w_{1}x_{1} + w_{2}x_{2} + \\cdots = \\sum^{m}_{i=0}w_{i}x_{i} = \\vec{w}^{T}\\vec{x} $$\n",
    "\n",
    "- 実際に関心があるのは、サンプルが特定のクラスに属している確率を予測することである。これは、ロジスティック関数の逆関数であり、ロジスティック関数と呼ばれる。\n",
    "\n",
    "$$\\phi(z) = \\frac{1}{1+e^{-z}}$$\n",
    "\n",
    "\n",
    "- zは総出力で、重みとサンプルの特徴量の線形結合である\n",
    "- ロジスティック回帰では活性化関数がシグモイド関数になるってこと\n",
    "$$z = \\vec{w}^{T}\\vec{x} = w_{0}x_{0} + w_{1}x_{1} + w_{2}x_{2} + \\cdots$$"
   ]
  },
  {
   "cell_type": "code",
   "execution_count": 1,
   "metadata": {
    "collapsed": false
   },
   "outputs": [
    {
     "data": {
      "image/png": "[encoded data removed]",
      "text/plain": [
       "<matplotlib.figure.Figure at 0x7f6962f78790>"
      ]
     },
     "metadata": {},
     "output_type": "display_data"
    }
   ],
   "source": [
    "#シグモイド関数のプロット\n",
    "import matplotlib.pyplot as plt\n",
    "import numpy as np\n",
    "%matplotlib inline\n",
    "\n",
    "#シグモイド関数を定義\n",
    "def sigmoid(z):\n",
    "    return 1.0 / (1.0 + np.exp(-z))\n",
    "\n",
    "z = np.arange(-7,7,0.1)\n",
    "phi_z = sigmoid(z)\n",
    "\n",
    "plt.plot(z,phi_z)\n",
    "#垂直線を追加\n",
    "plt.axvline(0.0,color='k')\n",
    "\n",
    "plt.ylim(-0.1,1.1)\n",
    "\n",
    "plt.xlabel('z')\n",
    "plt.ylabel('$\\phi (z)$')\n",
    "#y軸のメモリを追加\n",
    "plt.yticks([0.0,0.5,1.0])\n",
    "\n",
    "#Axesクラスのオブジェクトの取得\n",
    "ax = plt.gca()\n",
    "#y軸のメモリに合わせて水平グリッド線を追加\n",
    "ax.yaxis.grid(True)\n",
    "\n",
    "plt.show()"
   ]
  },
  {
   "cell_type": "markdown",
   "metadata": {},
   "source": [
    "# 3.3.2　ロジスティック関数の重みの学習\n",
    "- ロジスティック回帰における重みの学習は対数尤度を最大化することにより求める。\n",
    "- 対数尤度が最大になる重みwを求めることになる。\n",
    "$$L(\\vec{w}) = P(\\vec{y}|\\vec{x};\\vec{w}) = \\prod^{n}_{i=1}(y^{(i)}|x^{(i)};\\vec{w}) = \\prod^{n}_{i=1}(\\phi(z^{(i)}))^{y^{(i)}}(1-\\phi(z^{(i)}))^{1-y^{(i)}}$$\n",
    "\n",
    "- 対数関数を適用すると、アンダーフローの可能性が低下する\n",
    "- 微分が容易になる\n",
    "$$ l(\\vec{w}) = LogL(\\vec{w}) = \\sum^{n}_{i=1} [y^{(i)}log(\\phi(z^{(i)})) + (1-y^{(i)})log(1-\\phi(z^{(i)}))]$$\n",
    "\n",
    "- 勾配降下法を用いて最小化できるコスト関数Jとして対数尤度を書き換える（-1を掛ける）\n",
    "$$J(\\vec{w}) = \\sum^{n}_{i=1} [-y^{(i)}log(\\phi(z^{(i)})) - (1-y^{(i)})log(1-\\phi(z^{(i)}))]$$"
   ]
  },
  {
   "cell_type": "markdown",
   "metadata": {
    "collapsed": true
   },
   "source": [
    "# 3.3.3 scikit-learnによるロジスティック回帰モデルのトレーニング"
   ]
  },
  {
   "cell_type": "code",
   "execution_count": 9,
   "metadata": {
    "collapsed": false
   },
   "outputs": [
    {
     "data": {
      "image/png": "[encoded data removed]",
      "text/plain": [
       "<matplotlib.figure.Figure at 0x7f367fe31110>"
      ]
     },
     "metadata": {},
     "output_type": "display_data"
    }
   ],
   "source": [
    "from sklearn.linear_model import LogisticRegression\n",
    "# ロジスティック回帰のインスタンスを生成\n",
    "lr = LogisticRegression(C=1000.0,random_state=0)\n",
    "# トレーニングデータをモデルに適合させる。\n",
    "lr.fit(X_train_std,y_train)\n",
    "\n",
    "#トレーニングデータとテストデータの特徴量を行方向に結合\n",
    "X_combined_std = np.vstack((X_train_std,X_test_std))\n",
    "#トレーニングデータとテストデータのクラスラベルを結合\n",
    "y_combined = np.hstack((y_train,y_test))\n",
    "\n",
    "#決定領域のプロット\n",
    "plot_decision_regions(X_combined_std,y_combined,classifier=lr,test_idx=range(105,150))\n",
    "\n",
    "plt.xlabel('petal length [standardized]')\n",
    "plt.ylabel('petal length [standardized]')\n",
    "\n",
    "plt.legend(loc='upper left')\n",
    "plt.show()"
   ]
  },
  {
   "cell_type": "markdown",
   "metadata": {},
   "source": [
    "# 3.3.4 正則化による過学習への対処\n",
    "- 過学習は未知のトレーニングデータセットではうまく汎化されないという問題だ。\n",
    "- 過学習が発生しているモデルは、「バリアンスが高い」と表現される。\n",
    "- 過学習の要因としては、パラメータの数が多すぎるため、データに対してモデルが複雑すぎることが考えられる。\n",
    "- これに対して、学習不足は、モデルの複雑さが十分でなはなく、未知のデータに対する性能が低い。\n",
    "- 学習不足が発生しているモデルは、「バイアスが高い」と表現される。\n",
    "- バイアスとバリアンスの間にはトレードオフの関係がある。\n",
    "- トレードオフ関係を探る一つの方法として、正則化に基づいてモデルの複雑さを調整することが挙げられる。\n",
    "- 正則化は共線性を処理する非常に便利な方法で、データからノイズを取り除き、最終的に過学習を防ぐ\n",
    "- 正則化の背景にある考え方は、極端なパラメータの重みにペナルティを科すための追加情報を導入するというものである。\n",
    "- 共線性とは、特徴量の間の相関の高さのことである。\n",
    "- 最も一般的な正則化は、L2正則化である。$\\lambda$が正則化パラメータである。\n",
    "$$\\frac{\\lambda}{2}\\| \\vec{w} \\|^{2} = \\frac{\\lambda}{2} \\sum^{m}_{j=1} w^{2}_{j}$$\n",
    "\n",
    "- 正則化を適用するには、ロジスティック回帰で定義したコスト関数に対して、重みを小さくするための正則化の項を追加する。\n",
    "- scikit-learnのLogisticRegressionクラスに実装されているCは$\\lambda$の逆数である。\n",
    "- Cの値を小さくすると、正則化の強さを高めることを意味する。\n",
    "$$J(\\vec{w}) = \\sum^{n}_{i=1} [-y^{(i)} log(\\phi(z^{(i)})) - (1-y^{(i)}) log(1-\\phi(z^{(i)}))] + \\frac{\\lambda}{2} \\| \\vec{w} \\|^{2}$$\n",
    "\n"
   ]
  },
  {
   "cell_type": "code",
   "execution_count": 17,
   "metadata": {
    "collapsed": false
   },
   "outputs": [
    {
     "data": {
      "image/png": "[encoded data removed]",
      "text/plain": [
       "<matplotlib.figure.Figure at 0x7f367ba3ca50>"
      ]
     },
     "metadata": {},
     "output_type": "display_data"
    }
   ],
   "source": [
    "#正則化の強さの可視化、２つの重み係数と逆正則化パラメータの関係をプロット\n",
    "\n",
    "#空のリストを作成（重み係数、逆正則化パラメータ）\n",
    "weights, params = [],[]\n",
    "#10個の逆正則化パラメータに対応するロジスティック回帰モデルをそれぞれ処理\n",
    "for c in np.arange(-5,5):\n",
    "    lr = LogisticRegression(C=10**c,random_state=0)\n",
    "    lr.fit(X_train_std,y_train)\n",
    "    #重み係数を格納\n",
    "    weights.append(lr.coef_[1]) #クラス2とその他のクラスを分類するときに使う重み係数\n",
    "    #逆正則化パラメータの格納\n",
    "    params.append(10**c)\n",
    "\n",
    "#重み係数をNumpy配列に変換\n",
    "weights = np.array(weights)\n",
    "\n",
    "#plot\n",
    "plt.plot(params,weights[:,0],label='petal length')\n",
    "plt.plot(params,weights[:,1],linestyle='--',label='petal width')\n",
    "plt.ylabel('weight coefficient')\n",
    "plt.xlabel('C')\n",
    "plt.legend(loc='upper left')\n",
    "#横軸を対数スケール\n",
    "plt.xscale('log')\n",
    "plt.show()\n"
   ]
  },
  {
   "cell_type": "markdown",
   "metadata": {},
   "source": [
    "- パラメータCが減少する（正則化を強める）と重み係数が0に近づいていく"
   ]
  }
 ],
 "metadata": {
  "kernelspec": {
   "display_name": "Python 2",
   "language": "python",
   "name": "python2"
  },
  "language_info": {
   "codemirror_mode": {
    "name": "ipython",
    "version": 2
   },
   "file_extension": ".py",
   "mimetype": "text/x-python",
   "name": "python",
   "nbconvert_exporter": "python",
   "pygments_lexer": "ipython2",
   "version": "2.7.12"
  }
 },
 "nbformat": 4,
 "nbformat_minor": 0
}
