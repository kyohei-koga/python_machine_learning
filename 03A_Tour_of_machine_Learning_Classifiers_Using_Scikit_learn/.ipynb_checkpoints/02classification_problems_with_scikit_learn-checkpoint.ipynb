{
 "cells": [
  {
   "cell_type": "markdown",
   "metadata": {
    "collapsed": true
   },
   "source": [
    "# 3.3　ロジスティック回帰を使ったクラスの確率モデリング\n",
    "- パーセプトロンの最大の問題点は、クラスを完全に線形分離できない場合は決して収束しないことである。\n",
    "- ロジスティック回帰は線形分類問題と二値分類問題に対する単純ながら強力なアルゴリズムである。"
   ]
  },
  {
   "cell_type": "markdown",
   "metadata": {},
   "source": [
    "# 3.3.1　ロジスティック回帰の直感的知識と条件付き確率\n",
    "- ロジスティック回帰が高い性能が発揮されるのは線形分離可能なクラスに対してのみ\n",
    "- 産業界において最も広く使用されている分類アルゴリズムの１つである\n",
    "- 概念を理解するためにまずはオッズ比を導入する。オッズ比は事象の起こりやすさを表すものである。\n",
    "$$\\frac{p}{1-p}$$\n",
    "\n",
    "- オッズ比の対数である、ロジット関数を定義できる。\n",
    "- ロジット関数はサンプルが特定のクラスに所属する確率を入力とし、オッズ比の対数を出力としている。\n",
    "$$logit(p) = \\log(\\frac{p}{1-p})$$\n",
    "\n",
    "- この関数を使って、特徴量の値と対数オッズの間の線形関係を表すことできる。\n",
    "- $p(y=1|\\vec{x})$は特徴量xが与えられた場合にサンプルクラスが1に属する条件付き確率である。\n",
    "$$logit(p(y=1|\\vec{x})) = w_{0}x_{0} + w_{1}x_{1} + w_{2}x_{2} + \\cdots = \\sum^{m}_{i=0}w_{i}x_{i} = \\vec{w}^{T}\\vec{x} $$\n",
    "\n",
    "- 実際に関心があるのは、サンプルが特定のクラスに属している確率を予測することである。これは、ロジスティック関数の逆関数であり、ロジスティック関数と呼ばれる。\n",
    "\n",
    "$$\\phi(z) = \\frac{1}{1+e^{-z}}$$\n",
    "\n",
    "\n",
    "- zは総出力で、重みとサンプルの特徴量の線形結合である\n",
    "- ロジスティック回帰では活性化関数がシグモイド関数になるってこと\n",
    "$$z = \\vec{w}^{T}\\vec{x} = w_{0}x_{0} + w_{1}x_{1} + w_{2}x_{2} + \\cdots$$"
   ]
  },
  {
   "cell_type": "code",
   "execution_count": 1,
   "metadata": {
    "collapsed": false
   },
   "outputs": [
    {
     "data": {
      "image/png": "[encoded data removed]",
      "text/plain": [
       "<matplotlib.figure.Figure at 0x7f6962f78790>"
      ]
     },
     "metadata": {},
     "output_type": "display_data"
    }
   ],
   "source": [
    "#シグモイド関数のプロット\n",
    "import matplotlib.pyplot as plt\n",
    "import numpy as np\n",
    "%matplotlib inline\n",
    "\n",
    "#シグモイド関数を定義\n",
    "def sigmoid(z):\n",
    "    return 1.0 / (1.0 + np.exp(-z))\n",
    "\n",
    "z = np.arange(-7,7,0.1)\n",
    "phi_z = sigmoid(z)\n",
    "\n",
    "plt.plot(z,phi_z)\n",
    "#垂直線を追加\n",
    "plt.axvline(0.0,color='k')\n",
    "\n",
    "plt.ylim(-0.1,1.1)\n",
    "\n",
    "plt.xlabel('z')\n",
    "plt.ylabel('$\\phi (z)$')\n",
    "#y軸のメモリを追加\n",
    "plt.yticks([0.0,0.5,1.0])\n",
    "\n",
    "#Axesクラスのオブジェクトの取得\n",
    "ax = plt.gca()\n",
    "#y軸のメモリに合わせて水平グリッド線を追加\n",
    "ax.yaxis.grid(True)\n",
    "\n",
    "plt.show()"
   ]
  },
  {
   "cell_type": "markdown",
   "metadata": {},
   "source": [
    "# 3.3.2　ロジスティック関数の重みの学習\n",
    "- ロジスティック回帰における重みの学習は対数尤度を最大化することにより求める。\n",
    "- 対数尤度が最大になる重みwを求めることになる。\n",
    "$$L(\\vec{w}) = P(\\vec{y}|\\vec{x};\\vec{w}) = \\prod^{n}_{i=1}$$"
   ]
  },
  {
   "cell_type": "code",
   "execution_count": null,
   "metadata": {
    "collapsed": true
   },
   "outputs": [],
   "source": []
  }
 ],
 "metadata": {
  "kernelspec": {
   "display_name": "Python 2",
   "language": "python",
   "name": "python2"
  },
  "language_info": {
   "codemirror_mode": {
    "name": "ipython",
    "version": 2
   },
   "file_extension": ".py",
   "mimetype": "text/x-python",
   "name": "python",
   "nbconvert_exporter": "python",
   "pygments_lexer": "ipython2",
   "version": "2.7.11"
  }
 },
 "nbformat": 4,
 "nbformat_minor": 0
}
