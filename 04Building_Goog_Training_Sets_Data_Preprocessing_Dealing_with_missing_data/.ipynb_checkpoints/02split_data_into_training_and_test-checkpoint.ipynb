{
 "cells": [
  {
   "cell_type": "markdown",
   "metadata": {},
   "source": [
    "# 4.3 データセットをトレーニングセットとテストデータセットに分割する。\n",
    "- wineという新しいデータセットに対して、前処理を行ったあと、次元数を減らすための様々な手法を見ていく。"
   ]
  },
  {
   "cell_type": "code",
   "execution_count": 4,
   "metadata": {
    "collapsed": false
   },
   "outputs": [
    {
     "name": "stdout",
     "output_type": "stream",
     "text": [
      "('Class labels', array([1, 2, 3]))\n"
     ]
    },
    {
     "data": {
      "text/html": [
       "<div>\n",
       "<table border=\"1\" class=\"dataframe\">\n",
       "  <thead>\n",
       "    <tr style=\"text-align: right;\">\n",
       "      <th></th>\n",
       "      <th>Class label</th>\n",
       "      <th>Alcohol</th>\n",
       "      <th>Malic acid</th>\n",
       "      <th>Ash</th>\n",
       "      <th>Alcalinity of ash</th>\n",
       "      <th>Magnesium</th>\n",
       "      <th>Total phenols</th>\n",
       "      <th>Flavanoids</th>\n",
       "      <th>Nonflavanoid phenols</th>\n",
       "      <th>Proanthocyanins</th>\n",
       "      <th>Color intensity</th>\n",
       "      <th>Hue</th>\n",
       "      <th>OD280/OD315 of diluted wines</th>\n",
       "      <th>Proline</th>\n",
       "    </tr>\n",
       "  </thead>\n",
       "  <tbody>\n",
       "    <tr>\n",
       "      <th>0</th>\n",
       "      <td>1</td>\n",
       "      <td>14.23</td>\n",
       "      <td>1.71</td>\n",
       "      <td>2.43</td>\n",
       "      <td>15.6</td>\n",
       "      <td>127</td>\n",
       "      <td>2.80</td>\n",
       "      <td>3.06</td>\n",
       "      <td>0.28</td>\n",
       "      <td>2.29</td>\n",
       "      <td>5.64</td>\n",
       "      <td>1.04</td>\n",
       "      <td>3.92</td>\n",
       "      <td>1065</td>\n",
       "    </tr>\n",
       "    <tr>\n",
       "      <th>1</th>\n",
       "      <td>1</td>\n",
       "      <td>13.20</td>\n",
       "      <td>1.78</td>\n",
       "      <td>2.14</td>\n",
       "      <td>11.2</td>\n",
       "      <td>100</td>\n",
       "      <td>2.65</td>\n",
       "      <td>2.76</td>\n",
       "      <td>0.26</td>\n",
       "      <td>1.28</td>\n",
       "      <td>4.38</td>\n",
       "      <td>1.05</td>\n",
       "      <td>3.40</td>\n",
       "      <td>1050</td>\n",
       "    </tr>\n",
       "    <tr>\n",
       "      <th>2</th>\n",
       "      <td>1</td>\n",
       "      <td>13.16</td>\n",
       "      <td>2.36</td>\n",
       "      <td>2.67</td>\n",
       "      <td>18.6</td>\n",
       "      <td>101</td>\n",
       "      <td>2.80</td>\n",
       "      <td>3.24</td>\n",
       "      <td>0.30</td>\n",
       "      <td>2.81</td>\n",
       "      <td>5.68</td>\n",
       "      <td>1.03</td>\n",
       "      <td>3.17</td>\n",
       "      <td>1185</td>\n",
       "    </tr>\n",
       "    <tr>\n",
       "      <th>3</th>\n",
       "      <td>1</td>\n",
       "      <td>14.37</td>\n",
       "      <td>1.95</td>\n",
       "      <td>2.50</td>\n",
       "      <td>16.8</td>\n",
       "      <td>113</td>\n",
       "      <td>3.85</td>\n",
       "      <td>3.49</td>\n",
       "      <td>0.24</td>\n",
       "      <td>2.18</td>\n",
       "      <td>7.80</td>\n",
       "      <td>0.86</td>\n",
       "      <td>3.45</td>\n",
       "      <td>1480</td>\n",
       "    </tr>\n",
       "    <tr>\n",
       "      <th>4</th>\n",
       "      <td>1</td>\n",
       "      <td>13.24</td>\n",
       "      <td>2.59</td>\n",
       "      <td>2.87</td>\n",
       "      <td>21.0</td>\n",
       "      <td>118</td>\n",
       "      <td>2.80</td>\n",
       "      <td>2.69</td>\n",
       "      <td>0.39</td>\n",
       "      <td>1.82</td>\n",
       "      <td>4.32</td>\n",
       "      <td>1.04</td>\n",
       "      <td>2.93</td>\n",
       "      <td>735</td>\n",
       "    </tr>\n",
       "  </tbody>\n",
       "</table>\n",
       "</div>"
      ],
      "text/plain": [
       "   Class label  Alcohol  Malic acid   Ash  Alcalinity of ash  Magnesium  \\\n",
       "0            1    14.23        1.71  2.43               15.6        127   \n",
       "1            1    13.20        1.78  2.14               11.2        100   \n",
       "2            1    13.16        2.36  2.67               18.6        101   \n",
       "3            1    14.37        1.95  2.50               16.8        113   \n",
       "4            1    13.24        2.59  2.87               21.0        118   \n",
       "\n",
       "   Total phenols  Flavanoids  Nonflavanoid phenols  Proanthocyanins  \\\n",
       "0           2.80        3.06                  0.28             2.29   \n",
       "1           2.65        2.76                  0.26             1.28   \n",
       "2           2.80        3.24                  0.30             2.81   \n",
       "3           3.85        3.49                  0.24             2.18   \n",
       "4           2.80        2.69                  0.39             1.82   \n",
       "\n",
       "   Color intensity   Hue  OD280/OD315 of diluted wines  Proline  \n",
       "0             5.64  1.04                          3.92     1065  \n",
       "1             4.38  1.05                          3.40     1050  \n",
       "2             5.68  1.03                          3.17     1185  \n",
       "3             7.80  0.86                          3.45     1480  \n",
       "4             4.32  1.04                          2.93      735  "
      ]
     },
     "execution_count": 4,
     "metadata": {},
     "output_type": "execute_result"
    }
   ],
   "source": [
    "import pandas as pd\n",
    "import numpy as np\n",
    "#windデータセットを読み込む\n",
    "df_wine = pd.read_csv('https://archive.ics.uci.edu/ml/machine-learning-databases/wine/wine.data',header=None)\n",
    "#列名を設定\n",
    "df_wine.columns = ['Class label','Alcohol','Malic acid','Ash','Alcalinity of ash','Magnesium','Total phenols','Flavanoids',\n",
    "             'Nonflavanoid phenols','Proanthocyanins','Color intensity','Hue','OD280/OD315 of diluted wines','Proline']\n",
    "#クラスラベルの表示\n",
    "print('Class labels',np.unique(df_wine['Class label']))\n",
    "#wineデータセットの先頭5行表示\n",
    "df_wine.head()"
   ]
  },
  {
   "cell_type": "markdown",
   "metadata": {},
   "source": [
    "- サンプルはクラス1，2，3のいずれかに属する。\n",
    "- テストデータセットとトレーニングデータセットに分割する。"
   ]
  },
  {
   "cell_type": "code",
   "execution_count": 7,
   "metadata": {
    "collapsed": false
   },
   "outputs": [],
   "source": [
    "from sklearn.cross_validation import train_test_split\n",
    "# 特徴量とクラスラベルを別々に抽出\n",
    "X,y = df_wine.iloc[:,1:].values, df_wine.iloc[:,0].values\n",
    "#トレーニングデータセットとテストデータに分割\n",
    "#全体の30%をテストデータにする\n",
    "X_train,X_test,y_train,y_test = train_test_split(X,y,test_size=0.3,random_state=0)"
   ]
  },
  {
   "cell_type": "markdown",
   "metadata": {},
   "source": [
    "- テストとトレーニングで最もよく使われる比率は、60：40、70：30、80：20がある。データセットが大きい場合は、トレーニングデータセットとテストデータセットを90：10または、99：1の比率で分割するのも一般的。"
   ]
  },
  {
   "cell_type": "markdown",
   "metadata": {},
   "source": [
    "# 4.4 特徴量の尺度を揃える\n",
    "- 特徴量のスケーリング極めて重要なステップである。\n",
    "- 機械学習と最適化のアルゴリズムの大半は、特徴量の尺度が同じである場合にはるかにうまく動作する。\n",
    "- 尺度が異なる特徴量同士で学習し重み係数を計算した場合、尺度の値域が大きい特徴量の寄与が支配的になる。\n",
    "- 尺度を揃える一般的な手法としては正規化と標準化の２つがある。\n",
    "- 正規化は特徴量を[0,1]の範囲にスケーリングし直すことを意味する。\n",
    "$$x_{norm}^{(i)} = \\frac{x^{(i)} - x_{min}}{x_{max} - x_{min}}$$"
   ]
  },
  {
   "cell_type": "code",
   "execution_count": 8,
   "metadata": {
    "collapsed": true
   },
   "outputs": [],
   "source": [
    "#min-maxスケーリング（正規化）\n",
    "from sklearn.preprocessing import MinMaxScaler\n",
    "#min-maxスケーリングのインスタンスを作成\n",
    "mms = MinMaxScaler()\n",
    "#トレーニングデータをスケーリング\n",
    "X_train_norm = mms.fit_transform(X_train)\n",
    "#テストデータをスケーリング\n",
    "X_test_norm = mms.transform(X_test)"
   ]
  },
  {
   "cell_type": "markdown",
   "metadata": {},
   "source": [
    "- min-maxスケーリングは有界区間の値が必要である場合に役立つが、多くの機械学習のアルゴリズムには標準化の方が実用的かもしれない。\n",
    "- 多くの線形モデルが重みを0または、0に近い小さな乱数に初期化するからだ。（？？？）\n",
    "- 特徴量の列は正規分布に従うため、重みを学習しやすくなる。（？？？）\n",
    "- 標準化では、外れ値に関する有益な情報が維持される。\n",
    "- min-max方よりも、外れ値から受ける影響が少なくなる。\n",
    "$$x_{std}^{(i)} = \\frac{x^{(i)} - \\mu_{x}}{\\sigma_{x}}$$"
   ]
  },
  {
   "cell_type": "code",
   "execution_count": 10,
   "metadata": {
    "collapsed": false
   },
   "outputs": [],
   "source": [
    "from sklearn.preprocessing import StandardScaler\n",
    "#標準化のインスタンス作成（平均=0、標準偏差=1に変換）\n",
    "stdsc = StandardScaler()\n",
    "X_train_std = stdsc.fit_transform(X_train)\n",
    "X_test_std = stdsc.transform(X_test)"
   ]
  },
  {
   "cell_type": "markdown",
   "metadata": {},
   "source": [
    "# 4.5 有益な特徴量の選択\n",
    "- モデルの汎化誤差を減らすための一般的な方法は以下のとおりである。\n",
    "①さらに多くのトレーニングデータを集める。\n",
    "②正則化を通じて複雑さにペナルティを科す\n",
    "③パラメータの数が少ない、より単純なモデルを選択する\n",
    "④データの次元の数を減らす\n",
    "- ここでは正則化と、特徴量の選択による次元削減を行うことで、過学習を減らす一般的な方法について見る"
   ]
  },
  {
   "cell_type": "markdown",
   "metadata": {},
   "source": [
    "# 4.5.1 L1正則化による疎な解\n",
    "- モデルの複雑さは大きなペナルティを科すことによって低減される。\n",
    "- L2正則化と対照的にL1正則化によって返されるのは疎な特徴ベクトルであり、ほとんどの重みは0となる。\n",
    "- 要素のほとんどが0といった疎性が役に立つのは無関係な特徴量の個数が多い高次元のデータセットがある。\n",
    "$$L2:\\| \\vec{w} \\|^{2}_{2} = \\sum^{m}_{j=1}w^{2}_{j}$$\n",
    "$$L1:\\| \\vec{w} \\|_{1} = \\sum^{m}_{j=1} \\|w_{j}\\|$$\n",
    "- 正則化の目標はペナルティを受けないコスト関数とペナルティ項の和を最小化にすることである。\n",
    "- L1正則化における最適化条件（コスト関数の楕円とL1のひし形の境界線の交点）は軸上にある可能性が高く、その条件は疎性を助長する。"
   ]
  },
  {
   "cell_type": "code",
   "execution_count": 12,
   "metadata": {
    "collapsed": false
   },
   "outputs": [
    {
     "name": "stdout",
     "output_type": "stream",
     "text": [
      "('Training accuracy:', 0.98148148148148151)\n"
     ]
    }
   ],
   "source": [
    "from sklearn.linear_model import LogisticRegression\n",
    "# L1正則化ロジスティック回帰のインスタンスを生成\n",
    "LogisticRegression(penalty='l1')\n",
    "#L1正則化ロジスティック回帰のインスタンスを生成（逆正則化パラメータC=0.1）\n",
    "lr = LogisticRegression(penalty='l1',C=0.1)\n",
    "#トレーニングデータに適合\n",
    "lr.fit(X_train_std,y_train)\n",
    "#トレーニングデータに対する正解率の表示\n",
    "print('Training accuracy:',lr.score(X_test_std,y_test))"
   ]
  },
  {
   "cell_type": "code",
   "execution_count": 13,
   "metadata": {
    "collapsed": false
   },
   "outputs": [
    {
     "data": {
      "text/plain": [
       "array([-0.38379871, -0.15813121, -0.70044977])"
      ]
     },
     "execution_count": 13,
     "metadata": {},
     "output_type": "execute_result"
    }
   ],
   "source": [
    "#切片の表示\n",
    "lr.intercept_"
   ]
  },
  {
   "cell_type": "code",
   "execution_count": 14,
   "metadata": {
    "collapsed": false
   },
   "outputs": [
    {
     "data": {
      "text/plain": [
       "array([[ 0.28028803,  0.        ,  0.        , -0.02789581,  0.        ,\n",
       "         0.        ,  0.71018629,  0.        ,  0.        ,  0.        ,\n",
       "         0.        ,  0.        ,  1.23628608],\n",
       "       [-0.6436934 , -0.06896404, -0.05717781,  0.        ,  0.        ,\n",
       "         0.        ,  0.        ,  0.        ,  0.        , -0.92718652,\n",
       "         0.05975211,  0.        , -0.37106716],\n",
       "       [ 0.        ,  0.06161894,  0.        ,  0.        ,  0.        ,\n",
       "         0.        , -0.63559024,  0.        ,  0.        ,  0.49795166,\n",
       "        -0.3582552 , -0.57161059,  0.        ]])"
      ]
     },
     "execution_count": 14,
     "metadata": {},
     "output_type": "execute_result"
    }
   ],
   "source": [
    "#重み係数の表示\n",
    "lr.coef_"
   ]
  },
  {
   "cell_type": "markdown",
   "metadata": {},
   "source": [
    "- 重みベクトルは、0ではないエントリがほんの僅かで、疎であることがわかる。"
   ]
  },
  {
   "cell_type": "code",
   "execution_count": 19,
   "metadata": {
    "collapsed": false
   },
   "outputs": [
    {
     "data": {
      "image/png": "[encoded data removed]",
      "text/plain": [
       "<matplotlib.figure.Figure at 0x7f658b3f3510>"
      ]
     },
     "metadata": {},
     "output_type": "display_data"
    }
   ],
   "source": [
    "#正則化パスのグラフ化\n",
    "import matplotlib.pyplot as plt\n",
    "%matplotlib inline\n",
    "fig = plt.figure()\n",
    "ax = plt.subplot(111)\n",
    "#各係数の色リスト\n",
    "colors = ['blue','green','red','cyan','magenta','yellow','black','pink','lightgreen','lightblue',\n",
    "         'gray','indigo','orange']\n",
    "#空のリストを作成（重み係数、逆正則化パラメータ）\n",
    "weights,params = [],[]\n",
    "#逆生息化パラメータの値ごとに処理\n",
    "for c in np.arange(-4,6):\n",
    "    lr = LogisticRegression(penalty='l1',C=10**c,random_state=0)\n",
    "    lr.fit(X_train_std,y_train)\n",
    "    weights.append(lr.coef_[1])\n",
    "    params.append(10**c)\n",
    "\n",
    "#重み係数をNumpy配列に変換\n",
    "weights = np.array(weights)\n",
    "#各重み係数をプロット\n",
    "for column,color in zip(range(weights.shape[1]),colors):\n",
    "    #横軸を正則化パラメータ、縦軸を重み係数とした折れ線グラフ\n",
    "    plt.plot(params,weights[:,column],label=df_wine.columns[column+1],color=color)\n",
    "\n",
    "#y=0に黒い破線を引く\n",
    "plt.axhline(0,color='black',linestyle='--',linewidth=3)\n",
    "#横軸の範囲の設定\n",
    "plt.xlim([10**(-5),10**5])\n",
    "plt.ylabel('weight coefficient')\n",
    "plt.xlabel('C')\n",
    "#横軸を対数スケール\n",
    "plt.xscale('log')\n",
    "plt.legend(loc='upper left')\n",
    "ax.legend(loc='upper center',bbox_to_anchor=(1.38,1.03),ncol=1,fancybox=True)\n",
    "plt.show()"
   ]
  },
  {
   "cell_type": "code",
   "execution_count": null,
   "metadata": {
    "collapsed": true
   },
   "outputs": [],
   "source": []
  }
 ],
 "metadata": {
  "kernelspec": {
   "display_name": "Python 2",
   "language": "python",
   "name": "python2"
  },
  "language_info": {
   "codemirror_mode": {
    "name": "ipython",
    "version": 2
   },
   "file_extension": ".py",
   "mimetype": "text/x-python",
   "name": "python",
   "nbconvert_exporter": "python",
   "pygments_lexer": "ipython2",
   "version": "2.7.11"
  }
 },
 "nbformat": 4,
 "nbformat_minor": 0
}
