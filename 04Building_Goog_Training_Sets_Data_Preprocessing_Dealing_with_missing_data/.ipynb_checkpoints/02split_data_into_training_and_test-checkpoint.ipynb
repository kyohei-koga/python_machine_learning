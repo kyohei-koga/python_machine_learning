{
 "cells": [
  {
   "cell_type": "markdown",
   "metadata": {},
   "source": [
    "# 4.3 データセットをトレーニングセットとテストデータセットに分割する。\n",
    "- wineという新しいデータセットに対して、前処理を行ったあと、次元数を減らすための様々な手法を見ていく。"
   ]
  },
  {
   "cell_type": "code",
   "execution_count": 1,
   "metadata": {
    "collapsed": false
   },
   "outputs": [
    {
     "name": "stdout",
     "output_type": "stream",
     "text": [
      "('Class labels', array([1, 2, 3]))\n"
     ]
    },
    {
     "data": {
      "text/html": [
       "<div>\n",
       "<table border=\"1\" class=\"dataframe\">\n",
       "  <thead>\n",
       "    <tr style=\"text-align: right;\">\n",
       "      <th></th>\n",
       "      <th>Class label</th>\n",
       "      <th>Alcohol</th>\n",
       "      <th>Malic acid</th>\n",
       "      <th>Ash</th>\n",
       "      <th>Alcalinity of ash</th>\n",
       "      <th>Magnesium</th>\n",
       "      <th>Total phenols</th>\n",
       "      <th>Flavanoids</th>\n",
       "      <th>Nonflavanoid phenols</th>\n",
       "      <th>Proanthocyanins</th>\n",
       "      <th>Color intensity</th>\n",
       "      <th>Hue</th>\n",
       "      <th>OD280/OD315 of diluted wines</th>\n",
       "      <th>Proline</th>\n",
       "    </tr>\n",
       "  </thead>\n",
       "  <tbody>\n",
       "    <tr>\n",
       "      <th>0</th>\n",
       "      <td>1</td>\n",
       "      <td>14.23</td>\n",
       "      <td>1.71</td>\n",
       "      <td>2.43</td>\n",
       "      <td>15.6</td>\n",
       "      <td>127</td>\n",
       "      <td>2.80</td>\n",
       "      <td>3.06</td>\n",
       "      <td>0.28</td>\n",
       "      <td>2.29</td>\n",
       "      <td>5.64</td>\n",
       "      <td>1.04</td>\n",
       "      <td>3.92</td>\n",
       "      <td>1065</td>\n",
       "    </tr>\n",
       "    <tr>\n",
       "      <th>1</th>\n",
       "      <td>1</td>\n",
       "      <td>13.20</td>\n",
       "      <td>1.78</td>\n",
       "      <td>2.14</td>\n",
       "      <td>11.2</td>\n",
       "      <td>100</td>\n",
       "      <td>2.65</td>\n",
       "      <td>2.76</td>\n",
       "      <td>0.26</td>\n",
       "      <td>1.28</td>\n",
       "      <td>4.38</td>\n",
       "      <td>1.05</td>\n",
       "      <td>3.40</td>\n",
       "      <td>1050</td>\n",
       "    </tr>\n",
       "    <tr>\n",
       "      <th>2</th>\n",
       "      <td>1</td>\n",
       "      <td>13.16</td>\n",
       "      <td>2.36</td>\n",
       "      <td>2.67</td>\n",
       "      <td>18.6</td>\n",
       "      <td>101</td>\n",
       "      <td>2.80</td>\n",
       "      <td>3.24</td>\n",
       "      <td>0.30</td>\n",
       "      <td>2.81</td>\n",
       "      <td>5.68</td>\n",
       "      <td>1.03</td>\n",
       "      <td>3.17</td>\n",
       "      <td>1185</td>\n",
       "    </tr>\n",
       "    <tr>\n",
       "      <th>3</th>\n",
       "      <td>1</td>\n",
       "      <td>14.37</td>\n",
       "      <td>1.95</td>\n",
       "      <td>2.50</td>\n",
       "      <td>16.8</td>\n",
       "      <td>113</td>\n",
       "      <td>3.85</td>\n",
       "      <td>3.49</td>\n",
       "      <td>0.24</td>\n",
       "      <td>2.18</td>\n",
       "      <td>7.80</td>\n",
       "      <td>0.86</td>\n",
       "      <td>3.45</td>\n",
       "      <td>1480</td>\n",
       "    </tr>\n",
       "    <tr>\n",
       "      <th>4</th>\n",
       "      <td>1</td>\n",
       "      <td>13.24</td>\n",
       "      <td>2.59</td>\n",
       "      <td>2.87</td>\n",
       "      <td>21.0</td>\n",
       "      <td>118</td>\n",
       "      <td>2.80</td>\n",
       "      <td>2.69</td>\n",
       "      <td>0.39</td>\n",
       "      <td>1.82</td>\n",
       "      <td>4.32</td>\n",
       "      <td>1.04</td>\n",
       "      <td>2.93</td>\n",
       "      <td>735</td>\n",
       "    </tr>\n",
       "  </tbody>\n",
       "</table>\n",
       "</div>"
      ],
      "text/plain": [
       "   Class label  Alcohol  Malic acid   Ash  Alcalinity of ash  Magnesium  \\\n",
       "0            1    14.23        1.71  2.43               15.6        127   \n",
       "1            1    13.20        1.78  2.14               11.2        100   \n",
       "2            1    13.16        2.36  2.67               18.6        101   \n",
       "3            1    14.37        1.95  2.50               16.8        113   \n",
       "4            1    13.24        2.59  2.87               21.0        118   \n",
       "\n",
       "   Total phenols  Flavanoids  Nonflavanoid phenols  Proanthocyanins  \\\n",
       "0           2.80        3.06                  0.28             2.29   \n",
       "1           2.65        2.76                  0.26             1.28   \n",
       "2           2.80        3.24                  0.30             2.81   \n",
       "3           3.85        3.49                  0.24             2.18   \n",
       "4           2.80        2.69                  0.39             1.82   \n",
       "\n",
       "   Color intensity   Hue  OD280/OD315 of diluted wines  Proline  \n",
       "0             5.64  1.04                          3.92     1065  \n",
       "1             4.38  1.05                          3.40     1050  \n",
       "2             5.68  1.03                          3.17     1185  \n",
       "3             7.80  0.86                          3.45     1480  \n",
       "4             4.32  1.04                          2.93      735  "
      ]
     },
     "execution_count": 1,
     "metadata": {},
     "output_type": "execute_result"
    }
   ],
   "source": [
    "import pandas as pd\n",
    "import numpy as np\n",
    "#windデータセットを読み込む\n",
    "df_wine = pd.read_csv('https://archive.ics.uci.edu/ml/machine-learning-databases/wine/wine.data',header=None)\n",
    "#列名を設定\n",
    "df_wine.columns = ['Class label','Alcohol','Malic acid','Ash','Alcalinity of ash','Magnesium','Total phenols','Flavanoids',\n",
    "             'Nonflavanoid phenols','Proanthocyanins','Color intensity','Hue','OD280/OD315 of diluted wines','Proline']\n",
    "#クラスラベルの表示\n",
    "print('Class labels',np.unique(df_wine['Class label']))\n",
    "#wineデータセットの先頭5行表示\n",
    "df_wine.head()"
   ]
  },
  {
   "cell_type": "markdown",
   "metadata": {},
   "source": [
    "- サンプルはクラス1，2，3のいずれかに属する。\n",
    "- テストデータセットとトレーニングデータセットに分割する。"
   ]
  },
  {
   "cell_type": "code",
   "execution_count": 2,
   "metadata": {
    "collapsed": false
   },
   "outputs": [],
   "source": [
    "from sklearn.cross_validation import train_test_split\n",
    "# 特徴量とクラスラベルを別々に抽出\n",
    "X,y = df_wine.iloc[:,1:].values, df_wine.iloc[:,0].values\n",
    "#トレーニングデータセットとテストデータに分割\n",
    "#全体の30%をテストデータにする\n",
    "X_train,X_test,y_train,y_test = train_test_split(X,y,test_size=0.3,random_state=0)"
   ]
  },
  {
   "cell_type": "markdown",
   "metadata": {},
   "source": [
    "- テストとトレーニングで最もよく使われる比率は、60：40、70：30、80：20がある。データセットが大きい場合は、トレーニングデータセットとテストデータセットを90：10または、99：1の比率で分割するのも一般的。"
   ]
  },
  {
   "cell_type": "markdown",
   "metadata": {},
   "source": [
    "# 4.4 特徴量の尺度を揃える\n",
    "- 特徴量のスケーリング極めて重要なステップである。\n",
    "- 機械学習と最適化のアルゴリズムの大半は、特徴量の尺度が同じである場合にはるかにうまく動作する。\n",
    "- 尺度が異なる特徴量同士で学習し重み係数を計算した場合、尺度の値域が大きい特徴量の寄与が支配的になる。\n",
    "- 尺度を揃える一般的な手法としては正規化と標準化の２つがある。\n",
    "- 正規化は特徴量を[0,1]の範囲にスケーリングし直すことを意味する。\n",
    "$$x_{norm}^{(i)} = \\frac{x^{(i)} - x_{min}}{x_{max} - x_{min}}$$"
   ]
  },
  {
   "cell_type": "code",
   "execution_count": 3,
   "metadata": {
    "collapsed": true
   },
   "outputs": [],
   "source": [
    "#min-maxスケーリング（正規化）\n",
    "from sklearn.preprocessing import MinMaxScaler\n",
    "#min-maxスケーリングのインスタンスを作成\n",
    "mms = MinMaxScaler()\n",
    "#トレーニングデータをスケーリング\n",
    "X_train_norm = mms.fit_transform(X_train)\n",
    "#テストデータをスケーリング\n",
    "X_test_norm = mms.transform(X_test)"
   ]
  },
  {
   "cell_type": "markdown",
   "metadata": {},
   "source": [
    "- min-maxスケーリングは有界区間の値が必要である場合に役立つが、多くの機械学習のアルゴリズムには標準化の方が実用的かもしれない。\n",
    "- 多くの線形モデルが重みを0または、0に近い小さな乱数に初期化するからだ。（？？？）\n",
    "- 特徴量の列は正規分布に従うため、重みを学習しやすくなる。（？？？）\n",
    "- 標準化では、外れ値に関する有益な情報が維持される。\n",
    "- min-max方よりも、外れ値から受ける影響が少なくなる。\n",
    "$$x_{std}^{(i)} = \\frac{x^{(i)} - \\mu_{x}}{\\sigma_{x}}$$"
   ]
  },
  {
   "cell_type": "code",
   "execution_count": 4,
   "metadata": {
    "collapsed": false
   },
   "outputs": [],
   "source": [
    "from sklearn.preprocessing import StandardScaler\n",
    "#標準化のインスタンス作成（平均=0、標準偏差=1に変換）\n",
    "stdsc = StandardScaler()\n",
    "X_train_std = stdsc.fit_transform(X_train)\n",
    "X_test_std = stdsc.transform(X_test)"
   ]
  },
  {
   "cell_type": "markdown",
   "metadata": {},
   "source": [
    "# 4.5 有益な特徴量の選択\n",
    "- モデルの汎化誤差を減らすための一般的な方法は以下のとおりである。\n",
    "①さらに多くのトレーニングデータを集める。\n",
    "②正則化を通じて複雑さにペナルティを科す\n",
    "③パラメータの数が少ない、より単純なモデルを選択する\n",
    "④データの次元の数を減らす\n",
    "- ここでは正則化と、特徴量の選択による次元削減を行うことで、過学習を減らす一般的な方法について見る"
   ]
  },
  {
   "cell_type": "markdown",
   "metadata": {},
   "source": [
    "# 4.5.1 L1正則化による疎な解\n",
    "- モデルの複雑さは大きなペナルティを科すことによって低減される。\n",
    "- L2正則化と対照的にL1正則化によって返されるのは疎な特徴ベクトルであり、ほとんどの重みは0となる。\n",
    "- 要素のほとんどが0といった疎性が役に立つのは無関係な特徴量の個数が多い高次元のデータセットがある。\n",
    "$$L2:\\| \\vec{w} \\|^{2}_{2} = \\sum^{m}_{j=1}w^{2}_{j}$$\n",
    "$$L1:\\| \\vec{w} \\|_{1} = \\sum^{m}_{j=1} \\|w_{j}\\|$$\n",
    "- 正則化の目標はペナルティを受けないコスト関数とペナルティ項の和を最小化にすることである。\n",
    "- L1正則化における最適化条件（コスト関数の楕円とL1のひし形の境界線の交点）は軸上にある可能性が高く、その条件は疎性を助長する。"
   ]
  },
  {
   "cell_type": "code",
   "execution_count": 5,
   "metadata": {
    "collapsed": false
   },
   "outputs": [
    {
     "name": "stdout",
     "output_type": "stream",
     "text": [
      "('Training accuracy:', 0.98148148148148151)\n"
     ]
    }
   ],
   "source": [
    "from sklearn.linear_model import LogisticRegression\n",
    "# L1正則化ロジスティック回帰のインスタンスを生成\n",
    "LogisticRegression(penalty='l1')\n",
    "#L1正則化ロジスティック回帰のインスタンスを生成（逆正則化パラメータC=0.1）\n",
    "lr = LogisticRegression(penalty='l1',C=0.1)\n",
    "#トレーニングデータに適合\n",
    "lr.fit(X_train_std,y_train)\n",
    "#トレーニングデータに対する正解率の表示\n",
    "print('Training accuracy:',lr.score(X_test_std,y_test))"
   ]
  },
  {
   "cell_type": "code",
   "execution_count": 6,
   "metadata": {
    "collapsed": false
   },
   "outputs": [
    {
     "data": {
      "text/plain": [
       "array([-0.38377111, -0.1581315 , -0.70045293])"
      ]
     },
     "execution_count": 6,
     "metadata": {},
     "output_type": "execute_result"
    }
   ],
   "source": [
    "#切片の表示\n",
    "lr.intercept_"
   ]
  },
  {
   "cell_type": "code",
   "execution_count": 7,
   "metadata": {
    "collapsed": false
   },
   "outputs": [
    {
     "data": {
      "text/plain": [
       "array([[ 0.27995011,  0.        ,  0.        , -0.02783765,  0.        ,\n",
       "         0.        ,  0.70988435,  0.        ,  0.        ,  0.        ,\n",
       "         0.        ,  0.        ,  1.23663906],\n",
       "       [-0.64383026, -0.06898755, -0.05716188,  0.        ,  0.        ,\n",
       "         0.        ,  0.        ,  0.        ,  0.        , -0.92727205,\n",
       "         0.05962872,  0.        , -0.37083907],\n",
       "       [ 0.        ,  0.06158172,  0.        ,  0.        ,  0.        ,\n",
       "         0.        , -0.63565455,  0.        ,  0.        ,  0.4979048 ,\n",
       "        -0.35811473, -0.57177569,  0.        ]])"
      ]
     },
     "execution_count": 7,
     "metadata": {},
     "output_type": "execute_result"
    }
   ],
   "source": [
    "#重み係数の表示\n",
    "lr.coef_"
   ]
  },
  {
   "cell_type": "markdown",
   "metadata": {},
   "source": [
    "- 重みベクトルは、0ではないエントリがほんの僅かで、疎であることがわかる。"
   ]
  },
  {
   "cell_type": "code",
   "execution_count": 8,
   "metadata": {
    "collapsed": false
   },
   "outputs": [
    {
     "data": {
      "image/png": "[encoded data removed]",
      "text/plain": [
       "<matplotlib.figure.Figure at 0x7f6159beff50>"
      ]
     },
     "metadata": {},
     "output_type": "display_data"
    }
   ],
   "source": [
    "#正則化パスのグラフ化\n",
    "import matplotlib.pyplot as plt\n",
    "%matplotlib inline\n",
    "fig = plt.figure()\n",
    "ax = plt.subplot(111)\n",
    "#各係数の色リスト\n",
    "colors = ['blue','green','red','cyan','magenta','yellow','black','pink','lightgreen','lightblue',\n",
    "         'gray','indigo','orange']\n",
    "#空のリストを作成（重み係数、逆正則化パラメータ）\n",
    "weights,params = [],[]\n",
    "#逆生息化パラメータの値ごとに処理\n",
    "for c in np.arange(-4,6):\n",
    "    lr = LogisticRegression(penalty='l1',C=10**c,random_state=0)\n",
    "    lr.fit(X_train_std,y_train)\n",
    "    weights.append(lr.coef_[1])\n",
    "    params.append(10**c)\n",
    "\n",
    "#重み係数をNumpy配列に変換\n",
    "weights = np.array(weights)\n",
    "#各重み係数をプロット\n",
    "for column,color in zip(range(weights.shape[1]),colors):\n",
    "    #横軸を正則化パラメータ、縦軸を重み係数とした折れ線グラフ\n",
    "    plt.plot(params,weights[:,column],label=df_wine.columns[column+1],color=color)\n",
    "\n",
    "#y=0に黒い破線を引く\n",
    "plt.axhline(0,color='black',linestyle='--',linewidth=3)\n",
    "#横軸の範囲の設定\n",
    "plt.xlim([10**(-5),10**5])\n",
    "plt.ylabel('weight coefficient')\n",
    "plt.xlabel('C')\n",
    "#横軸を対数スケール\n",
    "plt.xscale('log')\n",
    "plt.legend(loc='upper left')\n",
    "ax.legend(loc='upper center',bbox_to_anchor=(1.38,1.03),ncol=1,fancybox=True)\n",
    "plt.show()"
   ]
  },
  {
   "cell_type": "markdown",
   "metadata": {
    "collapsed": true
   },
   "source": [
    "# 4.5.2 逐次特徴選択アルゴリズム\n",
    "- 特徴選択による次元削減は、モデルの複雑さを低減し、過学習を回避するもう１つの方法である。この方法は正則化されていない場合に役立つ。\n",
    "- 次元削減法は主に特徴選択と特等抽出の２つのカテゴリに分かれている。\n",
    "- 特徴選択では、元の特徴量の一部を選択する。\n",
    "- 特徴抽出では、新しい特徴部分空間を生成するために特徴量の集合から情報を抽出する。\n",
    "- 逐次特徴選択のアルゴリズムは、貪欲探索アルゴリズムの一種である。d次元の特徴空間をk次元の特徴空間に削減するために使用される。\n",
    "- 特徴選択のアルゴリズムには2つの目的がある。\n",
    "- 1つは、問題に最も関連がある特徴量の部分集合を自動的に選択することにより、計算効率を改善することである。\n",
    "- もう１つは無関係の特徴量やノイズを取り除くことで、モデルの汎化誤差を削減することである。正則化をサポートしていないアルゴリズムに役立つ\n",
    "- 逐次後退選択（SBS）は、元々の特徴空間の次元を減らすことが目的で、分類器の性能の低下を最小限に抑えた上で計算効率を改善する。\n",
    "- SBSは新しい特徴部分空間に目的の個数の特徴量が含まれるまで、特徴量を逐次的に削除していく。\n",
    "- 直感的には各段階で性能の低下が最も少ない特徴量を削除する。\n",
    "\n",
    "①アルゴリズムを$k=d$で初期化する。dは全体の特徴空間$X_{d}$の次元数を表す。\n",
    "\n",
    "②$J$の評価最大化する特徴量$x_{-}$を決定する。$x \\in X_{k}$\n",
    "$$x^{-} = argmaxJ(X_{k}-x)$$\n",
    "③特徴量の集合から特徴量$x^{-}$を削除する\n",
    "$$X_{k-1} := X_{k}-x^{-} ; k:=k-1$$\n",
    "④kが目的とする特徴量の個数に等しくなれば終了する。そうでなければ、スッテプ2に戻る。"
   ]
  },
  {
   "cell_type": "code",
   "execution_count": 9,
   "metadata": {
    "collapsed": false
   },
   "outputs": [],
   "source": [
    "#SBSアルゴリズム\n",
    "from sklearn.base import clone\n",
    "from itertools import combinations\n",
    "import numpy as np\n",
    "from sklearn.cross_validation import train_test_split\n",
    "from sklearn.metrics import accuracy_score\n",
    "\n",
    "class SBS():\n",
    "    '''\n",
    "    逐次後退選択を実行するクラス\n",
    "    '''\n",
    "    def __init__(self,estimator,k_features,scoring=accuracy_score,test_size=0.25,random_state=1):\n",
    "        self.scoring = scoring              #特徴量を評価する指標\n",
    "        self.estimator = clone(estimator)   #推定器\n",
    "        self.k_features = k_features        #選択する特徴量の個数\n",
    "        self.test_size = test_size          #テストデータの割合\n",
    "        self.random_state = random_state    #乱数種を固定する\n",
    "        \n",
    "    def fit(self,X,y):\n",
    "        # トレーニングデータとテストデータに分割\n",
    "        X_train,X_test,y_train,y_test = train_test_split(X,y,test_size=self.test_size,random_state=self.random_state)\n",
    "        # すべての特徴量の個数、列インデックス\n",
    "        dim = X_train.shape[1]\n",
    "        self.indices_ = tuple(range(dim))\n",
    "        self.subsets_ = [self.indices_]\n",
    "        # すべての特徴量を用いてスコアを算出\n",
    "        score = self._calc_score(X_train,y_train,X_test,y_test,self.indices_)\n",
    "        # スコアを格納\n",
    "        self.scores_ = [score]\n",
    "        # 指定した特徴量の個数になるまで処理を反復\n",
    "        while dim > self.k_features:\n",
    "            # 空のリストを生成（スコア、列インデックス）\n",
    "            scores = []\n",
    "            subsets = []\n",
    "            \n",
    "            # 特徴量の部分集合を表す列インデックスの組み合わせ毎に処理を反復\n",
    "            for p in combinations(self.indices_,r=dim-1):\n",
    "                #スコアを算出して格納\n",
    "                score = self._calc_score(X_train,y_train,X_test,y_test,p)\n",
    "                scores.append(score)\n",
    "                #特徴量の部分集合を表す列インデックスのリストを格納\n",
    "                subsets.append(p)\n",
    "            # 最良のスコアのインデックスを抽出\n",
    "            best = np.argmax(scores)\n",
    "            # 最良のスコアとなる列インデックスを抽出して格納\n",
    "            self.indices_ = subsets[best]\n",
    "            self.subsets_.append(self.indices_)\n",
    "            # 特徴量の個数を１つだけ減らして次のステップへ\n",
    "            dim -= 1\n",
    "            \n",
    "            #スコアを格納\n",
    "            self.scores_.append(scores[best])\n",
    "        #最後に格納したスコア\n",
    "        self.k_score_ = self.scores_[-1]\n",
    "        \n",
    "        return self\n",
    "    \n",
    "    def transform(self,X):\n",
    "        return X[:,self,indices_]\n",
    "    \n",
    "    def _calc_score(self,X_train,y_train,X_test,y_test,indices):\n",
    "        # 指定された列番号indicesの特徴量を抽出してモデルに適合\n",
    "        self.estimator.fit(X_train[:,indices],y_train)\n",
    "        # テストデータを用いてクラスラベルを予測\n",
    "        y_pred = self.estimator.predict(X_test[:,indices])\n",
    "        # 真のクラスラベルと予測値を用いてクラスを算出\n",
    "        score = self.scoring(y_test,y_pred)\n",
    "        return score"
   ]
  },
  {
   "cell_type": "code",
   "execution_count": 10,
   "metadata": {
    "collapsed": false
   },
   "outputs": [
    {
     "data": {
      "text/plain": [
       "<__main__.SBS instance at 0x7f616cc905a8>"
      ]
     },
     "execution_count": 10,
     "metadata": {},
     "output_type": "execute_result"
    }
   ],
   "source": [
    "#SBSを適用\n",
    "from sklearn.neighbors import KNeighborsClassifier\n",
    "import matplotlib.pyplot as plt\n",
    "# k近傍分類器のインスタンスを生成（近傍点数=2）\n",
    "knn = KNeighborsClassifier(n_neighbors=2)\n",
    "#逐次後退選択のインスタンスを生成（特徴量の個数が１になるまで特徴量を選択）\n",
    "sbs = SBS(knn,k_features=1)\n",
    "# 逐次後退選択を実行\n",
    "sbs.fit(X_train_std,y_train)"
   ]
  },
  {
   "cell_type": "markdown",
   "metadata": {},
   "source": [
    "- SBS実装では、fit関数の中ですでにデータセットをテストデータセットとトレーニングデータセットに分割している。\n",
    "- それでもトレーニングデータ・セットを入力することにより、元のテストデータ・セットがトレーニングデータセットの一部になるのを防いでいる。"
   ]
  },
  {
   "cell_type": "code",
   "execution_count": 11,
   "metadata": {
    "collapsed": false
   },
   "outputs": [
    {
     "data": {
      "image/png": "[encoded data removed]",
      "text/plain": [
       "<matplotlib.figure.Figure at 0x7f61597a7390>"
      ]
     },
     "metadata": {},
     "output_type": "display_data"
    }
   ],
   "source": [
    "# 近傍点の個数リスト（13，12，11，・・・1）\n",
    "k_feat = [len(k) for k in sbs.subsets_]\n",
    "# 横軸を近傍点の個数、縦軸をスコアと下折れ線グラフのプロット\n",
    "plt.plot(k_feat,sbs.scores_,marker='o')\n",
    "plt.ylim([0.7,1.1])\n",
    "plt.ylabel('Accuracy')\n",
    "plt.xlabel('Number of features')\n",
    "plt.grid()\n",
    "plt.show()"
   ]
  },
  {
   "cell_type": "markdown",
   "metadata": {},
   "source": [
    "- 特徴量の個数を減らしたため、検証データセットに対するKNN分類器の正解率が改善されている。\n",
    "- k={5,6,7,8,9,10,11}のとき、分類器が100%の正解率を達成したこともわかる。"
   ]
  },
  {
   "cell_type": "code",
   "execution_count": 12,
   "metadata": {
    "collapsed": false
   },
   "outputs": [
    {
     "name": "stdout",
     "output_type": "stream",
     "text": [
      "Index([u'Alcohol', u'Malic acid', u'Alcalinity of ash', u'Hue', u'Proline'], dtype='object')\n"
     ]
    }
   ],
   "source": [
    "#100%を達成した5つの特徴量\n",
    "k5 = list(sbs.subsets_[8])\n",
    "print(df_wine.columns[1:][k5])"
   ]
  },
  {
   "cell_type": "code",
   "execution_count": 13,
   "metadata": {
    "collapsed": false
   },
   "outputs": [
    {
     "name": "stdout",
     "output_type": "stream",
     "text": [
      "('Training accuracy:', 0.9838709677419355)\n",
      "('Test accuracy:', 0.94444444444444442)\n"
     ]
    }
   ],
   "source": [
    "#元のデータセットでKNN分類器の性能評価\n",
    "knn.fit(X_train_std,y_train)\n",
    "#トレーニングの正解率を出力\n",
    "print('Training accuracy:',knn.score(X_train_std,y_train))\n",
    "#テストの正解率を出力\n",
    "print('Test accuracy:',knn.score(X_test_std,y_test))"
   ]
  },
  {
   "cell_type": "markdown",
   "metadata": {},
   "source": [
    "- 特徴量全体を使用した場合、トレーニングデータ・セットで最大98.4%、テストデータ・セットで94.4%と若干低く、過学習の兆候が見られる。"
   ]
  },
  {
   "cell_type": "code",
   "execution_count": 14,
   "metadata": {
    "collapsed": false
   },
   "outputs": [
    {
     "name": "stdout",
     "output_type": "stream",
     "text": [
      "('Training accuracy:', 0.95967741935483875)\n",
      "('Test acuracy:', 0.96296296296296291)\n"
     ]
    }
   ],
   "source": [
    "#5個の特徴量を用いてモデルに適合\n",
    "knn.fit(X_train_std[:,k5],y_train)\n",
    "# トレーニングデータの正解率を出力\n",
    "print('Training accuracy:',knn.score(X_train_std[:,k5],y_train))\n",
    "#テストの正解率を出力\n",
    "print('Test acuracy:',knn.score(X_test_std[:,k5],y_test))"
   ]
  },
  {
   "cell_type": "markdown",
   "metadata": {
    "collapsed": true
   },
   "source": [
    "# 4.6 ランダムフォレストで特徴量の重要度にアクセス\n",
    "- データセットから特徴量を選択するもう１つの便利な方法は、ランダムフォレストを使用することである。\n",
    "- データが線形分離可能かどうかについて前提を設けなくても、フォレスト内のすべての決定木から計算された不純度の平均的な減少量として特徴量の重要度を測定できる。\n",
    "- RandomForestClassifierを適合させたあと、feature_importances_属性を使って値を取得すればよい"
   ]
  },
  {
   "cell_type": "code",
   "execution_count": 21,
   "metadata": {
    "collapsed": false
   },
   "outputs": [
    {
     "name": "stdout",
     "output_type": "stream",
     "text": [
      " 1) Color intensity                0.182483\n",
      " 2) Proline                        0.158610\n",
      " 3) Flavanoids                     0.150948\n",
      " 4) OD280/OD315 of diluted wines   0.131987\n",
      " 5) Alcohol                        0.106589\n",
      " 6) Hue                            0.078243\n",
      " 7) Total phenols                  0.060718\n",
      " 8) Alcalinity of ash              0.032033\n",
      " 9) Malic acid                     0.025400\n",
      "10) Proanthocyanins                0.022351\n",
      "11) Magnesium                      0.022078\n",
      "12) Nonflavanoid phenols           0.014645\n",
      "13) Ash                            0.013916\n"
     ]
    }
   ],
   "source": [
    "from sklearn.ensemble import RandomForestClassifier\n",
    "#wineデータセットの特徴量の名称\n",
    "feat_labels = df_wine.columns[1:]\n",
    "#ランダムフォレストオブジェクトの生成\n",
    "#（木の個数=10000,すべてのコアを用いて並列計算実行）\n",
    "forest = RandomForestClassifier(n_estimators=10000,random_state=0,n_jobs=-1)\n",
    "forest.fit(X_train,y_train)\n",
    "#特徴量の重要度を抽出\n",
    "importances = forest.feature_importances_\n",
    "#重要度の降順で特徴量のインデックスを抽出\n",
    "indices = np.argsort(importances)[::-1]\n",
    "#重要度の降順で特徴量の名称、重要度を表示\n",
    "for f in range(X_train.shape[1]):\n",
    "    print(\"%2d) %-*s %f\") %(f+1,30,feat_labels[indices[f]],importances[indices[f]])"
   ]
  },
  {
   "cell_type": "code",
   "execution_count": 29,
   "metadata": {
    "collapsed": false
   },
   "outputs": [
    {
     "data": {
      "image/png": "[encoded data removed]",
      "text/plain": [
       "<matplotlib.figure.Figure at 0x7f6159b0c990>"
      ]
     },
     "metadata": {},
     "output_type": "display_data"
    }
   ],
   "source": [
    "plt.figure(figsize=(10,5))\n",
    "plt.title('Feature Importances')\n",
    "plt.bar(range(X_train.shape[1]),importances[indices],color='lightblue',align='center')\n",
    "plt.xticks(range(X_train.shape[1]),feat_labels[indices],rotation=90)\n",
    "plt.xlim([-1,X_train.shape[1]])\n",
    "plt.show()"
   ]
  },
  {
   "cell_type": "markdown",
   "metadata": {},
   "source": [
    "- 特徴量の重要度は合計して1.0になるように正規化されていることに注意\n",
    "- 意味解釈可能性に関して注意しなくてはならない。例えば、２つ以上の特徴量の相関が高い場合、１つの特徴量のランクは非常に高いものの、残りの特徴量の重要度はランクに十分に反映されていないかもしれない。\n",
    "- ただし、特徴量の重要度の解釈よりもモデルの予測性に関心があるだけであるなら、この問題について気にする必要はない。"
   ]
  },
  {
   "cell_type": "code",
   "execution_count": 31,
   "metadata": {
    "collapsed": false
   },
   "outputs": [
    {
     "name": "stderr",
     "output_type": "stream",
     "text": [
      "/home/kyohei/anaconda2/lib/python2.7/site-packages/sklearn/utils/__init__.py:93: DeprecationWarning: Function transform is deprecated; Support to use estimators as feature selectors will be removed in version 0.19. Use SelectFromModel instead.\n",
      "  warnings.warn(msg, category=DeprecationWarning)\n"
     ]
    },
    {
     "data": {
      "text/plain": [
       "(124, 3)"
      ]
     },
     "execution_count": 31,
     "metadata": {},
     "output_type": "execute_result"
    }
   ],
   "source": [
    "#最後に、transformメソッドの使い方\n",
    "#以下のコードはsklear0.19以降では使えなくなる可能性がある。\n",
    "\n",
    "#重要度が0.15以上の特徴量を抽出\n",
    "X_selected = forest.transform(X_train,threshold=0.15) #重要度の高い特徴量だけを抜き出したデータセットになる。\n",
    "X_selected.shape"
   ]
  }
 ],
 "metadata": {
  "kernelspec": {
   "display_name": "Python 2",
   "language": "python",
   "name": "python2"
  },
  "language_info": {
   "codemirror_mode": {
    "name": "ipython",
    "version": 2
   },
   "file_extension": ".py",
   "mimetype": "text/x-python",
   "name": "python",
   "nbconvert_exporter": "python",
   "pygments_lexer": "ipython2",
   "version": "2.7.11"
  }
 },
 "nbformat": 4,
 "nbformat_minor": 0
}
