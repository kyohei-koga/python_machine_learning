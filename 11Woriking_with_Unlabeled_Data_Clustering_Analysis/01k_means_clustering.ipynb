{
 "cells": [
  {
   "cell_type": "markdown",
   "metadata": {},
   "source": [
    "# クラスタ分析 -ラベルなしデータの分析\n",
    "- 教師なし学習法に属するクラスタ分析について見ていく\n",
    "- クラスタ分析では、正しい答えが事前にわかっていないデータから隠れた構造を見つけ出すことができる。\n",
    "- クラスタリングの目標は、データを自然なグループにまとめる方法を見つけ出すことである。\n",
    "- 同じクラスタのアイテムは異なるクラスタのアイテムよりも互いに類似している。\n",
    "\n",
    "1.k-means法を使って類似点の中心を見つけ出す。\n",
    "\n",
    "2.階層的クラスタ木をボトムアップ方式で構築する。\n",
    "\n",
    "3.密度に基づくクラスタリングアプローチを使ってオブジェクトの任意の形状を識別する。"
   ]
  },
  {
   "cell_type": "markdown",
   "metadata": {},
   "source": [
    "# 11.1 k-means法を使った類似度によるオブジェクトのグループ化\n",
    "- ビジネスにおけるクラスタリングの用途としては、リコメンデーションエンジンのベースとして、異なるテーマのドキュメント、音楽、映画を同じグループにまとめることや、共通の購入履歴に基づいて同じような関心を持つ顧客を見つけることが挙げられる。\n",
    "- k-means法はプロトタイプベースクラスタリングというカテゴリに属している。\n",
    "- プロトタイプネースクラスタリングは各クラスがプロトタイプによって表されることを意味する。\n",
    "- プロトタイプは、セントロイドかメドイドのどちらかになる。\n",
    "- セントロイドは、特徴量が連続値の場合に、類似する点の中心を表す。\n",
    "- メドイドは、特徴量がカテゴリ値の場合に、最も代表的または最も頻度の高い点を表す。\n",
    "- k-meansほうが最も効果的なのは、球状のクラスタの識別である。\n",
    "- kmeans法の問題点の１つは、クラスタの個数kを指定しなければならないことだ。"
   ]
  },
  {
   "cell_type": "code",
   "execution_count": 5,
   "metadata": {
    "collapsed": false
   },
   "outputs": [
    {
     "data": {
      "image/png": "[encoded data removed]",
      "text/plain": [
       "<matplotlib.figure.Figure at 0x7f09c3f23890>"
      ]
     },
     "metadata": {},
     "output_type": "display_data"
    }
   ],
   "source": [
    "from sklearn.datasets import make_blobs\n",
    "X,y = make_blobs(n_samples=150,#サンプル点の総数\n",
    "                n_features=2,#特徴量の個数\n",
    "                centers=3,#クラスタの個数\n",
    "                cluster_std=0.5,#クラスタ内標準偏差\n",
    "                shuffle=True,#サンプルをシャッフル\n",
    "                random_state=0)#乱数生成器の状態を指定\n",
    "import matplotlib.pyplot as plt\n",
    "%matplotlib inline\n",
    "plt.scatter(X[:,0],X[:,1],c='white',marker='o',s=50)\n",
    "plt.grid()\n",
    "plt.show()"
   ]
  },
  {
   "cell_type": "markdown",
   "metadata": {},
   "source": [
    "- 特徴量の類似度に基づいてサンプルをグループ化することがここでの目標となる。\n",
    "- kmeans法を使って実現できる。\n",
    "\n",
    "1.クラスタの中心の初期値として、サンプル点からk個のセントロイドをランダムに選び出す。\n",
    "\n",
    "2.各サンプルを最も近いセントロイド$\\mu^{(j)}$に割り当てる。\n",
    "$$\\mu^{(j)},\\, j\\in \\{1\\ldots,k \\}$$\n",
    "\n",
    "3.セントロイドに割当られたサンプルの中心にセントロイドを移動する。\n",
    "\n",
    "4.サンプル点へのクラスタの割当が変化しなくなるか、ユーザ定義の許容値またはイテレーションの最大回数に達するまでステップ2〜3を繰り返す。"
   ]
  },
  {
   "cell_type": "markdown",
   "metadata": {},
   "source": [
    "- 類似度は「距離が離れていないこと」として定義できる。\n",
    "- 連続値の特徴量を持つサンプルのクラスタリングにおいてよく使用される距離は、ユーグリッドの２乗である。\n",
    "- m次元空間にある２つの点$\\vec{x}$と$\\vec{y}$のユーグリド距離の２乗は、以下のように定義できる。\n",
    "$$d(\\vec{x},\\vec{y})^{2} = \\sum^{m}_{j=1}(x_{j}-y_{j})^{2}=\\| \\vec{x}-\\vec{y} \\|^{2}_{2}$$\n",
    "- インデックスjはサンプル点$\\vec{x}$と$\\vec{y}$のj次元目を表す。\n",
    "- これ以降、上付き文字のiはサンプルのインデックス、jはクラスタのインデックスを表すものとする。"
   ]
  },
  {
   "cell_type": "markdown",
   "metadata": {},
   "source": [
    "- クラスタ内誤差平方和（SSE）を反復的に最小化するという単純な最適化問題を取り上げる。\n",
    "- クラスタ内誤差平方和は、クラスタの慣性とも呼ばれる。\n",
    "$$SSE=\\sum^{n}_{i=1}\\sum^{k}_{j=1}w^{(i,j)}\\| \\vec{x}^{(i)} - \\vec{\\mu}^{(j)} \\|^{2}_{2}$$\n",
    "- $\\mu^{(j)}$はクラスタjのセントロイドであり、サンプル点$\\vec{x}^{(i)}$がクラスタ内に存在する場合は$w^{(i,j)}=1$、そうでない場合は$w^{(i,j)}=0$になる"
   ]
  },
  {
   "cell_type": "code",
   "execution_count": 7,
   "metadata": {
    "collapsed": false
   },
   "outputs": [],
   "source": [
    "from sklearn.cluster import KMeans\n",
    "km = KMeans(n_clusters=3, #クラスタの個数\n",
    "           init='random', #セントロイドの初期値をランダムに選択\n",
    "           n_init=10, #異なるセントロイドの初期値を用いたk-meansアルゴリズムの実行回数 \n",
    "           #SSEが最も小さいモデルを最終モデルとして選択\n",
    "           max_iter=300, #k-meansアルゴリズム内の最大イテレーション回数\n",
    "           tol=1e-4, #収束判定するための相対的な許容誤差\n",
    "           random_state=0) #セントロイドの初期化に持ちる乱数発生器の状態\n",
    "y_km = km.fit_predict(X) #クラスタ中心の計算と各サンプルのインデックス予測"
   ]
  },
  {
   "cell_type": "code",
   "execution_count": null,
   "metadata": {
    "collapsed": true
   },
   "outputs": [],
   "source": []
  }
 ],
 "metadata": {
  "kernelspec": {
   "display_name": "Python 2",
   "language": "python",
   "name": "python2"
  },
  "language_info": {
   "codemirror_mode": {
    "name": "ipython",
    "version": 2
   },
   "file_extension": ".py",
   "mimetype": "text/x-python",
   "name": "python",
   "nbconvert_exporter": "python",
   "pygments_lexer": "ipython2",
   "version": "2.7.12"
  }
 },
 "nbformat": 4,
 "nbformat_minor": 0
}
